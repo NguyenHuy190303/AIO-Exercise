{
  "cells": [
    {
      "cell_type": "markdown",
      "metadata": {
        "id": "CEc6rdo-67MK"
      },
      "source": [
        "# Version optimized\n",
        "Phiên bản này được tối ưu hóa bằng cách sử dụng batching và cải thiện hiệu suất xử lý."
      ]
    },
    {
      "cell_type": "code",
      "execution_count": 25,
      "metadata": {
        "colab": {
          "base_uri": "https://localhost:8080/"
        },
        "id": "GdGZxibY67ML",
        "outputId": "b4069be8-81ca-46c2-bb19-24800853c573"
      },
      "outputs": [
        {
          "name": "stdout",
          "output_type": "stream",
          "text": [
            "Requirement already satisfied: loguru in /usr/local/lib/python3.11/dist-packages (0.7.3)\n"
          ]
        }
      ],
      "source": [
        "# Loguru tự động ghi lại traceback (dấu vết lỗi) mà không cần cấu hình thêm\n",
        "! pip install loguru"
      ]
    },
    {
      "cell_type": "code",
      "execution_count": 26,
      "metadata": {
        "id": "A2TAE0EH67MM"
      },
      "outputs": [],
      "source": [
        "# ! pip install opencv-python opencv-contrib-python"
      ]
    },
    {
      "cell_type": "code",
      "execution_count": 27,
      "metadata": {
        "id": "-VqH25oh7dQa"
      },
      "outputs": [],
      "source": [
        "# from google.colab import drive\n",
        "# drive.mount('/content/drive')"
      ]
    },
    {
      "cell_type": "code",
      "execution_count": 28,
      "metadata": {
        "colab": {
          "base_uri": "https://localhost:8080/"
        },
        "id": "6v_N6Nv98HqR",
        "outputId": "5e6b9f62-0ebb-4ec1-cda5-a540931bf61d"
      },
      "outputs": [
        {
          "name": "stdout",
          "output_type": "stream",
          "text": [
            "Requirement already satisfied: imageio[pyav] in /usr/local/lib/python3.11/dist-packages (2.36.1)\n",
            "Requirement already satisfied: numpy in /usr/local/lib/python3.11/dist-packages (from imageio[pyav]) (1.26.4)\n",
            "Requirement already satisfied: pillow>=8.3.2 in /usr/local/lib/python3.11/dist-packages (from imageio[pyav]) (11.1.0)\n",
            "Requirement already satisfied: av in /usr/local/lib/python3.11/dist-packages (from imageio[pyav]) (14.0.1)\n"
          ]
        }
      ],
      "source": [
        "! pip install imageio[pyav]"
      ]
    },
    {
      "cell_type": "code",
      "execution_count": 29,
      "metadata": {
        "colab": {
          "base_uri": "https://localhost:8080/"
        },
        "id": "Kwa1zH0C7EW_",
        "outputId": "1efd0cb4-222b-41cb-d20d-292f2201f7bd"
      },
      "outputs": [
        {
          "name": "stdout",
          "output_type": "stream",
          "text": [
            "Requirement already satisfied: ultralytics in /usr/local/lib/python3.11/dist-packages (8.3.65)\n",
            "Requirement already satisfied: numpy>=1.23.0 in /usr/local/lib/python3.11/dist-packages (from ultralytics) (1.26.4)\n",
            "Requirement already satisfied: matplotlib>=3.3.0 in /usr/local/lib/python3.11/dist-packages (from ultralytics) (3.10.0)\n",
            "Requirement already satisfied: opencv-python>=4.6.0 in /usr/local/lib/python3.11/dist-packages (from ultralytics) (4.10.0.84)\n",
            "Requirement already satisfied: pillow>=7.1.2 in /usr/local/lib/python3.11/dist-packages (from ultralytics) (11.1.0)\n",
            "Requirement already satisfied: pyyaml>=5.3.1 in /usr/local/lib/python3.11/dist-packages (from ultralytics) (6.0.2)\n",
            "Requirement already satisfied: requests>=2.23.0 in /usr/local/lib/python3.11/dist-packages (from ultralytics) (2.32.3)\n",
            "Requirement already satisfied: scipy>=1.4.1 in /usr/local/lib/python3.11/dist-packages (from ultralytics) (1.13.1)\n",
            "Requirement already satisfied: torch>=1.8.0 in /usr/local/lib/python3.11/dist-packages (from ultralytics) (2.5.1+cu121)\n",
            "Requirement already satisfied: torchvision>=0.9.0 in /usr/local/lib/python3.11/dist-packages (from ultralytics) (0.20.1+cu121)\n",
            "Requirement already satisfied: tqdm>=4.64.0 in /usr/local/lib/python3.11/dist-packages (from ultralytics) (4.67.1)\n",
            "Requirement already satisfied: psutil in /usr/local/lib/python3.11/dist-packages (from ultralytics) (5.9.5)\n",
            "Requirement already satisfied: py-cpuinfo in /usr/local/lib/python3.11/dist-packages (from ultralytics) (9.0.0)\n",
            "Requirement already satisfied: pandas>=1.1.4 in /usr/local/lib/python3.11/dist-packages (from ultralytics) (2.2.2)\n",
            "Requirement already satisfied: seaborn>=0.11.0 in /usr/local/lib/python3.11/dist-packages (from ultralytics) (0.13.2)\n",
            "Requirement already satisfied: ultralytics-thop>=2.0.0 in /usr/local/lib/python3.11/dist-packages (from ultralytics) (2.0.14)\n",
            "Requirement already satisfied: contourpy>=1.0.1 in /usr/local/lib/python3.11/dist-packages (from matplotlib>=3.3.0->ultralytics) (1.3.1)\n",
            "Requirement already satisfied: cycler>=0.10 in /usr/local/lib/python3.11/dist-packages (from matplotlib>=3.3.0->ultralytics) (0.12.1)\n",
            "Requirement already satisfied: fonttools>=4.22.0 in /usr/local/lib/python3.11/dist-packages (from matplotlib>=3.3.0->ultralytics) (4.55.3)\n",
            "Requirement already satisfied: kiwisolver>=1.3.1 in /usr/local/lib/python3.11/dist-packages (from matplotlib>=3.3.0->ultralytics) (1.4.8)\n",
            "Requirement already satisfied: packaging>=20.0 in /usr/local/lib/python3.11/dist-packages (from matplotlib>=3.3.0->ultralytics) (24.2)\n",
            "Requirement already satisfied: pyparsing>=2.3.1 in /usr/local/lib/python3.11/dist-packages (from matplotlib>=3.3.0->ultralytics) (3.2.1)\n",
            "Requirement already satisfied: python-dateutil>=2.7 in /usr/local/lib/python3.11/dist-packages (from matplotlib>=3.3.0->ultralytics) (2.8.2)\n",
            "Requirement already satisfied: pytz>=2020.1 in /usr/local/lib/python3.11/dist-packages (from pandas>=1.1.4->ultralytics) (2024.2)\n",
            "Requirement already satisfied: tzdata>=2022.7 in /usr/local/lib/python3.11/dist-packages (from pandas>=1.1.4->ultralytics) (2024.2)\n",
            "Requirement already satisfied: charset-normalizer<4,>=2 in /usr/local/lib/python3.11/dist-packages (from requests>=2.23.0->ultralytics) (3.4.1)\n",
            "Requirement already satisfied: idna<4,>=2.5 in /usr/local/lib/python3.11/dist-packages (from requests>=2.23.0->ultralytics) (3.10)\n",
            "Requirement already satisfied: urllib3<3,>=1.21.1 in /usr/local/lib/python3.11/dist-packages (from requests>=2.23.0->ultralytics) (2.3.0)\n",
            "Requirement already satisfied: certifi>=2017.4.17 in /usr/local/lib/python3.11/dist-packages (from requests>=2.23.0->ultralytics) (2024.12.14)\n",
            "Requirement already satisfied: filelock in /usr/local/lib/python3.11/dist-packages (from torch>=1.8.0->ultralytics) (3.16.1)\n",
            "Requirement already satisfied: typing-extensions>=4.8.0 in /usr/local/lib/python3.11/dist-packages (from torch>=1.8.0->ultralytics) (4.12.2)\n",
            "Requirement already satisfied: networkx in /usr/local/lib/python3.11/dist-packages (from torch>=1.8.0->ultralytics) (3.4.2)\n",
            "Requirement already satisfied: jinja2 in /usr/local/lib/python3.11/dist-packages (from torch>=1.8.0->ultralytics) (3.1.5)\n",
            "Requirement already satisfied: fsspec in /usr/local/lib/python3.11/dist-packages (from torch>=1.8.0->ultralytics) (2024.10.0)\n",
            "Requirement already satisfied: nvidia-cuda-nvrtc-cu12==12.1.105 in /usr/local/lib/python3.11/dist-packages (from torch>=1.8.0->ultralytics) (12.1.105)\n",
            "Requirement already satisfied: nvidia-cuda-runtime-cu12==12.1.105 in /usr/local/lib/python3.11/dist-packages (from torch>=1.8.0->ultralytics) (12.1.105)\n",
            "Requirement already satisfied: nvidia-cuda-cupti-cu12==12.1.105 in /usr/local/lib/python3.11/dist-packages (from torch>=1.8.0->ultralytics) (12.1.105)\n",
            "Requirement already satisfied: nvidia-cudnn-cu12==9.1.0.70 in /usr/local/lib/python3.11/dist-packages (from torch>=1.8.0->ultralytics) (9.1.0.70)\n",
            "Requirement already satisfied: nvidia-cublas-cu12==12.1.3.1 in /usr/local/lib/python3.11/dist-packages (from torch>=1.8.0->ultralytics) (12.1.3.1)\n",
            "Requirement already satisfied: nvidia-cufft-cu12==11.0.2.54 in /usr/local/lib/python3.11/dist-packages (from torch>=1.8.0->ultralytics) (11.0.2.54)\n",
            "Requirement already satisfied: nvidia-curand-cu12==10.3.2.106 in /usr/local/lib/python3.11/dist-packages (from torch>=1.8.0->ultralytics) (10.3.2.106)\n",
            "Requirement already satisfied: nvidia-cusolver-cu12==11.4.5.107 in /usr/local/lib/python3.11/dist-packages (from torch>=1.8.0->ultralytics) (11.4.5.107)\n",
            "Requirement already satisfied: nvidia-cusparse-cu12==12.1.0.106 in /usr/local/lib/python3.11/dist-packages (from torch>=1.8.0->ultralytics) (12.1.0.106)\n",
            "Requirement already satisfied: nvidia-nccl-cu12==2.21.5 in /usr/local/lib/python3.11/dist-packages (from torch>=1.8.0->ultralytics) (2.21.5)\n",
            "Requirement already satisfied: nvidia-nvtx-cu12==12.1.105 in /usr/local/lib/python3.11/dist-packages (from torch>=1.8.0->ultralytics) (12.1.105)\n",
            "Requirement already satisfied: triton==3.1.0 in /usr/local/lib/python3.11/dist-packages (from torch>=1.8.0->ultralytics) (3.1.0)\n",
            "Requirement already satisfied: sympy==1.13.1 in /usr/local/lib/python3.11/dist-packages (from torch>=1.8.0->ultralytics) (1.13.1)\n",
            "Requirement already satisfied: nvidia-nvjitlink-cu12 in /usr/local/lib/python3.11/dist-packages (from nvidia-cusolver-cu12==11.4.5.107->torch>=1.8.0->ultralytics) (12.6.85)\n",
            "Requirement already satisfied: mpmath<1.4,>=1.1.0 in /usr/local/lib/python3.11/dist-packages (from sympy==1.13.1->torch>=1.8.0->ultralytics) (1.3.0)\n",
            "Requirement already satisfied: six>=1.5 in /usr/local/lib/python3.11/dist-packages (from python-dateutil>=2.7->matplotlib>=3.3.0->ultralytics) (1.17.0)\n",
            "Requirement already satisfied: MarkupSafe>=2.0 in /usr/local/lib/python3.11/dist-packages (from jinja2->torch>=1.8.0->ultralytics) (3.0.2)\n"
          ]
        }
      ],
      "source": [
        "! pip install ultralytics"
      ]
    },
    {
      "cell_type": "code",
      "execution_count": 30,
      "metadata": {
        "id": "fXiDVgwR67MM"
      },
      "outputs": [],
      "source": [
        "import argparse\n",
        "from collections import defaultdict\n",
        "import cv2\n",
        "import numpy as np\n",
        "from tqdm import tqdm\n",
        "from ultralytics import YOLO\n",
        "from loguru import logger\n",
        "import imageio.v3 as iio"
      ]
    },
    {
      "cell_type": "markdown",
      "metadata": {
        "id": "aHka2Mw967MM"
      },
      "source": [
        "## Định nghĩa cấu hình và khởi tạo video"
      ]
    },
    {
      "cell_type": "code",
      "execution_count": 31,
      "metadata": {
        "id": "PXtJT2lD67MN"
      },
      "outputs": [],
      "source": [
        "def load_config():\n",
        "    return {\n",
        "        \"model_path\": \"./model/yolo11l.pt\",\n",
        "        \"track_history_length\": 120,\n",
        "        \"batch_size\": 64, \n",
        "        \"line_thickness\": 4,\n",
        "        \"track_color\": [230, 230, 230] # wi\n",
        "    }\n",
        "\n",
        "def initialize_video(video_path):\n",
        "    cap = cv2.VideoCapture(video_path)\n",
        "    file_name = video_path.split(\"/\")[-1].split(\".\")[0]\n",
        "    output_path = f\"./{file_name}_tracking.mp4\"\n",
        "\n",
        "    return cap, output_path"
      ]
    },
    {
      "cell_type": "markdown",
      "metadata": {
        "id": "g-cLHzrW67MN"
      },
      "source": [
        "## Cập nhật lịch sử theo dõi: Cập nhật lịch sử theo dõi và loại bỏ các track cũ."
      ]
    },
    {
      "cell_type": "code",
      "execution_count": 32,
      "metadata": {
        "id": "2toRjdcb67MN"
      },
      "outputs": [],
      "source": [
        "def update_track_history(track_history, last_seen, track_ids, frame_count, batch_size, frame_idx, history_length):\n",
        "    \"\"\"Update tracking history and remove old tracks.\"\"\"\n",
        "    current_tracks = set(track_ids)\n",
        "    for track_id in list(track_history.keys()): \n",
        "        if track_id in current_tracks:\n",
        "            # Cập nhật thời điểm cuối cùng đối tượng được nhìn thấy\n",
        "            last_seen[track_id] = frame_count - (batch_size - frame_idx - 1)\n",
        "        elif frame_count - last_seen[track_id] > history_length:\n",
        "            # Xóa đối tượng nếu đã quá lâu không xuất hiện\n",
        "            del track_history[track_id] \n",
        "            del last_seen[track_id]  "
      ]
    },
    {
      "cell_type": "markdown",
      "metadata": {
        "id": "umhP7gUn67MN"
      },
      "source": [
        "## Vẽ các đường theo dõi trên frame"
      ]
    },
    {
      "cell_type": "code",
      "execution_count": 33,
      "metadata": {
        "id": "_yl9M6K_67MN"
      },
      "outputs": [],
      "source": [
        "def draw_tracks(boxes, track_ids, track_history, annotated_frame, config):\n",
        "    for box, track_id in zip(boxes, track_ids):\n",
        "        x, y, w, h = box\n",
        "        track = track_history[track_id]\n",
        "        track.append((float(x), float(y)))  # x, y center point\n",
        "        # retain 120 tracks for 120 frames\n",
        "        if len(track) > config['track_history_length']:\n",
        "            track.pop(0)\n",
        "\n",
        "            # Draw the tracking lines\n",
        "        points = np.hstack(track).astype(np.int32).reshape((-1, 1, 2))\n",
        "        cv2.polylines(annotated_frame, [points], isClosed=False, color=     \n",
        "            config['track_color'], thickness=config['line_thickness'])\n",
        "\n",
        "        return annotated_frame"
      ]
    },
    {
      "cell_type": "markdown",
      "metadata": {
        "id": "Y27ySZ1u67MN"
      },
      "source": [
        "## Xử lý một batch các frames"
      ]
    },
    {
      "cell_type": "code",
      "execution_count": 34,
      "metadata": {
        "id": "CHIzTqqq67MN"
      },
      "outputs": [],
      "source": [
        "def process_batch (model, batch_frames, track_history, last_seen, frame_count, config):\n",
        "    \"\"\"Process a batch of frames through YOLO model\"\"\"\n",
        "    results = model.track(\n",
        "        batch_frames,\n",
        "        persist=True,\n",
        "        tracker=\"botsort.yaml\",\n",
        "        show=False,\n",
        "        verbose=False,\n",
        "        iou=0.5,\n",
        "    )\n",
        "\n",
        "    processed_frames = []\n",
        "    for frame_idx, result in enumerate(results):\n",
        "        boxes = result.boxes.xywh.cpu()\n",
        "        track_ids = result.boxes.id.int().cpu().tolist()\n",
        "        # print(boxes)\n",
        "        # print(track_ids)\n",
        "        annotated_frame = result.plot(font_size=4, line_width=2)\n",
        "        annotated_frame = draw_tracks(boxes, track_ids, track_history, annotated_frame, config)\n",
        "        processed_frames.append(annotated_frame)\n",
        "    return processed_frames"
      ]
    },
    {
      "cell_type": "markdown",
      "metadata": {
        "id": "EFWxh7jO67MO"
      },
      "source": [
        "## Main Processing video"
      ]
    },
    {
      "cell_type": "code",
      "execution_count": 35,
      "metadata": {
        "id": "7GownKxy67MO"
      },
      "outputs": [],
      "source": [
        "def main(video_path):\n",
        "    config = load_config()\n",
        "    model = YOLO(config['model_path'])\n",
        "    cap, output_path = initialize_video(video_path)\n",
        "    track_history = defaultdict(list)\n",
        "    last_seen = defaultdict(int)\n",
        "\n",
        "    fps = int(cap.get(cv2.CAP_PROP_FPS))\n",
        "    total_frames = int(cap.get(cv2.CAP_PROP_FRAME_COUNT))\n",
        "\n",
        "    with iio.imopen(output_path, \"w\", plugin=\"pyav\") as writer:\n",
        "        writer.init_video_stream(\"libx264\", fps=fps)\n",
        "        with tqdm(total=total_frames, desc=\"Processing frames\", colour=\"green\") as pbar:\n",
        "            frame_count = 0\n",
        "            batch_frames = []\n",
        "\n",
        "            while cap.isOpened():\n",
        "                ret, frame = cap.read()\n",
        "                if not ret:\n",
        "                    print(\"Lỗi đọc frame\")\n",
        "                    # logger.info(\"No more frames to process. Exiting loop.\")\n",
        "                    break\n",
        "                frame_count += 1\n",
        "                batch_frames.append(frame)\n",
        "\n",
        "                if len(batch_frames) == config['batch_size'] or frame_count == total_frames:\n",
        "                    try:\n",
        "                        processed_frames = process_batch(model, batch_frames, track_history, last_seen, frame_count, config)\n",
        "                        for id_batch, frame in enumerate(processed_frames):\n",
        "                            writer.write_frame(frame)\n",
        "                            pbar.update(1)\n",
        "\n",
        "                        batch_frames = []\n",
        "                    except Exception as e:\n",
        "                        # logger.error(\n",
        "                        #     f\"An error occurred while processing frames: {e}\")\n",
        "                        # logger.exception(e)  # Log the full traceback for debugging\n",
        "                        print(e)\n",
        "\n",
        "        cap.release()\n",
        "        print(f\"The video was successfully saved to {output_path}\")"
      ]
    },
    {
      "cell_type": "code",
      "execution_count": 36,
      "metadata": {
        "colab": {
          "base_uri": "https://localhost:8080/"
        },
        "id": "MRpVEKBc67MO",
        "outputId": "8cf6f933-f36b-48b4-f373-75de7a7590f4"
      },
      "outputs": [
        {
          "name": "stderr",
          "output_type": "stream",
          "text": [
            "Processing frames: 100%|\u001b[32m██████████\u001b[0m| 1275/1275 [39:36<00:00,  1.86s/it]\n"
          ]
        },
        {
          "name": "stdout",
          "output_type": "stream",
          "text": [
            "Lỗi đọc frame\n",
            "The video was successfully saved to ./highway_tracking.mp4\n"
          ]
        }
      ],
      "source": [
        "main('/content/drive/MyDrive/AIO/data/data_ex3_module7/video/highway.mp4')"
      ]
    }
  ],
  "metadata": {
    "colab": {
      "provenance": []
    },
    "kernelspec": {
      "display_name": "AIOEx",
      "language": "python",
      "name": "python3"
    },
    "language_info": {
      "codemirror_mode": {
        "name": "ipython",
        "version": 3
      },
      "file_extension": ".py",
      "mimetype": "text/x-python",
      "name": "python",
      "nbconvert_exporter": "python",
      "pygments_lexer": "ipython3",
      "version": "3.10.15"
    }
  },
  "nbformat": 4,
  "nbformat_minor": 0
}
