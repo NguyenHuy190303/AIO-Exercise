{
 "cells": [
  {
   "cell_type": "code",
   "execution_count": 62,
   "metadata": {},
   "outputs": [],
   "source": [
    "from ultralytics import YOLO, YOLOWorld\n",
    "from ultralytics.engine.results import Boxes\n",
    "import cv2\n",
    "from pathlib import Path\n",
    "import uuid"
   ]
  },
  {
   "cell_type": "code",
   "execution_count": 63,
   "metadata": {},
   "outputs": [],
   "source": [
    "model = YOLO(\"./model/yolov8s-world.pt\")"
   ]
  },
  {
   "cell_type": "code",
   "execution_count": 76,
   "metadata": {},
   "outputs": [],
   "source": [
    "def save_detection_results(results : Boxes):\n",
    "    save_paths = []\n",
    "    \n",
    "    if len(results) > 0:\n",
    "        for i, result in enumerate(results):\n",
    "            annotated_img = result.plot()\n",
    "            # tránh avoid\n",
    "            save_path = Path(f\"./data/output/{uuid.uuid4()}.png\")\n",
    "            cv2.imwrite(str(save_path), annotated_img)\n",
    "            save_paths.append(str(save_path))\n",
    "    return save_paths"
   ]
  },
  {
   "cell_type": "code",
   "execution_count": 65,
   "metadata": {},
   "outputs": [],
   "source": [
    "# Define custom classes\n",
    "# <--------- Change this to the class you want to detect\n",
    "model.set_classes([\"bus\", \"glasses\"])"
   ]
  },
  {
   "cell_type": "code",
   "execution_count": 66,
   "metadata": {},
   "outputs": [
    {
     "name": "stdout",
     "output_type": "stream",
     "text": [
      "\n",
      "image 1/1 d:\\Asus\\AIO\\AIO-Exercise\\module7\\week3\\data\\images\\bus.jpg: 640x480 1 bus, 1 glasses, 229.1ms\n",
      "Speed: 2.0ms preprocess, 229.1ms inference, 1.0ms postprocess per image at shape (1, 3, 640, 480)\n"
     ]
    }
   ],
   "source": [
    "# Execute prediction on an image\n",
    "results: Boxes = model.predict(\"./data/images/bus.jpg\")"
   ]
  },
  {
   "cell_type": "code",
   "execution_count": 77,
   "metadata": {},
   "outputs": [
    {
     "name": "stdout",
     "output_type": "stream",
     "text": [
      "['data\\\\output\\\\9fd4ab39-1646-4b7e-bb3c-848b96584f49.png']\n"
     ]
    }
   ],
   "source": [
    "save_paths = save_detection_results(results)\n",
    "print(save_paths)"
   ]
  }
 ],
 "metadata": {
  "kernelspec": {
   "display_name": "AIOEx",
   "language": "python",
   "name": "python3"
  },
  "language_info": {
   "codemirror_mode": {
    "name": "ipython",
    "version": 3
   },
   "file_extension": ".py",
   "mimetype": "text/x-python",
   "name": "python",
   "nbconvert_exporter": "python",
   "pygments_lexer": "ipython3",
   "version": "3.10.15"
  }
 },
 "nbformat": 4,
 "nbformat_minor": 2
}
