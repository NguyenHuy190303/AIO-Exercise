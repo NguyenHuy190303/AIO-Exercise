{
 "cells": [
  {
   "cell_type": "code",
   "execution_count": 22,
   "metadata": {},
   "outputs": [],
   "source": [
    "import pandas as pd\n",
    "import numpy as np\n",
    "import matplotlib.pyplot as plt"
   ]
  },
  {
   "cell_type": "code",
   "execution_count": 23,
   "metadata": {},
   "outputs": [],
   "source": [
    "def predict(theta, x):\n",
    "    z = np.dot(x, theta)\n",
    "    y_hat = 1 / (1 + np.exp(-z))\n",
    "    return y_hat\n",
    "\n",
    "def compute_loss(y_hat, y):\n",
    "    y_hat = np.clip(y_hat, 1e-7, 1 - 1e-7)\n",
    "    L = (-y * np.log(y_hat) - (1 - y) * np.log(1 - y_hat)).mean()\n",
    "    return L\n",
    "\n",
    "def compute_gradient(x, y_hat, y):\n",
    "    gradient = np.dot(x.T, (y_hat - y)) / len(y)\n",
    "    return gradient\n",
    "\n",
    "def update_parameters(theta, lr, gradient):\n",
    "    new_theta = theta - lr * gradient\n",
    "\n",
    "    return new_theta\n",
    "\n",
    "def compute_accuracy(y_hat, y):\n",
    "    label = np.round(y_hat)\n",
    "    acc = (label == y).mean()\n",
    "    return acc"
   ]
  },
  {
   "cell_type": "markdown",
   "metadata": {},
   "source": [
    "### Question 13"
   ]
  },
  {
   "cell_type": "code",
   "execution_count": 24,
   "metadata": {},
   "outputs": [
    {
     "name": "stdout",
     "output_type": "stream",
     "text": [
      "0.9298899437785819\n"
     ]
    }
   ],
   "source": [
    "x = np.array([22.3, -1.5, 1.1, 1])\n",
    "theta = np.array([0.1, -0.15, 0.3, -0.2])\n",
    "\n",
    "print(predict(x, theta))"
   ]
  },
  {
   "cell_type": "markdown",
   "metadata": {},
   "source": [
    "### Question 14"
   ]
  },
  {
   "cell_type": "code",
   "execution_count": 25,
   "metadata": {},
   "outputs": [
    {
     "name": "stdout",
     "output_type": "stream",
     "text": [
      "0.504\n"
     ]
    }
   ],
   "source": [
    "y = np.array([1, 0, 0, 1])\n",
    "y_hat = np.array([0.8, 0.75, 0.3, 0.95])\n",
    "\n",
    "print(round(compute_loss(y_hat=y_hat, y=y), 3))"
   ]
  },
  {
   "cell_type": "markdown",
   "metadata": {},
   "source": [
    "### Question 16"
   ]
  },
  {
   "cell_type": "code",
   "execution_count": 26,
   "metadata": {},
   "outputs": [
    {
     "name": "stdout",
     "output_type": "stream",
     "text": [
      "[-0.0625  0.0625]\n"
     ]
    }
   ],
   "source": [
    "X =  np.array([[1, 2], [2, 1], [1, 1], [2, 2]])\n",
    "y_true =  np.array([0, 1, 0, 1])\n",
    "y_pred =  np.array([0.25, 0.75, 0.4, 0.8])\n",
    "\n",
    "print(compute_gradient(X, y_pred,y_true))"
   ]
  },
  {
   "cell_type": "markdown",
   "metadata": {},
   "source": [
    "### Question 17"
   ]
  },
  {
   "cell_type": "code",
   "execution_count": 27,
   "metadata": {},
   "outputs": [
    {
     "name": "stdout",
     "output_type": "stream",
     "text": [
      "1.0\n"
     ]
    }
   ],
   "source": [
    "y_true = np.array([1, 0, 1, 1])\n",
    "y_pred = np.array([0.85, 0.35, 0.9, 0.75])\n",
    "\n",
    "print(compute_accuracy(y_pred, y_true))"
   ]
  },
  {
   "cell_type": "markdown",
   "metadata": {},
   "source": [
    "### Question 18"
   ]
  },
  {
   "cell_type": "code",
   "execution_count": 28,
   "metadata": {},
   "outputs": [
    {
     "name": "stdout",
     "output_type": "stream",
     "text": [
      "[-0.2125 -0.4   ]\n"
     ]
    }
   ],
   "source": [
    "X = np.array([[1, 3], [2, 1], [3, 2], [1, 2]])\n",
    "y_true = np.array([1, 0, 1, 1])\n",
    "y_pred = np.array([0.7, 0.4, 0.6, 0.85])\n",
    "\n",
    "print(compute_gradient(X, y_pred, y_true))"
   ]
  }
 ],
 "metadata": {
  "kernelspec": {
   "display_name": "40daysPython_env",
   "language": "python",
   "name": "python3"
  },
  "language_info": {
   "codemirror_mode": {
    "name": "ipython",
    "version": 3
   },
   "file_extension": ".py",
   "mimetype": "text/x-python",
   "name": "python",
   "nbconvert_exporter": "python",
   "pygments_lexer": "ipython3",
   "version": "3.10.13"
  }
 },
 "nbformat": 4,
 "nbformat_minor": 2
}
