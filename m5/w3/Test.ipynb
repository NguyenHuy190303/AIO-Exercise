{
 "cells": [
  {
   "cell_type": "code",
   "execution_count": 1,
   "metadata": {},
   "outputs": [],
   "source": [
    "import numpy as np\n",
    "import pandas as pd\n",
    "import matplotlib.pyplot as plt\n",
    "import torch\n",
    "import torch.nn as nn\n",
    "import torch.nn.functional as F\n",
    "from torch.utils.data import Dataset, DataLoader\n",
    "\n",
    "from sklearn.model_selection import train_test_split\n",
    "from sklearn.preprocessing import StandardScaler"
   ]
  },
  {
   "cell_type": "code",
   "execution_count": null,
   "metadata": {},
   "outputs": [],
   "source": []
  },
  {
   "cell_type": "code",
   "execution_count": 4,
   "metadata": {},
   "outputs": [],
   "source": [
    "class MLP(nn.Module):\n",
    "    def __init__(self, input_dims, hidden_dims, output_dims) -> None:\n",
    "        super().__init__()\n",
    "        self.linear1 = nn.Linear(input_dims, hidden_dims)\n",
    "        self.linear2 = nn.Linear(hidden_dims, hidden_dims)\n",
    "        self.output = nn.Linear(hidden_dims, output_dims)\n",
    "\n",
    "    def forward(self, x):\n",
    "        x = self.linear1(x)\n",
    "        x = F.relu(x)\n",
    "        x = self.linear2(x)\n",
    "        x = F.relu(x)\n",
    "        output = self.output(x)\n",
    "        # Loại bỏ chiều dư thừa (chiều nào bằng 1 thì bỏ)\n",
    "        return output.squeeze(1)"
   ]
  },
  {
   "cell_type": "code",
   "execution_count": 5,
   "metadata": {},
   "outputs": [
    {
     "name": "stdout",
     "output_type": "stream",
     "text": [
      "Input:  tensor([[ 0.7580, -0.3075, -1.0812, -0.2021, -0.4499,  0.8572, -0.9408,  0.6023,\n",
      "          1.6305],\n",
      "        [-0.5905,  0.8994,  0.2108, -0.7351, -0.6002,  0.2306,  0.1573, -1.7813,\n",
      "          0.8387]])\n",
      "Output:  tensor([-0.1425, -0.2301], grad_fn=<SqueezeBackward1>)\n"
     ]
    }
   ],
   "source": [
    "# TEST MODEL\n",
    "\n",
    "input_dims = 9\n",
    "hidden_dims = 64\n",
    "output_dims = 1\n",
    "batch_size = 2  # Số lượng mẫu trong batch\n",
    "\n",
    "# Tạo dữ liệu đầu vào (batch_size x input_dims)\n",
    "x = torch.randn(batch_size, input_dims)\n",
    "\n",
    "# Khởi tạo mô hình và truyền đầu vào qua mô hình\n",
    "model_test = MLP(input_dims, hidden_dims, output_dims)\n",
    "output = model_test(x)\n",
    "\n",
    "# In kết quả\n",
    "print(\"Input: \", x)\n",
    "print(\"Output: \", output)"
   ]
  },
  {
   "cell_type": "code",
   "execution_count": 12,
   "metadata": {},
   "outputs": [
    {
     "name": "stdout",
     "output_type": "stream",
     "text": [
      "tensor([-0.1285, -0.0291], grad_fn=<SqueezeBackward1>)\n",
      "tensor([-0.1285, -0.0291], grad_fn=<SqueezeBackward1>)\n",
      "Loss: 0.38542574644088745\n"
     ]
    }
   ],
   "source": [
    "lr = 1e-2\n",
    "criterion = nn.MSELoss()\n",
    "optimizer = torch.optim.SGD(model_test.parameters(), lr=lr)\n",
    "\n",
    "\n",
    "x = torch.randn(2, 9)\n",
    "y = torch.randn(2)\n",
    "\n",
    "output = model_test.forward(x)\n",
    "print(output)\n",
    "output = model_test(x)\n",
    "print(output)\n",
    "loss = criterion(output, y)\n",
    "print(\"Loss:\", loss.item())"
   ]
  },
  {
   "cell_type": "code",
   "execution_count": 14,
   "metadata": {},
   "outputs": [
    {
     "data": {
      "text/plain": [
       "[-0.12845873832702637, -0.029060930013656616]"
      ]
     },
     "execution_count": 14,
     "metadata": {},
     "output_type": "execute_result"
    }
   ],
   "source": [
    "output.tolist()"
   ]
  },
  {
   "cell_type": "code",
   "execution_count": 9,
   "metadata": {},
   "outputs": [
    {
     "name": "stdout",
     "output_type": "stream",
     "text": [
      "Using model(x):\n",
      "Forward method called\n",
      "tensor([[ 0.3481],\n",
      "        [ 0.2654],\n",
      "        [-1.2926],\n",
      "        [-0.2435],\n",
      "        [ 0.5492]], grad_fn=<AddmmBackward0>)\n",
      "\n",
      "Using model.forward(x):\n",
      "Forward method called\n",
      "tensor([[ 0.3481],\n",
      "        [ 0.2654],\n",
      "        [-1.2926],\n",
      "        [-0.2435],\n",
      "        [ 0.5492]], grad_fn=<AddmmBackward0>)\n"
     ]
    }
   ],
   "source": [
    "import torch\n",
    "import torch.nn as nn\n",
    "\n",
    "# Mô hình đơn giản\n",
    "class SimpleModel(nn.Module):\n",
    "    def __init__(self):\n",
    "        super().__init__()\n",
    "        self.linear = nn.Linear(10, 1)\n",
    "\n",
    "    def forward(self, x):\n",
    "        print(\"Forward method called\")\n",
    "        return self.linear(x)\n",
    "\n",
    "\n",
    "model = SimpleModel()\n",
    "x = torch.randn(5, 10)\n",
    "\n",
    "# Gọi bằng model(x)\n",
    "print(\"Using model(x):\")\n",
    "output = model(x)  # Gọi thông qua cơ chế PyTorch\n",
    "print(output)\n",
    "\n",
    "# Gọi trực tiếp model.forward(x)\n",
    "print(\"\\nUsing model.forward(x):\")\n",
    "output = model.forward(x)  # Gọi trực tiếp\n",
    "print(output)"
   ]
  }
 ],
 "metadata": {
  "kernelspec": {
   "display_name": "40daysPython_env",
   "language": "python",
   "name": "python3"
  },
  "language_info": {
   "codemirror_mode": {
    "name": "ipython",
    "version": 3
   },
   "file_extension": ".py",
   "mimetype": "text/x-python",
   "name": "python",
   "nbconvert_exporter": "python",
   "pygments_lexer": "ipython3",
   "version": "3.10.13"
  }
 },
 "nbformat": 4,
 "nbformat_minor": 2
}
