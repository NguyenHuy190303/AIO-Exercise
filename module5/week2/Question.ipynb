{
 "cells": [
  {
   "cell_type": "code",
   "execution_count": 2,
   "metadata": {},
   "outputs": [],
   "source": [
    "import numpy as np\n",
    "import pandas as pd"
   ]
  },
  {
   "cell_type": "code",
   "execution_count": 15,
   "metadata": {},
   "outputs": [],
   "source": [
    "def softmax_N_batch(z):\n",
    "    return np.exp(z) / np.sum(np.exp(z), axis=1, keepdims=True)\n",
    "\n",
    "def softmax_sample(z):\n",
    "    return np.exp(z) / np.sum(np.exp(z))"
   ]
  },
  {
   "cell_type": "code",
   "execution_count": null,
   "metadata": {},
   "outputs": [],
   "source": [
    "def predict(x, theta):\n",
    "    z = np.dot(x, theta)\n",
    "    z = softmax_N_batch(z)\n",
    "    return z"
   ]
  },
  {
   "cell_type": "code",
   "execution_count": 12,
   "metadata": {},
   "outputs": [],
   "source": [
    "def compute_loss_N_batch(y_hat, y):\n",
    "    n = y.size\n",
    "    return -np.log(np.sum((y_hat * y), axis=1)) / n\n",
    "\n",
    "\n",
    "def compute_loss_sample(y_hat, y):\n",
    "    return -np.log(np.sum((y_hat * y)))"
   ]
  },
  {
   "cell_type": "code",
   "execution_count": null,
   "metadata": {},
   "outputs": [],
   "source": [
    "def compute_gradient(y_hat, y, x):\n",
    "    n = y.size\n",
    "\n",
    "    return np.dot(x.T, (y_hat - y)) / n"
   ]
  },
  {
   "cell_type": "code",
   "execution_count": 7,
   "metadata": {},
   "outputs": [],
   "source": [
    "def update_theta(theta, gradient, lr):\n",
    "    new_theta = theta - lr * gradient\n",
    "    return new_theta"
   ]
  },
  {
   "cell_type": "code",
   "execution_count": 8,
   "metadata": {},
   "outputs": [],
   "source": [
    "def compute_accuracy(x, y, theta):\n",
    "    y_hat = predict(x, theta)\n",
    "    label_hat = np.argmax(y_hat, axis=1)\n",
    "    labe_true = np.argmax(y, axis=1)\n",
    "    acc = (label_hat == labe_true).mean()\n",
    "    return round(acc, 3)"
   ]
  },
  {
   "cell_type": "markdown",
   "metadata": {},
   "source": [
    "### Question 5"
   ]
  },
  {
   "cell_type": "code",
   "execution_count": 13,
   "metadata": {},
   "outputs": [
    {
     "name": "stdout",
     "output_type": "stream",
     "text": [
      "0.916290731874155\n"
     ]
    }
   ],
   "source": [
    "y_hat = np.array([0.4, 0.15, 0.05, 0.4])\n",
    "y = np.array([1, 0, 0, 0])\n",
    "\n",
    "print(compute_loss_sample(y_hat, y))"
   ]
  },
  {
   "cell_type": "markdown",
   "metadata": {},
   "source": [
    "### Question 6"
   ]
  },
  {
   "cell_type": "code",
   "execution_count": 16,
   "metadata": {},
   "outputs": [
    {
     "name": "stdout",
     "output_type": "stream",
     "text": [
      "[0.01314897 0.00483724 0.71790961 0.26410418]\n"
     ]
    }
   ],
   "source": [
    "z = np.array([-1, -2, 3, 2])\n",
    "\n",
    "print(softmax_sample(z))"
   ]
  },
  {
   "cell_type": "code",
   "execution_count": null,
   "metadata": {},
   "outputs": [],
   "source": [
    "y_hat = np.array([0, 1, 3, 2, 0, 2, 1, 2])\n",
    "y = np.array([0, 0, 3, 2, 1, 2, 2, 1])\n",
    "\n",
    "acc = (y_hat == y).mean()\n",
    "print(acc)"
   ]
  }
 ],
 "metadata": {
  "kernelspec": {
   "display_name": "40daysPython_env",
   "language": "python",
   "name": "python3"
  },
  "language_info": {
   "codemirror_mode": {
    "name": "ipython",
    "version": 3
   },
   "file_extension": ".py",
   "mimetype": "text/x-python",
   "name": "python",
   "nbconvert_exporter": "python",
   "pygments_lexer": "ipython3",
   "version": "3.10.13"
  }
 },
 "nbformat": 4,
 "nbformat_minor": 2
}
