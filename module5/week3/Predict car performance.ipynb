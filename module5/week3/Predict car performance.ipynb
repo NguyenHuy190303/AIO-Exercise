{
 "cells": [
  {
   "cell_type": "code",
   "execution_count": 261,
   "metadata": {},
   "outputs": [
    {
     "name": "stderr",
     "output_type": "stream",
     "text": [
      "D:\\Asus\\Ungdung\\Anacoda\\Anacoda\\envs\\40daysPython_env\\lib\\site-packages\\gdown\\__main__.py:132: FutureWarning: Option `--id` was deprecated in version 4.3.1 and will be removed in 5.0. You don't need to pass it anymore to use a file ID.\n",
      "  warnings.warn(\n",
      "Downloading...\n",
      "From: https://drive.google.com/uc?id=1qiUDDoYyRLBiKOoYWdFl_5WByHE8Cugu\n",
      "To: d:\\Asus\\AIO\\AIO-Exercise\\module5\\week3\\Auto_MPG_data.csv\n",
      "\n",
      "  0%|          | 0.00/15.4k [00:00<?, ?B/s]\n",
      "100%|██████████| 15.4k/15.4k [00:00<00:00, 15.5MB/s]\n"
     ]
    }
   ],
   "source": [
    "!gdown --id 1qiUDDoYyRLBiKOoYWdFl_5WByHE8Cugu\n"
   ]
  },
  {
   "cell_type": "code",
   "execution_count": 262,
   "metadata": {},
   "outputs": [],
   "source": [
    "import numpy as np\n",
    "import pandas as pd\n",
    "import matplotlib.pyplot as plt\n",
    "import torch\n",
    "import torch.nn as nn\n",
    "import torch.nn.functional as F\n",
    "from torch.utils.data import Dataset, DataLoader\n",
    "\n",
    "from sklearn.model_selection import train_test_split\n",
    "from sklearn.preprocessing import StandardScaler"
   ]
  },
  {
   "cell_type": "markdown",
   "metadata": {},
   "source": [
    "### Cài đặt giá trị ngẫu nhiên cố định:"
   ]
  },
  {
   "cell_type": "code",
   "execution_count": 263,
   "metadata": {},
   "outputs": [],
   "source": [
    "random_state = 59\n",
    "np.random.seed(random_state)\n",
    "if torch.cuda.is_available():\n",
    "    torch.cuda.manual_seed(random_state)"
   ]
  },
  {
   "cell_type": "markdown",
   "metadata": {},
   "source": [
    "### Cài đặt thiết bị tính toán:"
   ]
  },
  {
   "cell_type": "code",
   "execution_count": 264,
   "metadata": {},
   "outputs": [],
   "source": [
    "device = torch.device('cuda' if torch.cuda.is_available() else 'cpu')"
   ]
  },
  {
   "cell_type": "markdown",
   "metadata": {},
   "source": [
    "### Đọc bộ dữ liệu:"
   ]
  },
  {
   "cell_type": "code",
   "execution_count": 265,
   "metadata": {},
   "outputs": [
    {
     "data": {
      "text/html": [
       "<div>\n",
       "<style scoped>\n",
       "    .dataframe tbody tr th:only-of-type {\n",
       "        vertical-align: middle;\n",
       "    }\n",
       "\n",
       "    .dataframe tbody tr th {\n",
       "        vertical-align: top;\n",
       "    }\n",
       "\n",
       "    .dataframe thead th {\n",
       "        text-align: right;\n",
       "    }\n",
       "</style>\n",
       "<table border=\"1\" class=\"dataframe\">\n",
       "  <thead>\n",
       "    <tr style=\"text-align: right;\">\n",
       "      <th></th>\n",
       "      <th>MPG</th>\n",
       "      <th>Cylinders</th>\n",
       "      <th>Displacement</th>\n",
       "      <th>Horsepower</th>\n",
       "      <th>Weight</th>\n",
       "      <th>Acceleration</th>\n",
       "      <th>Model Year</th>\n",
       "      <th>Europe</th>\n",
       "      <th>Japan</th>\n",
       "      <th>USA</th>\n",
       "    </tr>\n",
       "  </thead>\n",
       "  <tbody>\n",
       "    <tr>\n",
       "      <th>0</th>\n",
       "      <td>18.0</td>\n",
       "      <td>8</td>\n",
       "      <td>307.0</td>\n",
       "      <td>130.0</td>\n",
       "      <td>3504.0</td>\n",
       "      <td>12.0</td>\n",
       "      <td>70</td>\n",
       "      <td>0</td>\n",
       "      <td>0</td>\n",
       "      <td>1</td>\n",
       "    </tr>\n",
       "    <tr>\n",
       "      <th>1</th>\n",
       "      <td>15.0</td>\n",
       "      <td>8</td>\n",
       "      <td>350.0</td>\n",
       "      <td>165.0</td>\n",
       "      <td>3693.0</td>\n",
       "      <td>11.5</td>\n",
       "      <td>70</td>\n",
       "      <td>0</td>\n",
       "      <td>0</td>\n",
       "      <td>1</td>\n",
       "    </tr>\n",
       "    <tr>\n",
       "      <th>2</th>\n",
       "      <td>18.0</td>\n",
       "      <td>8</td>\n",
       "      <td>318.0</td>\n",
       "      <td>150.0</td>\n",
       "      <td>3436.0</td>\n",
       "      <td>11.0</td>\n",
       "      <td>70</td>\n",
       "      <td>0</td>\n",
       "      <td>0</td>\n",
       "      <td>1</td>\n",
       "    </tr>\n",
       "    <tr>\n",
       "      <th>3</th>\n",
       "      <td>16.0</td>\n",
       "      <td>8</td>\n",
       "      <td>304.0</td>\n",
       "      <td>150.0</td>\n",
       "      <td>3433.0</td>\n",
       "      <td>12.0</td>\n",
       "      <td>70</td>\n",
       "      <td>0</td>\n",
       "      <td>0</td>\n",
       "      <td>1</td>\n",
       "    </tr>\n",
       "    <tr>\n",
       "      <th>4</th>\n",
       "      <td>17.0</td>\n",
       "      <td>8</td>\n",
       "      <td>302.0</td>\n",
       "      <td>140.0</td>\n",
       "      <td>3449.0</td>\n",
       "      <td>10.5</td>\n",
       "      <td>70</td>\n",
       "      <td>0</td>\n",
       "      <td>0</td>\n",
       "      <td>1</td>\n",
       "    </tr>\n",
       "  </tbody>\n",
       "</table>\n",
       "</div>"
      ],
      "text/plain": [
       "    MPG  Cylinders  Displacement  Horsepower  Weight  Acceleration  \\\n",
       "0  18.0          8         307.0       130.0  3504.0          12.0   \n",
       "1  15.0          8         350.0       165.0  3693.0          11.5   \n",
       "2  18.0          8         318.0       150.0  3436.0          11.0   \n",
       "3  16.0          8         304.0       150.0  3433.0          12.0   \n",
       "4  17.0          8         302.0       140.0  3449.0          10.5   \n",
       "\n",
       "   Model Year  Europe  Japan  USA  \n",
       "0          70       0      0    1  \n",
       "1          70       0      0    1  \n",
       "2          70       0      0    1  \n",
       "3          70       0      0    1  \n",
       "4          70       0      0    1  "
      ]
     },
     "execution_count": 265,
     "metadata": {},
     "output_type": "execute_result"
    }
   ],
   "source": [
    "data = pd.read_csv('./Auto_MPG_data.csv')\n",
    "data.head()"
   ]
  },
  {
   "cell_type": "markdown",
   "metadata": {},
   "source": [
    "### Tiền xử lý bộ dữ liệu:"
   ]
  },
  {
   "cell_type": "markdown",
   "metadata": {},
   "source": [
    "#### (a) Tách đặc trưng X và nhãn y:"
   ]
  },
  {
   "cell_type": "code",
   "execution_count": 266,
   "metadata": {},
   "outputs": [],
   "source": [
    "X = data.drop(columns='MPG').values\n",
    "y = data['MPG'].values"
   ]
  },
  {
   "cell_type": "markdown",
   "metadata": {},
   "source": [
    "#### (b) Chia bộ dữ liệu train/val/test: 7:2:1"
   ]
  },
  {
   "cell_type": "code",
   "execution_count": 267,
   "metadata": {},
   "outputs": [],
   "source": [
    "val_size = 0.2\n",
    "test_size = 0.125\n",
    "is_shuffle = True\n",
    "\n",
    "X_train, X_val, y_train, y_val = train_test_split(\n",
    "    X, y, test_size=val_size, shuffle=is_shuffle, random_state=random_state)\n",
    "X_train, X_test, y_train, y_test = train_test_split(\n",
    "    X_train, y_train, test_size=test_size, shuffle=is_shuffle, random_state=random_state)"
   ]
  },
  {
   "cell_type": "markdown",
   "metadata": {},
   "source": [
    "#### (c) Chuẩn hóa đặc trưng đầu vào:"
   ]
  },
  {
   "cell_type": "code",
   "execution_count": 268,
   "metadata": {},
   "outputs": [],
   "source": [
    "normalize = StandardScaler()\n",
    "\n",
    "X_train = normalize.fit_transform(X_train)\n",
    "X_val = normalize.transform(X_val)\n",
    "X_test = normalize.transform(X_test)\n",
    "\n",
    "X_train = torch.tensor(X_train, dtype=torch.float32)\n",
    "X_val = torch.tensor(X_val, dtype=torch.float32)\n",
    "X_test = torch.tensor(X_test, dtype=torch.float32)\n",
    "y_train = torch.tensor(y_train, dtype=torch.float32)\n",
    "y_val = torch.tensor(y_val, dtype=torch.float32)\n",
    "y_test = torch.tensor(y_test, dtype=torch.float32)"
   ]
  },
  {
   "cell_type": "markdown",
   "metadata": {},
   "source": [
    "### Xây dựng DataLoader:"
   ]
  },
  {
   "cell_type": "markdown",
   "metadata": {},
   "source": [
    "Phải định nghĩa CustomDataset như dưới DataLoader mới hoạt động"
   ]
  },
  {
   "cell_type": "code",
   "execution_count": 269,
   "metadata": {},
   "outputs": [],
   "source": [
    "class CustomDataset:\n",
    "    def __init__(self, X, y) -> None:\n",
    "        self.X = X\n",
    "        self.y = y\n",
    "    def __len__(self):\n",
    "        return len(self.X)\n",
    "    \n",
    "    def __getitem__(self, key):\n",
    "        return (self.X[key], self.y[key])"
   ]
  },
  {
   "cell_type": "code",
   "execution_count": 270,
   "metadata": {},
   "outputs": [],
   "source": [
    "batch_size = 32\n",
    "train_dataset = CustomDataset(X_train, y_train)\n",
    "val_dataset = CustomDataset(X_val, y_val)\n",
    "\n",
    "train_loader = DataLoader(train_dataset, batch_size=batch_size, shuffle=is_shuffle)\n",
    "val_loader = DataLoader(\n",
    "    val_dataset, batch_size=batch_size, shuffle=is_shuffle)"
   ]
  },
  {
   "cell_type": "markdown",
   "metadata": {},
   "source": [
    "### Xây dựng mạng MLP:"
   ]
  },
  {
   "cell_type": "code",
   "execution_count": 271,
   "metadata": {},
   "outputs": [],
   "source": [
    "class MLP(nn.Module):\n",
    "    def __init__(self, input_dims, hidden_dims, output_dims) -> None:\n",
    "        super().__init__()\n",
    "        self.linear1 = nn.Linear(input_dims, hidden_dims)\n",
    "        self.linear2 = nn.Linear(hidden_dims, hidden_dims)\n",
    "        self.output = nn.Linear(hidden_dims, output_dims) \n",
    "\n",
    "    def forward(self, x):\n",
    "        x = self.linear1(x)\n",
    "        x = F.relu(x)\n",
    "        x = self.linear2(x)\n",
    "        x = F.relu(x)\n",
    "        output = self.output(x)\n",
    "        # Loại bỏ chiều dư thừa (chiều nào bằng 1 thì bỏ)\n",
    "        return output.squeeze(1)\n",
    "    "
   ]
  },
  {
   "cell_type": "code",
   "execution_count": 272,
   "metadata": {},
   "outputs": [],
   "source": [
    "input_dims = X.shape[1]\n",
    "output_dims = 1\n",
    "hidden_dims = 64\n",
    "model = MLP(input_dims,hidden_dims, output_dims).to(device=device)"
   ]
  },
  {
   "cell_type": "markdown",
   "metadata": {},
   "source": [
    "### Khai báo hàm loss và optimizer:"
   ]
  },
  {
   "cell_type": "code",
   "execution_count": 273,
   "metadata": {},
   "outputs": [],
   "source": [
    "lr = 1e-2\n",
    "criterion = nn.MSELoss()\n",
    "optimizer = torch.optim.SGD(model.parameters(), lr=lr)"
   ]
  },
  {
   "cell_type": "code",
   "execution_count": 274,
   "metadata": {},
   "outputs": [
    {
     "data": {
      "text/plain": [
       "4865"
      ]
     },
     "execution_count": 274,
     "metadata": {},
     "output_type": "execute_result"
    }
   ],
   "source": [
    "total = 0\n",
    "for params in model.parameters():\n",
    "    total += params.numel()\n",
    "\n",
    "total"
   ]
  },
  {
   "cell_type": "markdown",
   "metadata": {},
   "source": [
    "### Xây dựng hàm tính điểm R2:"
   ]
  },
  {
   "cell_type": "code",
   "execution_count": 275,
   "metadata": {},
   "outputs": [],
   "source": [
    "def r_squared(y_true, y_pred):\n",
    "    y_true = torch.Tensor(y_true).to(device)\n",
    "    y_pred = torch.Tensor(y_pred).to(device)\n",
    "    mean_true = torch.mean(y_true)\n",
    "    ss_tot = torch.sum((y_true - mean_true) ** 2)\n",
    "    ss_res = torch.sum((y_true - y_pred) ** 2)\n",
    "    r2 = 1 - (ss_res / ss_tot)\n",
    "    return r2"
   ]
  },
  {
   "cell_type": "markdown",
   "metadata": {},
   "source": [
    "### Huấn luyện mô hình:"
   ]
  },
  {
   "cell_type": "markdown",
   "metadata": {},
   "source": [
    "chế độ model.train sẽ bật 2 cơ chế sau : \n",
    "- Dropout: một phương pháp regularization (điều chuẩn hóa) giúp ngăn chặn hiện tượng overfitting và co-adaptation of neurons (tức là khi các nơ-ron phụ thuộc quá nhiều vào nhau).\n",
    "- BatchNorm: cải thiện hiệu quả huấn luyện và giảm hiện tượng \"internal covariate shift\"\n",
    "\n",
    "link tham khảo :\n",
    "- Dropout : https://pytorch.org/docs/stable/generated/torch.nn.Dropout.html#torch.nn.Dropout\n",
    "- Batchnorm : https://pytorch.org/docs/stable/search.html?q=class%3A%60BatchNorm%60&check_keywords=yes&area=default\n"
   ]
  },
  {
   "cell_type": "code",
   "execution_count": 276,
   "metadata": {},
   "outputs": [
    {
     "name": "stdout",
     "output_type": "stream",
     "text": [
      "\n",
      "EPOCH 1:\tTraining loss: 380.393\tValidation loss: 482.333\n",
      "\n",
      "EPOCH 2:\tTraining loss: 194.040\tValidation loss: 314.089\n",
      "\n",
      "EPOCH 3:\tTraining loss: 180.480\tValidation loss: 48.084\n",
      "\n",
      "EPOCH 4:\tTraining loss: 20.673\tValidation loss: 5.998\n",
      "\n",
      "EPOCH 5:\tTraining loss: 20.314\tValidation loss: 24.848\n",
      "\n",
      "EPOCH 6:\tTraining loss: 17.868\tValidation loss: 38.707\n",
      "\n",
      "EPOCH 7:\tTraining loss: 34.559\tValidation loss: 92.758\n",
      "\n",
      "EPOCH 8:\tTraining loss: 21.122\tValidation loss: 5.283\n",
      "\n",
      "EPOCH 9:\tTraining loss: 10.710\tValidation loss: 31.339\n",
      "\n",
      "EPOCH 10:\tTraining loss: 20.777\tValidation loss: 8.117\n",
      "\n",
      "EPOCH 11:\tTraining loss: 8.785\tValidation loss: 6.385\n",
      "\n",
      "EPOCH 12:\tTraining loss: 20.409\tValidation loss: 15.344\n",
      "\n",
      "EPOCH 13:\tTraining loss: 11.720\tValidation loss: 11.048\n",
      "\n",
      "EPOCH 14:\tTraining loss: 11.641\tValidation loss: 10.651\n",
      "\n",
      "EPOCH 15:\tTraining loss: 8.094\tValidation loss: 5.638\n",
      "\n",
      "EPOCH 16:\tTraining loss: 8.462\tValidation loss: 11.000\n",
      "\n",
      "EPOCH 17:\tTraining loss: 12.126\tValidation loss: 9.332\n",
      "\n",
      "EPOCH 18:\tTraining loss: 7.317\tValidation loss: 6.397\n",
      "\n",
      "EPOCH 19:\tTraining loss: 6.926\tValidation loss: 6.039\n",
      "\n",
      "EPOCH 20:\tTraining loss: 7.119\tValidation loss: 6.583\n",
      "\n",
      "EPOCH 21:\tTraining loss: 7.966\tValidation loss: 18.560\n",
      "\n",
      "EPOCH 22:\tTraining loss: 10.465\tValidation loss: 5.961\n",
      "\n",
      "EPOCH 23:\tTraining loss: 8.143\tValidation loss: 45.316\n",
      "\n",
      "EPOCH 24:\tTraining loss: 17.419\tValidation loss: 5.600\n",
      "\n",
      "EPOCH 25:\tTraining loss: 9.953\tValidation loss: 18.044\n",
      "\n",
      "EPOCH 26:\tTraining loss: 8.219\tValidation loss: 7.024\n",
      "\n",
      "EPOCH 27:\tTraining loss: 6.883\tValidation loss: 6.951\n",
      "\n",
      "EPOCH 28:\tTraining loss: 9.443\tValidation loss: 5.241\n",
      "\n",
      "EPOCH 29:\tTraining loss: 9.080\tValidation loss: 6.943\n",
      "\n",
      "EPOCH 30:\tTraining loss: 9.030\tValidation loss: 7.074\n",
      "\n",
      "EPOCH 31:\tTraining loss: 7.726\tValidation loss: 6.546\n",
      "\n",
      "EPOCH 32:\tTraining loss: 7.805\tValidation loss: 9.499\n",
      "\n",
      "EPOCH 33:\tTraining loss: 6.068\tValidation loss: 5.862\n",
      "\n",
      "EPOCH 34:\tTraining loss: 5.820\tValidation loss: 4.441\n",
      "\n",
      "EPOCH 35:\tTraining loss: 6.621\tValidation loss: 5.189\n",
      "\n",
      "EPOCH 36:\tTraining loss: 7.967\tValidation loss: 23.171\n",
      "\n",
      "EPOCH 37:\tTraining loss: 9.584\tValidation loss: 5.469\n",
      "\n",
      "EPOCH 38:\tTraining loss: 6.348\tValidation loss: 6.984\n",
      "\n",
      "EPOCH 39:\tTraining loss: 7.013\tValidation loss: 5.523\n",
      "\n",
      "EPOCH 40:\tTraining loss: 5.936\tValidation loss: 4.706\n",
      "\n",
      "EPOCH 41:\tTraining loss: 6.056\tValidation loss: 5.059\n",
      "\n",
      "EPOCH 42:\tTraining loss: 5.990\tValidation loss: 6.171\n",
      "\n",
      "EPOCH 43:\tTraining loss: 6.770\tValidation loss: 6.567\n",
      "\n",
      "EPOCH 44:\tTraining loss: 5.830\tValidation loss: 4.389\n",
      "\n",
      "EPOCH 45:\tTraining loss: 5.602\tValidation loss: 5.175\n",
      "\n",
      "EPOCH 46:\tTraining loss: 5.638\tValidation loss: 5.133\n",
      "\n",
      "EPOCH 47:\tTraining loss: 6.011\tValidation loss: 13.202\n",
      "\n",
      "EPOCH 48:\tTraining loss: 9.535\tValidation loss: 11.518\n",
      "\n",
      "EPOCH 49:\tTraining loss: 8.629\tValidation loss: 6.036\n",
      "\n",
      "EPOCH 50:\tTraining loss: 6.736\tValidation loss: 9.451\n",
      "\n",
      "EPOCH 51:\tTraining loss: 5.617\tValidation loss: 5.566\n",
      "\n",
      "EPOCH 52:\tTraining loss: 7.553\tValidation loss: 11.662\n",
      "\n",
      "EPOCH 53:\tTraining loss: 8.467\tValidation loss: 5.474\n",
      "\n",
      "EPOCH 54:\tTraining loss: 6.427\tValidation loss: 8.029\n",
      "\n",
      "EPOCH 55:\tTraining loss: 8.326\tValidation loss: 9.173\n",
      "\n",
      "EPOCH 56:\tTraining loss: 13.600\tValidation loss: 8.119\n",
      "\n",
      "EPOCH 57:\tTraining loss: 6.174\tValidation loss: 6.829\n",
      "\n",
      "EPOCH 58:\tTraining loss: 6.322\tValidation loss: 10.247\n",
      "\n",
      "EPOCH 59:\tTraining loss: 10.582\tValidation loss: 5.889\n",
      "\n",
      "EPOCH 60:\tTraining loss: 7.779\tValidation loss: 4.470\n",
      "\n",
      "EPOCH 61:\tTraining loss: 5.997\tValidation loss: 9.665\n",
      "\n",
      "EPOCH 62:\tTraining loss: 6.245\tValidation loss: 11.003\n",
      "\n",
      "EPOCH 63:\tTraining loss: 6.373\tValidation loss: 4.816\n",
      "\n",
      "EPOCH 64:\tTraining loss: 6.141\tValidation loss: 5.763\n",
      "\n",
      "EPOCH 65:\tTraining loss: 5.940\tValidation loss: 5.021\n",
      "\n",
      "EPOCH 66:\tTraining loss: 7.380\tValidation loss: 13.588\n",
      "\n",
      "EPOCH 67:\tTraining loss: 7.288\tValidation loss: 15.981\n",
      "\n",
      "EPOCH 68:\tTraining loss: 7.898\tValidation loss: 5.893\n",
      "\n",
      "EPOCH 69:\tTraining loss: 6.955\tValidation loss: 7.396\n",
      "\n",
      "EPOCH 70:\tTraining loss: 8.189\tValidation loss: 4.942\n",
      "\n",
      "EPOCH 71:\tTraining loss: 5.661\tValidation loss: 11.483\n",
      "\n",
      "EPOCH 72:\tTraining loss: 8.556\tValidation loss: 4.836\n",
      "\n",
      "EPOCH 73:\tTraining loss: 7.762\tValidation loss: 6.102\n",
      "\n",
      "EPOCH 74:\tTraining loss: 6.378\tValidation loss: 6.291\n",
      "\n",
      "EPOCH 75:\tTraining loss: 6.340\tValidation loss: 7.730\n",
      "\n",
      "EPOCH 76:\tTraining loss: 6.224\tValidation loss: 6.778\n",
      "\n",
      "EPOCH 77:\tTraining loss: 5.134\tValidation loss: 5.243\n",
      "\n",
      "EPOCH 78:\tTraining loss: 4.734\tValidation loss: 5.877\n",
      "\n",
      "EPOCH 79:\tTraining loss: 5.204\tValidation loss: 5.204\n",
      "\n",
      "EPOCH 80:\tTraining loss: 8.404\tValidation loss: 5.427\n",
      "\n",
      "EPOCH 81:\tTraining loss: 5.533\tValidation loss: 20.671\n",
      "\n",
      "EPOCH 82:\tTraining loss: 10.652\tValidation loss: 5.252\n",
      "\n",
      "EPOCH 83:\tTraining loss: 5.117\tValidation loss: 6.443\n",
      "\n",
      "EPOCH 84:\tTraining loss: 6.236\tValidation loss: 6.254\n",
      "\n",
      "EPOCH 85:\tTraining loss: 5.178\tValidation loss: 4.415\n",
      "\n",
      "EPOCH 86:\tTraining loss: 5.220\tValidation loss: 5.669\n",
      "\n",
      "EPOCH 87:\tTraining loss: 5.891\tValidation loss: 5.926\n",
      "\n",
      "EPOCH 88:\tTraining loss: 5.362\tValidation loss: 8.094\n",
      "\n",
      "EPOCH 89:\tTraining loss: 5.722\tValidation loss: 5.296\n",
      "\n",
      "EPOCH 90:\tTraining loss: 4.712\tValidation loss: 5.179\n",
      "\n",
      "EPOCH 91:\tTraining loss: 8.398\tValidation loss: 7.348\n",
      "\n",
      "EPOCH 92:\tTraining loss: 5.973\tValidation loss: 11.700\n",
      "\n",
      "EPOCH 93:\tTraining loss: 6.648\tValidation loss: 5.879\n",
      "\n",
      "EPOCH 94:\tTraining loss: 4.987\tValidation loss: 4.380\n",
      "\n",
      "EPOCH 95:\tTraining loss: 5.917\tValidation loss: 4.964\n",
      "\n",
      "EPOCH 96:\tTraining loss: 7.285\tValidation loss: 7.056\n",
      "\n",
      "EPOCH 97:\tTraining loss: 7.296\tValidation loss: 5.129\n",
      "\n",
      "EPOCH 98:\tTraining loss: 5.546\tValidation loss: 12.778\n",
      "\n",
      "EPOCH 99:\tTraining loss: 5.644\tValidation loss: 9.061\n",
      "\n",
      "EPOCH 100:\tTraining loss: 7.491\tValidation loss: 6.837\n"
     ]
    }
   ],
   "source": [
    "epochs = 100\n",
    "train_losses = []\n",
    "val_losses = []\n",
    "train_r2 = []\n",
    "val_r2 = []\n",
    "\n",
    "for epoch in range(epochs):\n",
    "    train_loss = 0\n",
    "    train_target = []\n",
    "    val_target = []\n",
    "    train_predict = []\n",
    "    val_predict = []\n",
    "    model.train()\n",
    "\n",
    "    for x_b_train, y_b_train in train_loader:\n",
    "        x_b_train = x_b_train.to(device)\n",
    "        y_b_train = y_b_train.to(device)\n",
    "        \n",
    "        optimizer.zero_grad()\n",
    "        y_b_predict = model(x_b_train)\n",
    "        loss = criterion(y_b_predict, y_b_train)\n",
    "        loss.backward()\n",
    "        optimizer.step()\n",
    "\n",
    "        train_predict.extend(y_b_predict.tolist())\n",
    "        train_target.extend(y_b_train.tolist())\n",
    "\n",
    "\n",
    "        train_loss += loss.item()\n",
    "\n",
    "    train_loss /= len(train_loader)\n",
    "    train_losses.append(train_loss)\n",
    "    train_r2.append(r_squared(y_true=train_target, y_pred=train_predict))\n",
    "\n",
    "    model.eval()\n",
    "    val_loss = 0.0\n",
    "    with torch.no_grad():\n",
    "        for x_b_val, y_b_val in val_loader:\n",
    "            x_b_val = x_b_val.to(device)\n",
    "            y_b_val = y_b_val.to(device)\n",
    "\n",
    "            y_val_predict = model(x_b_val)\n",
    "            loss = criterion(y_val_predict, y_b_val)\n",
    "            val_loss += loss \n",
    "\n",
    "            val_predict.extend(y_val_predict.tolist())\n",
    "            val_target.extend(y_b_val.tolist())\n",
    "\n",
    "    val_loss /= len(val_loader)\n",
    "    val_losses.append(val_loss.item())\n",
    "    val_r2.append(r_squared(y_true=val_target, y_pred=val_predict))\n",
    "\n",
    "    print(\n",
    "        f'\\nEPOCH {epoch + 1}:\\tTraining loss: {train_loss:.3f}\\tValidation loss: {val_loss:.3f}')\n",
    "\n",
    "    "
   ]
  },
  {
   "cell_type": "markdown",
   "metadata": {},
   "source": [
    "### Đánh giá mô hình:"
   ]
  },
  {
   "cell_type": "code",
   "execution_count": 277,
   "metadata": {},
   "outputs": [
    {
     "name": "stdout",
     "output_type": "stream",
     "text": [
      "Evaluation on test set:\n",
      "R2: 0.8699488639831543\n"
     ]
    }
   ],
   "source": [
    "model.eval()\n",
    "with torch.no_grad():\n",
    "    y_hat = model(X_test.to(device))\n",
    "    test_set_r2 = r_squared(y_test, y_hat)\n",
    "\n",
    "print('Evaluation on test set:')\n",
    "print(f'R2: {test_set_r2}')"
   ]
  },
  {
   "cell_type": "code",
   "execution_count": 278,
   "metadata": {},
   "outputs": [
    {
     "data": {
      "text/plain": [
       "[<matplotlib.lines.Line2D at 0x1ae81d87430>]"
      ]
     },
     "execution_count": 278,
     "metadata": {},
     "output_type": "execute_result"
    },
    {
     "data": {
      "image/png": "[encoded data removed]",
      "text/plain": [
       "<Figure size 640x480 with 1 Axes>"
      ]
     },
     "metadata": {},
     "output_type": "display_data"
    }
   ],
   "source": [
    "fig, ax = plt.subplots()\n",
    "ax.plot(np.arange(epochs), train_losses)\n",
    "ax.plot(np.arange(epochs), val_losses)"
   ]
  }
 ],
 "metadata": {
  "kernelspec": {
   "display_name": "40daysPython_env",
   "language": "python",
   "name": "python3"
  },
  "language_info": {
   "codemirror_mode": {
    "name": "ipython",
    "version": 3
   },
   "file_extension": ".py",
   "mimetype": "text/x-python",
   "name": "python",
   "nbconvert_exporter": "python",
   "pygments_lexer": "ipython3",
   "version": "3.10.13"
  }
 },
 "nbformat": 4,
 "nbformat_minor": 2
}
