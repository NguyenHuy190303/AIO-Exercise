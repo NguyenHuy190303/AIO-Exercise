{
 "cells": [
  {
   "cell_type": "code",
   "execution_count": 5,
   "metadata": {},
   "outputs": [
    {
     "name": "stdout",
     "output_type": "stream",
     "text": [
      "102.5\n"
     ]
    }
   ],
   "source": [
    "#12\n",
    "# Download image\n",
    "!gdown 1i9dqan21DjQoG5Q_VEvm0LrVwAlXD0vB\n",
    "import matplotlib.image as mpimg\n",
    "import numpy as np\n",
    "\n",
    "img = mpimg.imread('dog.jpeg')\n",
    "gray_img_01 = np.mean([np.max(img, axis=2), np.min(img, axis=2)], axis=0)\n",
    "print(gray_img_01[0, 0])\n"
   ]
  },
  {
   "cell_type": "code",
   "execution_count": 11,
   "metadata": {},
   "outputs": [
    {
     "name": "stdout",
     "output_type": "stream",
     "text": [
      "107.66666666666667\n"
     ]
    }
   ],
   "source": [
    "#13\n",
    "img = mpimg.imread('dog.jpeg')\n",
    "gray_img_02 = np.mean(img, axis=2)\n",
    "print(gray_img_02[0, 0])\n"
   ]
  },
  {
   "cell_type": "code",
   "execution_count": 6,
   "metadata": {},
   "outputs": [
    {
     "name": "stdout",
     "output_type": "stream",
     "text": [
      "126.22999999999999\n"
     ]
    }
   ],
   "source": [
    "#14\n",
    "img = mpimg.imread('dog.jpeg')\n",
    "gray_img_03 = 0.21 * img[:, :, 0] + 0.72 * img[:, :, 1] + 0.07 * img[:, :, 2]\n",
    "print(gray_img_03[0, 0])\n"
   ]
  },
  {
   "cell_type": "code",
   "execution_count": 13,
   "metadata": {},
   "outputs": [
    {
     "name": "stdout",
     "output_type": "stream",
     "text": [
      "Max: 27.0 - Index: 175\n"
     ]
    },
    {
     "name": "stderr",
     "output_type": "stream",
     "text": [
      "Downloading...\n",
      "From: https://drive.google.com/uc?id=1iA0WmVfW88HyJvTBSQDI5vesf-pgKabq\n",
      "To: c:\\Users\\Huy\\OneDrive - Vaasan ammattikorkeakoulu\\Python\\AIO-Ex\\AIO-Exercise\\w5\\advertising.csv\n",
      "\n",
      "  0%|          | 0.00/4.06k [00:00<?, ?B/s]\n",
      "100%|██████████| 4.06k/4.06k [00:00<?, ?B/s]\n"
     ]
    }
   ],
   "source": [
    "#15\n",
    "# Download data\n",
    "!gdown 1iA0WmVfW88HyJvTBSQDI5vesf-pgKabq\n",
    "\n",
    "import pandas as pd\n",
    "df = pd.read_csv('advertising.csv')\n",
    "max_value = df['Sales'].max()\n",
    "max_index = df['Sales'].idxmax()\n",
    "\n",
    "print(f\"Max: {max_value} - Index: {max_index}\")\n"
   ]
  },
  {
   "cell_type": "code",
   "execution_count": 26,
   "metadata": {},
   "outputs": [
    {
     "name": "stdout",
     "output_type": "stream",
     "text": [
      "Mean of TV column: 147.0425\n"
     ]
    }
   ],
   "source": [
    "#16\n",
    "df = pd.read_csv('advertising.csv')\n",
    "mean_tv = df['TV'].mean()\n",
    "print(f\"Mean of TV column: {mean_tv}\")"
   ]
  },
  {
   "cell_type": "code",
   "execution_count": 18,
   "metadata": {},
   "outputs": [
    {
     "name": "stdout",
     "output_type": "stream",
     "text": [
      "Number of records with Sales >= 20: 40\n"
     ]
    }
   ],
   "source": [
    "#17\n",
    "df = pd.read_csv('advertising.csv')\n",
    "count_sales_ge_20 = df[df['Sales'] >= 20].shape[0]\n",
    "print(f\"Number of records with Sales >= 20: {count_sales_ge_20}\")"
   ]
  },
  {
   "cell_type": "code",
   "execution_count": 19,
   "metadata": {},
   "outputs": [
    {
     "name": "stdout",
     "output_type": "stream",
     "text": [
      "Mean of Radio column where Sales >= 15: 26.22293577981651\n"
     ]
    }
   ],
   "source": [
    "#18\n",
    "df = pd.read_csv('advertising.csv')\n",
    "filtered_df = df[df['Sales'] >= 15]\n",
    "mean_radio = filtered_df['Radio'].mean()\n",
    "print(f\"Mean of Radio column where Sales >= 15: {mean_radio}\")"
   ]
  },
  {
   "cell_type": "code",
   "execution_count": 20,
   "metadata": {},
   "outputs": [
    {
     "name": "stdout",
     "output_type": "stream",
     "text": [
      "Sum of Sales column where Newspaper > mean: 1405.1\n"
     ]
    }
   ],
   "source": [
    "#19\n",
    "df = pd.read_csv('advertising.csv')\n",
    "mean_newspaper = df['Newspaper'].mean()\n",
    "filtered_df = df[df['Newspaper'] > mean_newspaper]\n",
    "sum_sales = filtered_df['Sales'].sum()\n",
    "print(f\"Sum of Sales column where Newspaper > mean: {sum_sales}\")"
   ]
  },
  {
   "cell_type": "code",
   "execution_count": 21,
   "metadata": {},
   "outputs": [
    {
     "name": "stdout",
     "output_type": "stream",
     "text": [
      "['Bad', 'Bad', 'Good']\n"
     ]
    }
   ],
   "source": [
    "#20\n",
    "df = pd.read_csv('advertising.csv')\n",
    "mean_sales = df['Sales'].mean()\n",
    "scores = df['Sales'].apply(lambda x: 'Good' if x > mean_sales else ('Bad' if x < mean_sales else 'Average'))\n",
    "scores_list = scores.tolist()\n",
    "print(scores_list[7:10])"
   ]
  },
  {
   "cell_type": "code",
   "execution_count": 25,
   "metadata": {},
   "outputs": [
    {
     "name": "stdout",
     "output_type": "stream",
     "text": [
      "['Bad', 'Bad', 'Good']\n"
     ]
    }
   ],
   "source": [
    "#21\n",
    "df = pd.read_csv('advertising.csv')\n",
    "closest_to_mean = df['Sales'].iloc[(df['Sales'] - mean_sales).abs().argmin()]\n",
    "scores = df['Sales'].apply(lambda x: 'Good' if x > closest_to_mean else ('Bad' if x < closest_to_mean else 'Average'))\n",
    "scores_list = scores.tolist()\n",
    "print(scores_list[7:10])"
   ]
  }
 ],
 "metadata": {
  "kernelspec": {
   "display_name": "aio2024_env",
   "language": "python",
   "name": "python3"
  },
  "language_info": {
   "codemirror_mode": {
    "name": "ipython",
    "version": 3
   },
   "file_extension": ".py",
   "mimetype": "text/x-python",
   "name": "python",
   "nbconvert_exporter": "python",
   "pygments_lexer": "ipython3",
   "version": "3.11.7"
  }
 },
 "nbformat": 4,
 "nbformat_minor": 2
}
