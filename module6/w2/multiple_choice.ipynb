{
 "cells": [
  {
   "cell_type": "code",
   "execution_count": 1,
   "metadata": {},
   "outputs": [],
   "source": [
    "import torch\n",
    "import torch.nn as nn\n",
    "import numpy as np"
   ]
  },
  {
   "cell_type": "code",
   "execution_count": 2,
   "metadata": {},
   "outputs": [
    {
     "name": "stdout",
     "output_type": "stream",
     "text": [
      "Trước khi BN torch.Size([1, 2, 2])\n",
      "Sau khi unsqueeze torch.Size([1, 1, 2, 2])\n",
      "tensor([[[[-1.3867,  1.3867],\n",
      "          [-0.2773,  0.2773]]]])\n"
     ]
    }
   ],
   "source": [
    "data = np.array([[[1, 6],\n",
    "                 [3, 4]]])\n",
    "data = torch.tensor(data=data, dtype=torch.float32)\n",
    "print(\"Trước khi BN\", data.shape)\n",
    "\n",
    "\n",
    "bnorm = nn.BatchNorm2d(1)\n",
    "\n",
    "# thêm chiều vào \n",
    "data = data.unsqueeze(0)\n",
    "print(\"Sau khi unsqueeze\", data.shape)\n",
    "\n",
    "with torch.no_grad() :\n",
    "    output = bnorm(data)\n",
    "    print(output)"
   ]
  },
  {
   "cell_type": "code",
   "execution_count": 3,
   "metadata": {},
   "outputs": [
    {
     "name": "stdout",
     "output_type": "stream",
     "text": [
      "tensor([[[1, 2],\n",
      "         [3, 4]],\n",
      "\n",
      "        [[1, 2],\n",
      "         [3, 4]]])\n"
     ]
    }
   ],
   "source": [
    "import torch\n",
    "\n",
    "a = torch.tensor([[1, 2], [3, 4]])\n",
    "b = torch.tensor([[1, 2], [3, 4]])\n",
    "\n",
    "a = a.reshape(1, 2, 2)\n",
    "b = b.reshape(1, 2, 2)\n",
    "\n",
    "# nối theo chiều bachsize\n",
    "c = torch.cat((a, b))\n",
    "print(c)"
   ]
  },
  {
   "cell_type": "code",
   "execution_count": 1,
   "metadata": {},
   "outputs": [
    {
     "name": "stdout",
     "output_type": "stream",
     "text": [
      "tensor([[[[1.0739, 2.5891],\n",
      "          [4.1044, 5.6197]]]])\n"
     ]
    }
   ],
   "source": [
    "import torch\n",
    "import torch.nn as nn\n",
    "\n",
    "seed = 1\n",
    "torch.manual_seed(seed)\n",
    "input_tensor = torch.tensor([[[[1.0, 2.0], [3.0, 4.0]]]])\n",
    "\n",
    "conv_layer = nn.Conv2d(in_channels=1, out_channels=1, kernel_size=1)\n",
    "conv_output = conv_layer(input_tensor)\n",
    "\n",
    "with torch.no_grad():\n",
    "    output = conv_output + input_tensor\n",
    "    print(output)"
   ]
  }
 ],
 "metadata": {
  "kernelspec": {
   "display_name": "AIOEx",
   "language": "python",
   "name": "python3"
  },
  "language_info": {
   "codemirror_mode": {
    "name": "ipython",
    "version": 3
   },
   "file_extension": ".py",
   "mimetype": "text/x-python",
   "name": "python",
   "nbconvert_exporter": "python",
   "pygments_lexer": "ipython3",
   "version": "3.10.15"
  }
 },
 "nbformat": 4,
 "nbformat_minor": 2
}
