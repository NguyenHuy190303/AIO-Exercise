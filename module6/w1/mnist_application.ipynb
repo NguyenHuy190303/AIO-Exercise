{
 "cells": [
  {
   "cell_type": "code",
   "execution_count": 73,
   "metadata": {},
   "outputs": [
    {
     "name": "stdout",
     "output_type": "stream",
     "text": [
      "Looking in indexes: https://download.pytorch.org/whl/cu124\n",
      "Requirement already satisfied: torch in d:\\asus\\ungdung\\miniconda\\workspace\\envs\\aioex\\lib\\site-packages (2.5.1+cu124)\n",
      "Requirement already satisfied: torchvision in d:\\asus\\ungdung\\miniconda\\workspace\\envs\\aioex\\lib\\site-packages (0.20.1+cu124)\n",
      "Requirement already satisfied: torchaudio in d:\\asus\\ungdung\\miniconda\\workspace\\envs\\aioex\\lib\\site-packages (2.5.1+cu124)\n",
      "Requirement already satisfied: filelock in d:\\asus\\ungdung\\miniconda\\workspace\\envs\\aioex\\lib\\site-packages (from torch) (3.13.1)\n",
      "Requirement already satisfied: typing-extensions>=4.8.0 in d:\\asus\\ungdung\\miniconda\\workspace\\envs\\aioex\\lib\\site-packages (from torch) (4.12.2)\n",
      "Requirement already satisfied: networkx in d:\\asus\\ungdung\\miniconda\\workspace\\envs\\aioex\\lib\\site-packages (from torch) (3.2.1)\n",
      "Requirement already satisfied: jinja2 in d:\\asus\\ungdung\\miniconda\\workspace\\envs\\aioex\\lib\\site-packages (from torch) (3.1.3)\n",
      "Requirement already satisfied: fsspec in d:\\asus\\ungdung\\miniconda\\workspace\\envs\\aioex\\lib\\site-packages (from torch) (2024.2.0)\n",
      "Requirement already satisfied: sympy==1.13.1 in d:\\asus\\ungdung\\miniconda\\workspace\\envs\\aioex\\lib\\site-packages (from torch) (1.13.1)\n",
      "Requirement already satisfied: mpmath<1.4,>=1.1.0 in d:\\asus\\ungdung\\miniconda\\workspace\\envs\\aioex\\lib\\site-packages (from sympy==1.13.1->torch) (1.3.0)\n",
      "Requirement already satisfied: numpy in d:\\asus\\ungdung\\miniconda\\workspace\\envs\\aioex\\lib\\site-packages (from torchvision) (1.26.3)\n",
      "Requirement already satisfied: pillow!=8.3.*,>=5.3.0 in d:\\asus\\ungdung\\miniconda\\workspace\\envs\\aioex\\lib\\site-packages (from torchvision) (10.2.0)\n",
      "Requirement already satisfied: MarkupSafe>=2.0 in d:\\asus\\ungdung\\miniconda\\workspace\\envs\\aioex\\lib\\site-packages (from jinja2->torch) (2.1.5)\n"
     ]
    }
   ],
   "source": [
    "! pip3 install torch torchvision torchaudio --index-url https://download.pytorch.org/whl/cu124"
   ]
  },
  {
   "cell_type": "code",
   "execution_count": 74,
   "metadata": {},
   "outputs": [
    {
     "name": "stdout",
     "output_type": "stream",
     "text": [
      "Requirement already satisfied: torch-summary==1.4.5 in d:\\asus\\ungdung\\miniconda\\workspace\\envs\\aioex\\lib\\site-packages (1.4.5)\n",
      "Requirement already satisfied: matplotlib==3.9.3 in d:\\asus\\ungdung\\miniconda\\workspace\\envs\\aioex\\lib\\site-packages (3.9.3)\n",
      "Requirement already satisfied: contourpy>=1.0.1 in d:\\asus\\ungdung\\miniconda\\workspace\\envs\\aioex\\lib\\site-packages (from matplotlib==3.9.3) (1.3.1)\n",
      "Requirement already satisfied: cycler>=0.10 in d:\\asus\\ungdung\\miniconda\\workspace\\envs\\aioex\\lib\\site-packages (from matplotlib==3.9.3) (0.12.1)\n",
      "Requirement already satisfied: fonttools>=4.22.0 in d:\\asus\\ungdung\\miniconda\\workspace\\envs\\aioex\\lib\\site-packages (from matplotlib==3.9.3) (4.55.1)\n",
      "Requirement already satisfied: kiwisolver>=1.3.1 in d:\\asus\\ungdung\\miniconda\\workspace\\envs\\aioex\\lib\\site-packages (from matplotlib==3.9.3) (1.4.7)\n",
      "Requirement already satisfied: numpy>=1.23 in d:\\asus\\ungdung\\miniconda\\workspace\\envs\\aioex\\lib\\site-packages (from matplotlib==3.9.3) (1.26.3)\n",
      "Requirement already satisfied: packaging>=20.0 in d:\\asus\\ungdung\\miniconda\\workspace\\envs\\aioex\\lib\\site-packages (from matplotlib==3.9.3) (24.2)\n",
      "Requirement already satisfied: pillow>=8 in d:\\asus\\ungdung\\miniconda\\workspace\\envs\\aioex\\lib\\site-packages (from matplotlib==3.9.3) (10.2.0)\n",
      "Requirement already satisfied: pyparsing>=2.3.1 in d:\\asus\\ungdung\\miniconda\\workspace\\envs\\aioex\\lib\\site-packages (from matplotlib==3.9.3) (3.2.0)\n",
      "Requirement already satisfied: python-dateutil>=2.7 in d:\\asus\\ungdung\\miniconda\\workspace\\envs\\aioex\\lib\\site-packages (from matplotlib==3.9.3) (2.9.0.post0)\n",
      "Requirement already satisfied: six>=1.5 in d:\\asus\\ungdung\\miniconda\\workspace\\envs\\aioex\\lib\\site-packages (from python-dateutil>=2.7->matplotlib==3.9.3) (1.16.0)\n"
     ]
    }
   ],
   "source": [
    "! pip install torch-summary==1.4.5\n",
    "! pip install matplotlib==3.9.3"
   ]
  },
  {
   "cell_type": "code",
   "execution_count": 75,
   "metadata": {},
   "outputs": [],
   "source": [
    "import os\n",
    "import random\n",
    "import numpy as np\n",
    "\n",
    "import torch\n",
    "import torch.nn as nn\n",
    "import torch.optim as optim\n",
    "import torch.nn.functional as F\n",
    "import torch.utils.data as data\n",
    "\n",
    "import torchvision.transforms as transforms\n",
    "import torchvision.datasets as datasets\n",
    "\n",
    "from torchsummary import summary\n",
    "\n",
    "import matplotlib.pyplot as plt\n",
    "from PIL import Image\n",
    "import time\n",
    "\n",
    "ROOT = './data'\n",
    "train_data = datasets.MNIST(\n",
    "    root=ROOT,\n",
    "    train=True,\n",
    "    download=True\n",
    ")\n",
    "test_data = datasets.MNIST(\n",
    "    root=ROOT,\n",
    "    train=False,\n",
    "    download=True\n",
    ")\n"
   ]
  },
  {
   "cell_type": "code",
   "execution_count": 76,
   "metadata": {},
   "outputs": [],
   "source": [
    "valid_ratio = 0.9\n",
    "\n",
    "len_train = int(len(train_data) * valid_ratio)\n",
    "len_valid = len(train_data) - len_train"
   ]
  },
  {
   "cell_type": "code",
   "execution_count": 77,
   "metadata": {},
   "outputs": [],
   "source": [
    "train_data, valid_data = data.random_split(train_data, [len_train, len_valid])"
   ]
  },
  {
   "cell_type": "code",
   "execution_count": 78,
   "metadata": {},
   "outputs": [],
   "source": [
    "mean  = train_data.dataset.data.float().mean() / 255\n",
    "std = train_data.dataset.data.float().std() / 255\n",
    "\n",
    "train_transforms = transforms.Compose([\n",
    "    transforms.ToTensor(),\n",
    "    transforms.Normalize((mean, ), (std), )\n",
    "])\n",
    "\n",
    "test_transforms = transforms.Compose([\n",
    "    transforms.ToTensor(),\n",
    "    transforms.Normalize((mean, ), (std), )\n",
    "])\n",
    "\n",
    "train_data.dataset.transform = train_transforms\n",
    "valid_data.dataset.transform = test_transforms\n",
    "test_data.transform = test_transforms\n",
    "\n",
    "batch_size = 256\n",
    "train_dataloader = data.DataLoader(\n",
    "    train_data, \n",
    "    shuffle=True,\n",
    "    batch_size=batch_size, \n",
    "    num_workers=2\n",
    ")\n",
    "\n",
    "valid_dataloader = data.DataLoader(\n",
    "    valid_data,\n",
    "    batch_size=batch_size,\n",
    "    num_workers=2\n",
    ")\n",
    "\n",
    "\n",
    "test_dataloader = data.DataLoader(\n",
    "    test_data,\n",
    "    batch_size=batch_size,\n",
    "    num_workers=2\n",
    ")"
   ]
  },
  {
   "cell_type": "code",
   "execution_count": 79,
   "metadata": {},
   "outputs": [],
   "source": [
    "class LeNetClassifier(nn.Module):\n",
    "    def __init__(self, num_classes) -> None:\n",
    "        super().__init__()\n",
    "        self.conv1 = nn.Conv2d(\n",
    "            in_channels=1, out_channels=6, kernel_size=5, padding='same'\n",
    "        )\n",
    "        self.avgpool1 = nn.AvgPool2d(kernel_size=2)\n",
    "        self.conv2 = nn.Conv2d(in_channels=6, out_channels=16, kernel_size=5)\n",
    "        self.avgpool2 = nn.AvgPool2d(kernel_size=2)\n",
    "        self.flatten = nn.Flatten()\n",
    "        self.linear1 = nn.Linear(16*5*5, 120)\n",
    "        self.linear2 = nn.Linear(120, 84)\n",
    "        self.out = nn.Linear(84, num_classes)\n",
    "    \n",
    "    def forward(self, inputs):\n",
    "        outputs = self.conv1(inputs)\n",
    "        outputs = self.avgpool1(outputs)\n",
    "        outputs = F.relu(outputs)\n",
    "        outputs = self.conv2(outputs)\n",
    "        outputs = self.avgpool2(outputs)\n",
    "        outputs = F.relu(outputs)\n",
    "        outputs = self.flatten(outputs)\n",
    "        outputs = self.linear1(outputs)\n",
    "        outputs = self.linear2(outputs)\n",
    "        outputs = self.out(outputs)\n",
    "        return outputs"
   ]
  },
  {
   "cell_type": "code",
   "execution_count": 80,
   "metadata": {},
   "outputs": [],
   "source": [
    "def compute_accuracy(prediction, labels):\n",
    "    total_acc = (prediction.argmax(dim=1) == labels).sum().item()\n",
    "    return total_acc\n",
    "\n",
    "def train(model: LeNetClassifier, optimizer, criterion, train_dataloader, device, epoch = 0, log_interval=50):\n",
    "    model.train()\n",
    "    total_acc, total_count = 0, 0\n",
    "    losses = []\n",
    "    start_time = time.time()\n",
    "\n",
    "    for idx, (inputs, labels) in enumerate(train_dataloader):\n",
    "        inputs = inputs.to(device)\n",
    "        labels = labels.to(device)\n",
    "\n",
    "        optimizer.zero_grad()\n",
    "\n",
    "        predictions = model.forward(inputs)\n",
    "        \n",
    "        loss = criterion(predictions, labels)\n",
    "        losses.append(loss.item())\n",
    "\n",
    "        loss.backward()\n",
    "        # chuẩn hóa norm rồi giới hạn maximum là 0.1\n",
    "        torch.nn.utils.clip_grad_norm_(model.parameters(), 0.1)\n",
    "        optimizer.step()\n",
    "\n",
    "        total_acc +=compute_accuracy(predictions, labels)\n",
    "        total_count += labels.size(0)\n",
    "\n",
    "        if idx % log_interval == 0 and idx > 0 :\n",
    "            elapsed = time.time() - start_time\n",
    "            print(\n",
    "                \"|wait{} | epoch {:3d} | {:5d}/{:5d} batches \"\n",
    "                \"| accuracy {:8.3f}\".format(\n",
    "                    elapsed, epoch, idx, len(train_dataloader), total_acc / total_count\n",
    "                )\n",
    "            )\n",
    "\n",
    "            start_time = time.time()\n",
    "\n",
    "    total_acc = total_acc / total_count\n",
    "    total_loss = sum(losses) / len(losses)\n",
    "\n",
    "    return total_acc, total_loss\n",
    "\n",
    "\n",
    "def evaluate(model, criterion, device, valid_dataloader):\n",
    "    model.eval()\n",
    "\n",
    "    total_acc, total_count = 0, 0\n",
    "    losses = []\n",
    "    for idx, (inputs, labels) in enumerate(valid_dataloader):\n",
    "        inputs = inputs.to(device)\n",
    "        labels = labels.to(device)\n",
    "\n",
    "        predictions = model.forward(inputs)\n",
    "\n",
    "        loss = criterion(predictions, labels)\n",
    "        losses.append(loss.item())\n",
    "\n",
    "        total_acc += compute_accuracy(predictions, labels)\n",
    "        total_count += labels.size(0)\n",
    "    \n",
    "    total_acc = total_acc / total_count\n",
    "    total_loss = sum(losses) / len(losses)\n",
    "\n",
    "    return total_acc, total_loss"
   ]
  },
  {
   "cell_type": "code",
   "execution_count": 81,
   "metadata": {},
   "outputs": [
    {
     "name": "stdout",
     "output_type": "stream",
     "text": [
      "|wait9.919075727462769 | epoch   0 |    50/  211 batches | accuracy    0.710\n",
      "|wait1.1943206787109375 | epoch   0 |   100/  211 batches | accuracy    0.800\n",
      "|wait1.303595781326294 | epoch   0 |   150/  211 batches | accuracy    0.838\n",
      "|wait1.198756456375122 | epoch   0 |   200/  211 batches | accuracy    0.862\n",
      "-----------------------------------------------------------\n",
      "| End of epoch   1 | Time : 19.85s | Train Accuracy    0.866 | Train Loss    0.478 | Valid Accuracy    0.947 | Valid Loss    0.182\n",
      "-\n",
      "|wait8.926343441009521 | epoch   0 |    50/  211 batches | accuracy    0.952\n",
      "|wait1.1840989589691162 | epoch   0 |   100/  211 batches | accuracy    0.955\n",
      "|wait1.1921443939208984 | epoch   0 |   150/  211 batches | accuracy    0.958\n",
      "|wait1.1567659378051758 | epoch   0 |   200/  211 batches | accuracy    0.959\n",
      "-----------------------------------------------------------\n",
      "| End of epoch   2 | Time : 18.48s | Train Accuracy    0.960 | Train Loss    0.134 | Valid Accuracy    0.965 | Valid Loss    0.122\n",
      "-\n",
      "|wait8.44632625579834 | epoch   0 |    50/  211 batches | accuracy    0.970\n",
      "|wait1.549743413925171 | epoch   0 |   100/  211 batches | accuracy    0.969\n",
      "|wait1.2057058811187744 | epoch   0 |   150/  211 batches | accuracy    0.969\n",
      "|wait1.2076709270477295 | epoch   0 |   200/  211 batches | accuracy    0.970\n",
      "-----------------------------------------------------------\n",
      "| End of epoch   3 | Time : 18.27s | Train Accuracy    0.970 | Train Loss    0.097 | Valid Accuracy    0.971 | Valid Loss    0.102\n",
      "-\n",
      "|wait8.119375228881836 | epoch   0 |    50/  211 batches | accuracy    0.974\n",
      "|wait1.187220573425293 | epoch   0 |   100/  211 batches | accuracy    0.976\n",
      "|wait1.1262929439544678 | epoch   0 |   150/  211 batches | accuracy    0.976\n",
      "|wait1.1449949741363525 | epoch   0 |   200/  211 batches | accuracy    0.976\n",
      "-----------------------------------------------------------\n",
      "| End of epoch   4 | Time : 17.15s | Train Accuracy    0.976 | Train Loss    0.078 | Valid Accuracy    0.976 | Valid Loss    0.085\n",
      "-\n",
      "|wait7.904614686965942 | epoch   0 |    50/  211 batches | accuracy    0.979\n",
      "|wait1.1237213611602783 | epoch   0 |   100/  211 batches | accuracy    0.978\n",
      "|wait1.1279644966125488 | epoch   0 |   150/  211 batches | accuracy    0.979\n",
      "|wait1.121847152709961 | epoch   0 |   200/  211 batches | accuracy    0.979\n",
      "-----------------------------------------------------------\n",
      "| End of epoch   5 | Time : 16.78s | Train Accuracy    0.980 | Train Loss    0.068 | Valid Accuracy    0.976 | Valid Loss    0.089\n",
      "-\n",
      "|wait7.832086563110352 | epoch   0 |    50/  211 batches | accuracy    0.983\n",
      "|wait1.1298322677612305 | epoch   0 |   100/  211 batches | accuracy    0.982\n",
      "|wait1.1315720081329346 | epoch   0 |   150/  211 batches | accuracy    0.982\n",
      "|wait1.1808784008026123 | epoch   0 |   200/  211 batches | accuracy    0.982\n",
      "-----------------------------------------------------------\n",
      "| End of epoch   6 | Time : 16.78s | Train Accuracy    0.982 | Train Loss    0.060 | Valid Accuracy    0.981 | Valid Loss    0.070\n",
      "-\n",
      "|wait7.855219841003418 | epoch   0 |    50/  211 batches | accuracy    0.985\n",
      "|wait1.108644962310791 | epoch   0 |   100/  211 batches | accuracy    0.984\n",
      "|wait1.111710786819458 | epoch   0 |   150/  211 batches | accuracy    0.984\n",
      "|wait1.1434338092803955 | epoch   0 |   200/  211 batches | accuracy    0.984\n",
      "-----------------------------------------------------------\n",
      "| End of epoch   7 | Time : 16.73s | Train Accuracy    0.983 | Train Loss    0.054 | Valid Accuracy    0.975 | Valid Loss    0.087\n",
      "-\n",
      "|wait7.804746866226196 | epoch   0 |    50/  211 batches | accuracy    0.985\n",
      "|wait1.139394998550415 | epoch   0 |   100/  211 batches | accuracy    0.985\n",
      "|wait1.1351633071899414 | epoch   0 |   150/  211 batches | accuracy    0.985\n",
      "|wait1.1322641372680664 | epoch   0 |   200/  211 batches | accuracy    0.985\n",
      "-----------------------------------------------------------\n",
      "| End of epoch   8 | Time : 16.71s | Train Accuracy    0.985 | Train Loss    0.049 | Valid Accuracy    0.984 | Valid Loss    0.060\n",
      "-\n",
      "|wait7.776932954788208 | epoch   0 |    50/  211 batches | accuracy    0.988\n",
      "|wait1.110398292541504 | epoch   0 |   100/  211 batches | accuracy    0.987\n",
      "|wait1.1114952564239502 | epoch   0 |   150/  211 batches | accuracy    0.986\n",
      "|wait1.1191699504852295 | epoch   0 |   200/  211 batches | accuracy    0.986\n",
      "-----------------------------------------------------------\n",
      "| End of epoch   9 | Time : 16.60s | Train Accuracy    0.987 | Train Loss    0.043 | Valid Accuracy    0.983 | Valid Loss    0.059\n",
      "-\n",
      "|wait7.849653244018555 | epoch   0 |    50/  211 batches | accuracy    0.988\n",
      "|wait1.124431848526001 | epoch   0 |   100/  211 batches | accuracy    0.988\n",
      "|wait1.130345106124878 | epoch   0 |   150/  211 batches | accuracy    0.988\n",
      "|wait1.1386981010437012 | epoch   0 |   200/  211 batches | accuracy    0.987\n",
      "-----------------------------------------------------------\n",
      "| End of epoch  10 | Time : 16.74s | Train Accuracy    0.987 | Train Loss    0.041 | Valid Accuracy    0.980 | Valid Loss    0.073\n",
      "-\n"
     ]
    }
   ],
   "source": [
    "num_classes = len(train_data.dataset.classes)\n",
    "\n",
    "device = torch.device('cuda' if torch.cuda.is_available() else 'cpu')\n",
    "\n",
    "lenet_model = LeNetClassifier(num_classes)\n",
    "lenet_model.to(device)\n",
    "\n",
    "criterion = torch.nn.CrossEntropyLoss()\n",
    "optimizer = optim.Adam(lenet_model.parameters())\n",
    "\n",
    "num_epochs = 10\n",
    "save_model = './model'\n",
    "\n",
    "train_accs, train_losses = [], []\n",
    "eval_accs, eval_losses = [], []\n",
    "best_loss_eval = 100\n",
    "\n",
    "for epoch in range(1, num_epochs + 1):\n",
    "    e_start_time = time.time()\n",
    "\n",
    "    train_acc, train_loss = train(\n",
    "        lenet_model, optimizer, criterion, train_dataloader, device, epoch=0)\n",
    "    train_accs.append(train_acc)\n",
    "    train_losses.append(train_loss)\n",
    "\n",
    "    # Evaluation\n",
    "    eval_acc, eval_loss = evaluate(lenet_model, criterion, device, valid_dataloader)\n",
    "    eval_accs.append(eval_acc)\n",
    "    eval_losses.append(eval_loss)\n",
    "\n",
    "    if eval_loss < best_loss_eval :\n",
    "        torch.save(lenet_model.state_dict(), save_model + '/lenet_model.pt')\n",
    "\n",
    "    print(\"-\" * 59)\n",
    "    print(\"| End of epoch {:3d} | Time : {:5.2f}s | Train Accuracy {:8.3f} | Train Loss {:8.3f} \"\n",
    "          \"| Valid Accuracy {:8.3f} | Valid Loss {:8.3f}\".format(\n",
    "              epoch, time.time() - e_start_time, train_acc, train_loss, eval_acc, eval_loss))\n",
    "    print(\"-\")\n",
    "\n",
    "\n"
   ]
  },
  {
   "cell_type": "code",
   "execution_count": 82,
   "metadata": {},
   "outputs": [
    {
     "name": "stderr",
     "output_type": "stream",
     "text": [
      "C:\\Users\\ASUS\\AppData\\Local\\Temp\\ipykernel_5812\\38378191.py:1: FutureWarning: You are using `torch.load` with `weights_only=False` (the current default value), which uses the default pickle module implicitly. It is possible to construct malicious pickle data which will execute arbitrary code during unpickling (See https://github.com/pytorch/pytorch/blob/main/SECURITY.md#untrusted-models for more details). In a future release, the default value for `weights_only` will be flipped to `True`. This limits the functions that could be executed during unpickling. Arbitrary objects will no longer be allowed to be loaded via this mode unless they are explicitly allowlisted by the user via `torch.serialization.add_safe_globals`. We recommend you start setting `weights_only=True` for any use case where you don't have full control of the loaded file. Please open an issue on GitHub for any issues related to this experimental feature.\n",
      "  lenet_model.load_state_dict(torch.load(save_model + '/lenet_model.pt'))\n"
     ]
    },
    {
     "data": {
      "text/plain": [
       "(0.9827, 0.05362536563934554)"
      ]
     },
     "execution_count": 82,
     "metadata": {},
     "output_type": "execute_result"
    }
   ],
   "source": [
    "\n",
    "lenet_model.load_state_dict(torch.load(save_model + '/lenet_model.pt'))\n",
    "lenet_model.eval()\n",
    "\n",
    "test_acc, test_loss = evaluate(lenet_model, criterion, device, test_dataloader)\n",
    "test_acc, test_loss"
   ]
  },
  {
   "cell_type": "code",
   "execution_count": 83,
   "metadata": {},
   "outputs": [
    {
     "data": {
      "text/plain": [
       "[0.8656296296296296,\n",
       " 0.9595925925925926,\n",
       " 0.9702037037037037,\n",
       " 0.9764814814814815,\n",
       " 0.9795555555555555,\n",
       " 0.981574074074074,\n",
       " 0.9832592592592593,\n",
       " 0.9849629629629629,\n",
       " 0.986537037037037,\n",
       " 0.9872407407407408]"
      ]
     },
     "execution_count": 83,
     "metadata": {},
     "output_type": "execute_result"
    }
   ],
   "source": [
    "train_accs"
   ]
  },
  {
   "cell_type": "code",
   "execution_count": 84,
   "metadata": {},
   "outputs": [
    {
     "data": {
      "text/plain": [
       "array([ 1,  2,  3,  4,  5,  6,  7,  8,  9, 10])"
      ]
     },
     "execution_count": 84,
     "metadata": {},
     "output_type": "execute_result"
    }
   ],
   "source": [
    "np.arange(1, len(train_accs) + 1)"
   ]
  },
  {
   "cell_type": "code",
   "execution_count": null,
   "metadata": {},
   "outputs": [
    {
     "data": {
      "image/png": "[encoded data removed]",
      "text/plain": [
       "<Figure size 1200x600 with 2 Axes>"
      ]
     },
     "metadata": {},
     "output_type": "display_data"
    }
   ],
   "source": [
    "plt.figure(figsize=(12, 6))\n",
    "# Accuracy plot\n",
    "plt.subplot(1, 2, 1)\n",
    "plt.plot(np.arange(1, len(train_accs) + 1), train_accs,\n",
    "         marker='o', color='b', label=\"Training\")\n",
    "plt.plot(np.arange(1, len(eval_accs) + 1), eval_accs,\n",
    "         marker='o', color='r', label=\"Validation\")\n",
    "plt.title('Test Accuracy')\n",
    "plt.xlabel('Epoch')\n",
    "plt.ylabel('Accuracy')\n",
    "plt.legend()\n",
    "\n",
    "# Loss plot\n",
    "plt.subplot(1, 2, 2)\n",
    "plt.plot(np.arange(1, len(train_losses) + 1), train_losses,\n",
    "         marker='o', color='b', label=\"Training\")\n",
    "plt.plot(np.arange(1, len(eval_losses) + 1), eval_losses,\n",
    "         marker='o', color='r', label=\"Validation\")\n",
    "plt.title('Test Loss')\n",
    "plt.xlabel('Epoch')\n",
    "plt.ylabel('Loss')\n",
    "plt.legend()\n",
    "\n",
    "plt.tight_layout()\n",
    "plt.show()"
   ]
  }
 ],
 "metadata": {
  "kernelspec": {
   "display_name": "AIOEx",
   "language": "python",
   "name": "python3"
  },
  "language_info": {
   "codemirror_mode": {
    "name": "ipython",
    "version": 3
   },
   "file_extension": ".py",
   "mimetype": "text/x-python",
   "name": "python",
   "nbconvert_exporter": "python",
   "pygments_lexer": "ipython3",
   "version": "3.10.15"
  }
 },
 "nbformat": 4,
 "nbformat_minor": 2
}
