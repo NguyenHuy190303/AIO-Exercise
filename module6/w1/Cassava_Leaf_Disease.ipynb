{
 "cells": [
  {
   "cell_type": "code",
   "execution_count": 10,
   "metadata": {
    "id": "6jl25RnZk90t"
   },
   "outputs": [],
   "source": [
    "import os\n",
    "import random\n",
    "import numpy as np\n",
    "\n",
    "import torch\n",
    "import torch.nn as nn\n",
    "import torch.optim as optim\n",
    "import torch.nn.functional as F\n",
    "import torch.utils.data as data\n",
    "\n",
    "import torchvision.transforms as transforms\n",
    "import torchvision.datasets as datasets\n",
    "\n",
    "from torchsummary import summary\n",
    "\n",
    "import matplotlib.pyplot as plt\n",
    "from PIL import Image\n",
    "import time\n",
    "import requests\n",
    "import zipfile\n",
    "import os"
   ]
  },
  {
   "cell_type": "code",
   "execution_count": 11,
   "metadata": {
    "id": "sqxQKV5-k90v"
   },
   "outputs": [],
   "source": [
    "# import os\n",
    "# import shutil\n",
    "# # copy dán vào link để lấy\n",
    "# url = 'https://storage.googleapis.com/emcassavadata/cassavaleafdata.zip'\n",
    "\n",
    "# zip_path = './data/cassavaleafdata.zip'\n",
    "# extract_to = './data'\n",
    "\n",
    "# # Giải nén tệp ZIP\n",
    "# with zipfile.ZipFile(zip_path, 'r') as zip_ref:\n",
    "#     zip_ref.extractall(extract_to)\n",
    "\n",
    "# print(f\"Extracted to: {extract_to}\")\n",
    "\n",
    "\n",
    "# # Xóa tệp ZIP\n",
    "# file_to_delete = './data/cassavaleafdata.zip'\n",
    "# os.remove(file_to_delete)\n",
    "# print(f\"File deleted: {file_to_delete}\")"
   ]
  },
  {
   "cell_type": "code",
   "execution_count": 15,
   "metadata": {
    "id": "g7hNrB1Rk90w"
   },
   "outputs": [],
   "source": [
    "data_paths = {\n",
    "    'train': './train',\n",
    "    'valid': './validation',\n",
    "    'test': './test'\n",
    "}\n",
    "\n",
    "def loader(path):\n",
    "    return Image.open(path)\n",
    "\n",
    "img_size = 150\n",
    "train_transforms = transforms.Compose([\n",
    "    transforms.Resize((img_size, img_size)),\n",
    "    transforms.ToTensor()\n",
    "])\n",
    "\n",
    "train_data = datasets.ImageFolder(\n",
    "    root=data_paths['train'],\n",
    "    loader=loader,\n",
    "    transform=train_transforms\n",
    ")\n",
    "valid_data = datasets.ImageFolder(\n",
    "    root=data_paths['valid'],\n",
    "    transform=train_transforms\n",
    ")\n",
    "\n",
    "test_data = datasets.ImageFolder(\n",
    "    root=data_paths['test'],\n",
    "    transform=train_transforms\n",
    ")\n",
    "\n",
    "batch_size = 256\n",
    "train_loader = data.DataLoader(train_data, batch_size=batch_size, shuffle=True, num_workers=2)\n",
    "valid_loader = data.DataLoader(valid_data, batch_size=batch_size, shuffle=False, num_workers=2)\n",
    "test_loader = data.DataLoader(test_data, batch_size=batch_size, shuffle=False, num_workers=2)"
   ]
  },
  {
   "cell_type": "code",
   "execution_count": 16,
   "metadata": {
    "id": "BlRAM-2Uk90w"
   },
   "outputs": [],
   "source": [
    "class LeNetClassifier(nn.Module):\n",
    "    def __init__(self, num_classes) -> None:\n",
    "        super().__init__()\n",
    "        self.conv1 = nn.Conv2d(\n",
    "            in_channels=3, out_channels=6, kernel_size=5, padding='same'\n",
    "        )\n",
    "        self.avgpool1 = nn.AvgPool2d(kernel_size=2)\n",
    "        self.conv2 = nn.Conv2d(in_channels=6, out_channels=16, kernel_size=5)\n",
    "        self.avgpool2 = nn.AvgPool2d(kernel_size=2)\n",
    "        self.flatten = nn.Flatten()\n",
    "        self.linear1 = nn.Linear(16 * 35 * 35, 120)\n",
    "        self.linear2 = nn.Linear(120, 84)\n",
    "        self.out = nn.Linear(84, num_classes)\n",
    "\n",
    "    def forward(self, inputs):\n",
    "        outputs = self.conv1(inputs)\n",
    "        outputs = self.avgpool1(outputs)\n",
    "        outputs = F.relu(outputs)\n",
    "        outputs = self.conv2(outputs)\n",
    "        outputs = self.avgpool2(outputs)\n",
    "        outputs = F.relu(outputs)\n",
    "        outputs = self.flatten(outputs)\n",
    "        outputs = self.linear1(outputs)\n",
    "        outputs = self.linear2(outputs)\n",
    "        outputs = self.out(outputs)\n",
    "        return outputs"
   ]
  },
  {
   "cell_type": "code",
   "execution_count": 17,
   "metadata": {
    "id": "NEem3Xlzk90w"
   },
   "outputs": [],
   "source": [
    "def compute_accuracy(prediction, labels):\n",
    "    total_acc = (prediction.argmax(dim=1) == labels).sum().item()\n",
    "    return total_acc\n",
    "\n",
    "def train(model: LeNetClassifier, optimizer, criterion, train_dataloader, device, epoch=0, log_interval=50):\n",
    "    model.train()\n",
    "    total_acc, total_count = 0, 0\n",
    "    losses = []\n",
    "    start_time = time.time()\n",
    "\n",
    "    for idx, (inputs, labels) in enumerate(train_dataloader):\n",
    "        inputs = inputs.to(device)\n",
    "        labels = labels.to(device)\n",
    "\n",
    "        optimizer.zero_grad()\n",
    "\n",
    "        predictions = model.forward(inputs)\n",
    "\n",
    "        loss = criterion(predictions, labels)\n",
    "        losses.append(loss.item())\n",
    "\n",
    "        loss.backward()\n",
    "        # chuẩn hóa norm rồi giới hạn maximum là 0.1\n",
    "        torch.nn.utils.clip_grad_norm_(model.parameters(), 0.1)\n",
    "        optimizer.step()\n",
    "\n",
    "        total_acc += compute_accuracy(predictions, labels)\n",
    "        total_count += labels.size(0)\n",
    "\n",
    "        if idx % log_interval == 0 and idx > 0:\n",
    "            elapsed = time.time() - start_time\n",
    "            print(\n",
    "                \"|wait{} | epoch {:3d} | {:5d}/{:5d} batches \"\n",
    "                \"| accuracy {:8.3f}\".format(\n",
    "                    elapsed, epoch, idx, len(\n",
    "                        train_dataloader), total_acc / total_count\n",
    "                )\n",
    "            )\n",
    "\n",
    "            start_time = time.time()\n",
    "\n",
    "    total_acc = total_acc / total_count\n",
    "    total_loss = sum(losses) / len(losses)\n",
    "\n",
    "    return total_acc, total_loss\n",
    "\n",
    "\n",
    "def evaluate(model, criterion, device, valid_dataloader):\n",
    "    model.eval()\n",
    "\n",
    "    total_acc, total_count = 0, 0\n",
    "    losses = []\n",
    "    for idx, (inputs, labels) in enumerate(valid_dataloader):\n",
    "        inputs = inputs.to(device)\n",
    "        labels = labels.to(device)\n",
    "\n",
    "        predictions = model.forward(inputs)\n",
    "\n",
    "        loss = criterion(predictions, labels)\n",
    "        losses.append(loss.item())\n",
    "\n",
    "        total_acc += compute_accuracy(predictions, labels)\n",
    "        total_count += labels.size(0)\n",
    "\n",
    "    total_acc = total_acc / total_count\n",
    "    total_loss = sum(losses) / len(losses)\n",
    "\n",
    "    return total_acc, total_loss"
   ]
  },
  {
   "cell_type": "code",
   "execution_count": 18,
   "metadata": {
    "colab": {
     "base_uri": "https://localhost:8080/"
    },
    "id": "zKWs4xvck90x",
    "outputId": "17192e34-5a7e-4783-d667-4c8c3c3e3fee"
   },
   "outputs": [
    {
     "name": "stdout",
     "output_type": "stream",
     "text": [
      "-----------------------------------------------------------\n",
      "| End of epoch   1 | Time : 38.67s | Train Accuracy    0.448 | Train Loss    1.717 | Valid Accuracy    0.470 | Valid Loss    1.435\n",
      "-\n",
      "-----------------------------------------------------------\n",
      "| End of epoch   2 | Time : 41.40s | Train Accuracy    0.470 | Train Loss    1.335 | Valid Accuracy    0.473 | Valid Loss    1.407\n",
      "-\n",
      "-----------------------------------------------------------\n",
      "| End of epoch   3 | Time : 38.40s | Train Accuracy    0.490 | Train Loss    1.296 | Valid Accuracy    0.497 | Valid Loss    1.418\n",
      "-\n",
      "-----------------------------------------------------------\n",
      "| End of epoch   4 | Time : 38.67s | Train Accuracy    0.517 | Train Loss    1.259 | Valid Accuracy    0.493 | Valid Loss    1.405\n",
      "-\n",
      "-----------------------------------------------------------\n",
      "| End of epoch   5 | Time : 37.44s | Train Accuracy    0.519 | Train Loss    1.244 | Valid Accuracy    0.507 | Valid Loss    1.369\n",
      "-\n",
      "-----------------------------------------------------------\n",
      "| End of epoch   6 | Time : 37.57s | Train Accuracy    0.537 | Train Loss    1.188 | Valid Accuracy    0.534 | Valid Loss    1.342\n",
      "-\n",
      "-----------------------------------------------------------\n",
      "| End of epoch   7 | Time : 38.14s | Train Accuracy    0.556 | Train Loss    1.152 | Valid Accuracy    0.553 | Valid Loss    1.284\n",
      "-\n",
      "-----------------------------------------------------------\n",
      "| End of epoch   8 | Time : 38.14s | Train Accuracy    0.581 | Train Loss    1.091 | Valid Accuracy    0.563 | Valid Loss    1.308\n",
      "-\n",
      "-----------------------------------------------------------\n",
      "| End of epoch   9 | Time : 39.24s | Train Accuracy    0.598 | Train Loss    1.037 | Valid Accuracy    0.571 | Valid Loss    1.265\n",
      "-\n",
      "-----------------------------------------------------------\n",
      "| End of epoch  10 | Time : 38.39s | Train Accuracy    0.617 | Train Loss    0.975 | Valid Accuracy    0.563 | Valid Loss    1.291\n",
      "-\n"
     ]
    }
   ],
   "source": [
    "num_classes = len(train_loader.dataset.classes)\n",
    "\n",
    "device = torch.device('cuda' if torch.cuda.is_available() else 'cpu')\n",
    "\n",
    "lenet_model = LeNetClassifier(num_classes)\n",
    "lenet_model.to(device)\n",
    "\n",
    "criterion = torch.nn.CrossEntropyLoss()\n",
    "optimizer = optim.Adam(lenet_model.parameters())\n",
    "\n",
    "num_epochs = 10\n",
    "save_model = ''\n",
    "\n",
    "train_accs, train_losses = [], []\n",
    "eval_accs, eval_losses = [], []\n",
    "best_loss_eval = 100\n",
    "\n",
    "for epoch in range(1, num_epochs + 1):\n",
    "    e_start_time = time.time()\n",
    "\n",
    "    train_acc, train_loss = train(\n",
    "        lenet_model, optimizer, criterion, train_loader, device, epoch=0)\n",
    "    train_accs.append(train_acc)\n",
    "    train_losses.append(train_loss)\n",
    "\n",
    "    # Evaluation\n",
    "    eval_acc, eval_loss = evaluate(\n",
    "        lenet_model, criterion, device, valid_loader)\n",
    "    eval_accs.append(eval_acc)\n",
    "    eval_losses.append(eval_loss)\n",
    "\n",
    "    if eval_loss < best_loss_eval:\n",
    "        torch.save(lenet_model.state_dict(), save_model + '/lenet_model.pt')\n",
    "\n",
    "    print(\"-\" * 59)\n",
    "    print(\"| End of epoch {:3d} | Time : {:5.2f}s | Train Accuracy {:8.3f} | Train Loss {:8.3f} \"\n",
    "          \"| Valid Accuracy {:8.3f} | Valid Loss {:8.3f}\".format(\n",
    "              epoch, time.time() - e_start_time, train_acc, train_loss, eval_acc, eval_loss))\n",
    "    print(\"-\")"
   ]
  },
  {
   "cell_type": "code",
   "execution_count": 20,
   "metadata": {
    "colab": {
     "base_uri": "https://localhost:8080/"
    },
    "id": "sRzBm3lKk90x",
    "outputId": "8326a4fa-b8a4-4f0d-a35b-75ce3ae2cb46"
   },
   "outputs": [
    {
     "name": "stderr",
     "output_type": "stream",
     "text": [
      "<ipython-input-20-60f9f64b9697>:1: FutureWarning: You are using `torch.load` with `weights_only=False` (the current default value), which uses the default pickle module implicitly. It is possible to construct malicious pickle data which will execute arbitrary code during unpickling (See https://github.com/pytorch/pytorch/blob/main/SECURITY.md#untrusted-models for more details). In a future release, the default value for `weights_only` will be flipped to `True`. This limits the functions that could be executed during unpickling. Arbitrary objects will no longer be allowed to be loaded via this mode unless they are explicitly allowlisted by the user via `torch.serialization.add_safe_globals`. We recommend you start setting `weights_only=True` for any use case where you don't have full control of the loaded file. Please open an issue on GitHub for any issues related to this experimental feature.\n",
      "  lenet_model.load_state_dict(torch.load(save_model + '/lenet_model.pt'))\n"
     ]
    },
    {
     "data": {
      "text/plain": [
       "(0.5607427055702918, 1.257632914930582)"
      ]
     },
     "execution_count": 20,
     "metadata": {},
     "output_type": "execute_result"
    }
   ],
   "source": [
    "lenet_model.load_state_dict(torch.load(save_model + '/lenet_model.pt'))\n",
    "lenet_model.eval()\n",
    "\n",
    "test_acc, test_loss = evaluate(lenet_model, criterion, device, test_loader)\n",
    "test_acc, test_loss"
   ]
  },
  {
   "cell_type": "code",
   "execution_count": 22,
   "metadata": {
    "colab": {
     "base_uri": "https://localhost:8080/",
     "height": 546
    },
    "id": "iYA0nSLjk90x",
    "outputId": "c521da1d-534f-4793-9f36-0f53a93e72fa"
   },
   "outputs": [
    {
     "data": {
      "image/png": "[encoded data removed]",
      "text/plain": [
       "<Figure size 1200x600 with 2 Axes>"
      ]
     },
     "metadata": {},
     "output_type": "display_data"
    }
   ],
   "source": [
    "def plot_result(num_epochs, train_accs, eval_accs, train_losses, eval_losses):\n",
    "    epochs = list(range(num_epochs))\n",
    "    fig, axs = plt.subplots(nrows = 1, ncols =2 , figsize = (12,6))\n",
    "    axs[0].plot(epochs, train_accs, label = \"Training\")\n",
    "    axs[0].plot(epochs, eval_accs, label = \"Evaluation\")\n",
    "    axs[1].plot(epochs, train_losses, label = \"Training\")\n",
    "    axs[1].plot(epochs, eval_losses, label = \"Evaluation\")\n",
    "    axs[0].set_xlabel(\"Epochs\")\n",
    "    axs[1].set_xlabel(\"Epochs\")\n",
    "    axs[0].set_ylabel(\"Accuracy\")\n",
    "    axs[1].set_ylabel(\"Loss\")\n",
    "    plt.legend()\n",
    "\n",
    "plot_result(num_epochs, train_accs, eval_accs, train_losses, eval_losses)"
   ]
  }
 ],
 "metadata": {
  "accelerator": "GPU",
  "colab": {
   "gpuType": "T4",
   "provenance": []
  },
  "kernelspec": {
   "display_name": "AIOEx",
   "language": "python",
   "name": "python3"
  },
  "language_info": {
   "codemirror_mode": {
    "name": "ipython",
    "version": 3
   },
   "file_extension": ".py",
   "mimetype": "text/x-python",
   "name": "python",
   "nbconvert_exporter": "python",
   "pygments_lexer": "ipython3",
   "version": "3.10.15"
  }
 },
 "nbformat": 4,
 "nbformat_minor": 0
}
