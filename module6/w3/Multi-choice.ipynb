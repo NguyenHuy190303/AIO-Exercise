{
 "cells": [
  {
   "cell_type": "markdown",
   "metadata": {},
   "source": [
    "Mô hình RNN (Recurrent Neural Network) có 3 bộ tham số chính (không tính bias). Cụ thể:\n",
    "\n",
    "- W_ii (Weight for input to hidden state): Bộ tham số kết nối giữa đầu vào (input) và trạng thái ẩn (hidden state).\n",
    "- W_hi (Weight for hidden state to hidden state): Bộ tham số kết nối giữa trạng thái ẩn ở thời điểm trước và trạng thái ẩn ở thời điểm hiện tại (lặp lại).\n",
    "- W_ho (Weight for hidden state to output): Bộ tham số kết nối giữa trạng thái ẩn và đầu ra."
   ]
  }
 ],
 "metadata": {
  "language_info": {
   "name": "python"
  }
 },
 "nbformat": 4,
 "nbformat_minor": 2
}
