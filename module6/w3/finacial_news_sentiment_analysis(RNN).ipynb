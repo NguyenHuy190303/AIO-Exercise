{
 "cells": [
  {
   "cell_type": "code",
   "execution_count": 91,
   "metadata": {},
   "outputs": [],
   "source": [
    "# import zipfile\n",
    "\n",
    "# # specify the zip file name\n",
    "# zip_file = './data/dataset.zip'\n",
    "# # specify the directory to extract to\n",
    "# extract_to = './data'\n",
    "\n",
    "# # open the zip file in read mode\n",
    "# with zipfile.ZipFile(zip_file, 'r') as zip_ref:\n",
    "#     # extract all the contents\n",
    "#     zip_ref.extractall(extract_to)"
   ]
  },
  {
   "cell_type": "code",
   "execution_count": 92,
   "metadata": {},
   "outputs": [
    {
     "name": "stderr",
     "output_type": "stream",
     "text": [
      "[nltk_data] Downloading package stopwords to\n",
      "[nltk_data]     C:\\Users\\ASUS\\AppData\\Roaming\\nltk_data...\n",
      "[nltk_data]   Package stopwords is already up-to-date!\n"
     ]
    },
    {
     "data": {
      "text/plain": [
       "True"
      ]
     },
     "execution_count": 92,
     "metadata": {},
     "output_type": "execute_result"
    }
   ],
   "source": [
    "from sklearn.model_selection import train_test_split\n",
    "from torch.utils.data import Dataset, DataLoader\n",
    "from nltk.stem.porter import PorterStemmer\n",
    "from nltk.corpus import stopwords\n",
    "import unidecode\n",
    "import nltk\n",
    "import re\n",
    "import matplotlib.pyplot as plt\n",
    "import pandas as pd\n",
    "import numpy as np\n",
    "import os\n",
    "import torch\n",
    "import torch.nn as nn\n",
    "\n",
    "seed = 1\n",
    "torch.manual_seed(seed)\n",
    "\n",
    "\n",
    "nltk.download('stopwords')"
   ]
  },
  {
   "cell_type": "markdown",
   "metadata": {},
   "source": [
    "### Đọc bộ dữ liệu"
   ]
  },
  {
   "cell_type": "code",
   "execution_count": 93,
   "metadata": {},
   "outputs": [
    {
     "data": {
      "text/html": [
       "<div>\n",
       "<style scoped>\n",
       "    .dataframe tbody tr th:only-of-type {\n",
       "        vertical-align: middle;\n",
       "    }\n",
       "\n",
       "    .dataframe tbody tr th {\n",
       "        vertical-align: top;\n",
       "    }\n",
       "\n",
       "    .dataframe thead th {\n",
       "        text-align: right;\n",
       "    }\n",
       "</style>\n",
       "<table border=\"1\" class=\"dataframe\">\n",
       "  <thead>\n",
       "    <tr style=\"text-align: right;\">\n",
       "      <th></th>\n",
       "      <th>sentiment</th>\n",
       "      <th>content</th>\n",
       "    </tr>\n",
       "  </thead>\n",
       "  <tbody>\n",
       "    <tr>\n",
       "      <th>0</th>\n",
       "      <td>neutral</td>\n",
       "      <td>According to Gran , the company has no plans t...</td>\n",
       "    </tr>\n",
       "    <tr>\n",
       "      <th>1</th>\n",
       "      <td>neutral</td>\n",
       "      <td>Technopolis plans to develop in stages an area...</td>\n",
       "    </tr>\n",
       "    <tr>\n",
       "      <th>2</th>\n",
       "      <td>negative</td>\n",
       "      <td>The international electronic industry company ...</td>\n",
       "    </tr>\n",
       "    <tr>\n",
       "      <th>3</th>\n",
       "      <td>positive</td>\n",
       "      <td>With the new production plant the company woul...</td>\n",
       "    </tr>\n",
       "    <tr>\n",
       "      <th>4</th>\n",
       "      <td>positive</td>\n",
       "      <td>According to the company 's updated strategy f...</td>\n",
       "    </tr>\n",
       "  </tbody>\n",
       "</table>\n",
       "</div>"
      ],
      "text/plain": [
       "  sentiment                                            content\n",
       "0   neutral  According to Gran , the company has no plans t...\n",
       "1   neutral  Technopolis plans to develop in stages an area...\n",
       "2  negative  The international electronic industry company ...\n",
       "3  positive  With the new production plant the company woul...\n",
       "4  positive  According to the company 's updated strategy f..."
      ]
     },
     "execution_count": 93,
     "metadata": {},
     "output_type": "execute_result"
    }
   ],
   "source": [
    "dataset_path = './data/dataset/all-data.csv'\n",
    "# định nghĩa tên cột\n",
    "names = ['sentiment', 'content']\n",
    "df = pd.read_csv(dataset_path, names=names, header=None, encoding='ISO-8859-1')\n",
    "df.head()"
   ]
  },
  {
   "cell_type": "code",
   "execution_count": 94,
   "metadata": {},
   "outputs": [
    {
     "data": {
      "text/html": [
       "<div>\n",
       "<style scoped>\n",
       "    .dataframe tbody tr th:only-of-type {\n",
       "        vertical-align: middle;\n",
       "    }\n",
       "\n",
       "    .dataframe tbody tr th {\n",
       "        vertical-align: top;\n",
       "    }\n",
       "\n",
       "    .dataframe thead th {\n",
       "        text-align: right;\n",
       "    }\n",
       "</style>\n",
       "<table border=\"1\" class=\"dataframe\">\n",
       "  <thead>\n",
       "    <tr style=\"text-align: right;\">\n",
       "      <th></th>\n",
       "      <th>sentiment</th>\n",
       "      <th>content</th>\n",
       "    </tr>\n",
       "  </thead>\n",
       "  <tbody>\n",
       "    <tr>\n",
       "      <th>0</th>\n",
       "      <td>0</td>\n",
       "      <td>According to Gran , the company has no plans t...</td>\n",
       "    </tr>\n",
       "    <tr>\n",
       "      <th>1</th>\n",
       "      <td>0</td>\n",
       "      <td>Technopolis plans to develop in stages an area...</td>\n",
       "    </tr>\n",
       "    <tr>\n",
       "      <th>2</th>\n",
       "      <td>1</td>\n",
       "      <td>The international electronic industry company ...</td>\n",
       "    </tr>\n",
       "    <tr>\n",
       "      <th>3</th>\n",
       "      <td>2</td>\n",
       "      <td>With the new production plant the company woul...</td>\n",
       "    </tr>\n",
       "    <tr>\n",
       "      <th>4</th>\n",
       "      <td>2</td>\n",
       "      <td>According to the company 's updated strategy f...</td>\n",
       "    </tr>\n",
       "  </tbody>\n",
       "</table>\n",
       "</div>"
      ],
      "text/plain": [
       "   sentiment                                            content\n",
       "0          0  According to Gran , the company has no plans t...\n",
       "1          0  Technopolis plans to develop in stages an area...\n",
       "2          1  The international electronic industry company ...\n",
       "3          2  With the new production plant the company woul...\n",
       "4          2  According to the company 's updated strategy f..."
      ]
     },
     "execution_count": 94,
     "metadata": {},
     "output_type": "execute_result"
    }
   ],
   "source": [
    "classes = {\n",
    "    class_name: index for index, class_name in enumerate(df['sentiment'].unique())\n",
    "}\n",
    "df['sentiment'] = df['sentiment'].apply(lambda x: classes[x])\n",
    "df.head()"
   ]
  },
  {
   "cell_type": "markdown",
   "metadata": {},
   "source": [
    "### Preprocessing"
   ]
  },
  {
   "cell_type": "code",
   "execution_count": 95,
   "metadata": {},
   "outputs": [],
   "source": [
    "english_stopwords = set(stopwords.words('english'))\n",
    "stemmer = PorterStemmer()\n",
    "\n",
    "def text_normalize(text):\n",
    "    text = unidecode.unidecode(text)\n",
    "    text = text.lower()\n",
    "    text = re.sub(r'[^a-z0-9\\s]', '', text)\n",
    "    text = ' '.join([stemmer.stem(word) for word in text.split() if word not in english_stopwords])\n",
    "    return text"
   ]
  },
  {
   "cell_type": "code",
   "execution_count": 96,
   "metadata": {},
   "outputs": [],
   "source": [
    "df['content'] = df['content'].apply(text_normalize)"
   ]
  },
  {
   "cell_type": "markdown",
   "metadata": {},
   "source": [
    "### Build vocabulary"
   ]
  },
  {
   "cell_type": "code",
   "execution_count": 97,
   "metadata": {},
   "outputs": [
    {
     "name": "stdout",
     "output_type": "stream",
     "text": [
      "Vocab size: 8903\n"
     ]
    }
   ],
   "source": [
    "vocab = []\n",
    "\n",
    "for content in df['content']:\n",
    "    contents = content.split()\n",
    "    for word in contents:\n",
    "        if word not in vocab:\n",
    "            vocab.append(word)\n",
    "\n",
    "vocab.append('UNK')\n",
    "vocab.append('PAD')\n",
    "\n",
    "word2idx = {word: idx for idx, word in enumerate(vocab)}\n",
    "print(f'Vocab size: {len(vocab)}')"
   ]
  },
  {
   "cell_type": "markdown",
   "metadata": {},
   "source": [
    "### Tokenizer"
   ]
  },
  {
   "cell_type": "code",
   "execution_count": 98,
   "metadata": {},
   "outputs": [],
   "source": [
    "def transform_text(text, vocab, max_seq):\n",
    "    tokens = []\n",
    "    for word in text.split():\n",
    "        try:\n",
    "            tokens.append(vocab[word])\n",
    "        except:\n",
    "            tokens.append(vocab['UNK'])\n",
    "\n",
    "    if len(tokens) < max_seq:\n",
    "        tokens += [vocab['PAD']] * (max_seq - len(tokens))\n",
    "    else:\n",
    "        tokens = tokens[:max_seq]\n",
    "\n",
    "    return tokens"
   ]
  },
  {
   "cell_type": "markdown",
   "metadata": {},
   "source": [
    "### Chia bộ dữ liệu train-test"
   ]
  },
  {
   "cell_type": "code",
   "execution_count": 99,
   "metadata": {},
   "outputs": [],
   "source": [
    "val_size = 0.2\n",
    "test_size = 0.125\n",
    "is_shuffle = True\n",
    "texts = df['content'].tolist()\n",
    "labels = df['sentiment'].tolist()\n",
    "\n",
    "\n",
    "x_train, x_val, y_train, y_val = train_test_split(\n",
    "    texts, labels, test_size=val_size, random_state=seed, shuffle=is_shuffle)\n",
    "\n",
    "x_train, x_test, y_train, y_test = train_test_split(\n",
    "    x_train, y_train, test_size=test_size, random_state=seed, shuffle=is_shuffle)"
   ]
  },
  {
   "cell_type": "markdown",
   "metadata": {},
   "source": [
    "### Build dataLoader"
   ]
  },
  {
   "cell_type": "code",
   "execution_count": 100,
   "metadata": {},
   "outputs": [],
   "source": [
    "class FinancialNews(Dataset):\n",
    "    def __init__(self, x, y, transform_text, vocab, max_seq):\n",
    "        self.x = x\n",
    "        self.y = y\n",
    "        self.transform_text = transform_text\n",
    "        self.vocab = vocab\n",
    "        self.max_seq = max_seq\n",
    "\n",
    "    def __len__(self):\n",
    "        return len(self.x)\n",
    "\n",
    "    def __getitem__(self, idx):\n",
    "        text = self.x[idx]\n",
    "        label = self.y[idx]\n",
    "\n",
    "        if self.transform_text != None:\n",
    "            text = self.transform_text(text, self.vocab, self.max_seq)\n",
    "\n",
    "        text = torch.tensor(text)\n",
    "        return text, label"
   ]
  },
  {
   "cell_type": "code",
   "execution_count": 101,
   "metadata": {},
   "outputs": [],
   "source": [
    "max_seq_len = 32\n",
    "\n",
    "train_dataset = FinancialNews(x_train, y_train, transform_text, word2idx, max_seq_len)\n",
    "val_dataset = FinancialNews(\n",
    "    x_val, y_val, transform_text, word2idx, max_seq_len)\n",
    "test_dataset = FinancialNews(\n",
    "    x_test, y_test, transform_text, word2idx, max_seq_len)\n",
    "\n",
    "\n",
    "train_batch_size = 128\n",
    "test_batch_size = 8\n",
    "\n",
    "train_loader = DataLoader(\n",
    "    train_dataset, batch_size=train_batch_size, shuffle=True)\n",
    "\n",
    "val_loader = DataLoader(val_dataset, batch_size=test_batch_size, shuffle=False)\n",
    "\n",
    "test_loader = DataLoader(test_dataset, batch_size=test_batch_size, shuffle=False)"
   ]
  },
  {
   "cell_type": "code",
   "execution_count": 102,
   "metadata": {},
   "outputs": [
    {
     "name": "stdout",
     "output_type": "stream",
     "text": [
      "Inputs shape: torch.Size([128, 32])\n",
      "Labels shape: torch.Size([128])\n"
     ]
    }
   ],
   "source": [
    "train_iter = iter(train_loader)\n",
    "train_batch = next(train_iter)\n",
    "\n",
    "# Kiểm tra nội dung của batch\n",
    "inputs, labels = train_batch  # Giả sử dataset trả về (inputs, labels)\n",
    "print(\"Inputs shape:\", inputs.shape)\n",
    "print(\"Labels shape:\", labels.shape)"
   ]
  },
  {
   "cell_type": "markdown",
   "metadata": {},
   "source": [
    "### Build model"
   ]
  },
  {
   "cell_type": "code",
   "execution_count": 103,
   "metadata": {},
   "outputs": [],
   "source": [
    "class SentimentClassifier(nn.Module):\n",
    "    def __init__(self, vocab_size, embedding_dim, hidden_dim, n_layers, n_classes, dropout_prob):\n",
    "        super(SentimentClassifier, self).__init__()\n",
    "        self.embedding = nn.Embedding(vocab_size, embedding_dim)\n",
    "        self.rnn = nn.RNN(embedding_dim, hidden_dim, n_layers,\n",
    "                          batch_first=True)\n",
    "        self.norm = nn.LayerNorm(hidden_dim)\n",
    "        self.dropout = nn.Dropout(dropout_prob)\n",
    "        self.fc = nn.Linear(hidden_dim, 16)\n",
    "        self.classifier = nn.Linear(16, n_classes)\n",
    "\n",
    "    def forward(self, x):\n",
    "        x = self.embedding(x)\n",
    "        x, hn = self.rnn(x)\n",
    "        out = self.norm(x[:,-1,:])\n",
    "        out = self.dropout(out)\n",
    "        out = self.fc(out)\n",
    "        out = self.classifier(out)\n",
    "        return out"
   ]
  },
  {
   "cell_type": "markdown",
   "metadata": {},
   "source": [
    "#### Test model"
   ]
  },
  {
   "cell_type": "code",
   "execution_count": 104,
   "metadata": {},
   "outputs": [
    {
     "name": "stdout",
     "output_type": "stream",
     "text": [
      "torch.Size([4, 3])\n"
     ]
    }
   ],
   "source": [
    "vocab_size = 5000  \n",
    "token_dim = 300 \n",
    "hidden_dim = 128 \n",
    "n_layers = 2  \n",
    "n_classes = 3  \n",
    "dropout_prob = 0.5  \n",
    "\n",
    "mode_test = SentimentClassifier(vocab_size, token_dim,\n",
    "                            hidden_dim, n_layers, n_classes, dropout_prob)\n",
    "\n",
    "batch_size = 4\n",
    "seq_len = 10\n",
    "x = torch.randint(0, vocab_size, (batch_size, seq_len)) \n",
    "y = torch.randint(0, n_classes, (batch_size,)) \n",
    "\n",
    "mode_test.eval()\n",
    "out = mode_test(x) \n",
    "print(out.shape)\n"
   ]
  },
  {
   "cell_type": "markdown",
   "metadata": {},
   "source": [
    "### Khởi tạo model"
   ]
  },
  {
   "cell_type": "code",
   "execution_count": 105,
   "metadata": {},
   "outputs": [],
   "source": [
    "n_classes = len(list(classes.keys()))\n",
    "embedding_dim = 64\n",
    "hidden_size = 64\n",
    "n_layers = 2\n",
    "dropout_prob = 0.2\n",
    "vocab_size = len(vocab)\n",
    "device = 'cuda' if torch.cuda.is_available() else 'cpu'\n",
    "\n",
    "model = SentimentClassifier(\n",
    "    vocab_size=vocab_size,\n",
    "    embedding_dim=embedding_dim,\n",
    "    hidden_dim=hidden_size,\n",
    "    n_layers=n_layers,\n",
    "    n_classes=n_classes,\n",
    "    dropout_prob=dropout_prob\n",
    ").to(device)"
   ]
  },
  {
   "cell_type": "markdown",
   "metadata": {},
   "source": [
    "### Cài đặt hàm loss và optimizer"
   ]
  },
  {
   "cell_type": "code",
   "execution_count": 106,
   "metadata": {},
   "outputs": [],
   "source": [
    "lr = 1e-4\n",
    "epochs = 50\n",
    "critertion = nn.CrossEntropyLoss()\n",
    "optimizer = torch.optim.Adam(model.parameters(), lr=lr)"
   ]
  },
  {
   "cell_type": "markdown",
   "metadata": {},
   "source": [
    "### Thực hiện huấn luyện"
   ]
  },
  {
   "cell_type": "code",
   "execution_count": 107,
   "metadata": {},
   "outputs": [],
   "source": [
    "def compute_accuracy(y_pred, y_true):\n",
    "    y_pred = torch.argmax(y_pred, dim=1)\n",
    "    correct = (y_pred == y_true).sum().item()\n",
    "    return correct / len(y_true)\n",
    "\n",
    "def fit(\n",
    "    model, train_loader, val_loader, criterion , optimizer, epochs, device\n",
    "):\n",
    "    train_losses = []\n",
    "    val_losses = []\n",
    "    acces_train = []\n",
    "    acces_val = []\n",
    "\n",
    "    for epoch in range(epochs):\n",
    "        batch_train_losses = []\n",
    "        acc_train = []\n",
    "        acc_val = []\n",
    "\n",
    "        model.train()\n",
    "        for idx, (texts, labels) in enumerate(train_loader):\n",
    "            texts, labels = texts.to(device), labels.to(device)\n",
    "\n",
    "            optimizer.zero_grad()\n",
    "            outputs = model(texts)\n",
    "            loss = criterion(outputs, labels)\n",
    "            loss.backward()\n",
    "            optimizer.step()\n",
    "\n",
    "            batch_train_losses.append(loss.item())\n",
    "            acc_train.append(compute_accuracy(outputs, labels))\n",
    "\n",
    "        val_loss, acc_val = evaluate(model, val_loader, criterion, device)\n",
    "\n",
    "\n",
    "        train_losses.append(np.mean(batch_train_losses))\n",
    "        val_losses.append(val_loss)\n",
    "        acces_train.append(np.mean(acc_train))\n",
    "        acces_val.append(acc_val)\n",
    "\n",
    "        print(\n",
    "            f\"EPOCH {epoch + 1}: \\tTrain loss: {np.mean(batch_train_losses):.4f} \\tVal loss: {val_loss:.4f}\"\n",
    "        )\n",
    "\n",
    "\n",
    "    return train_losses, val_losses, acces_train, acces_val\n",
    "\n",
    "\n",
    "def evaluate(model, data_loader, criterion, device):\n",
    "    model.eval()\n",
    "    losses = []\n",
    "    acc = []\n",
    "\n",
    "    with torch.no_grad():\n",
    "        for idx, (texts, labels) in enumerate(data_loader):\n",
    "            texts, labels = texts.to(device), labels.to(device)\n",
    "\n",
    "            outputs = model(texts)\n",
    "            loss = criterion(outputs, labels)\n",
    "\n",
    "            losses.append(loss.item())\n",
    "            acc.append(compute_accuracy(outputs, labels))\n",
    "\n",
    "    losses = np.mean(losses)\n",
    "    acc = np.mean(acc)\n",
    "\n",
    "    return losses, acc"
   ]
  },
  {
   "cell_type": "markdown",
   "metadata": {},
   "source": [
    "### Đánh giá mô hình"
   ]
  },
  {
   "cell_type": "code",
   "execution_count": 108,
   "metadata": {},
   "outputs": [
    {
     "name": "stdout",
     "output_type": "stream",
     "text": [
      "EPOCH 1: \tTrain loss: 0.9543 \tVal loss: 0.9276\n",
      "EPOCH 2: \tTrain loss: 0.9303 \tVal loss: 0.9290\n",
      "EPOCH 3: \tTrain loss: 0.9346 \tVal loss: 0.9274\n",
      "EPOCH 4: \tTrain loss: 0.9330 \tVal loss: 0.9285\n",
      "EPOCH 5: \tTrain loss: 0.9299 \tVal loss: 0.9274\n",
      "EPOCH 6: \tTrain loss: 0.9315 \tVal loss: 0.9282\n",
      "EPOCH 7: \tTrain loss: 0.9274 \tVal loss: 0.9269\n",
      "EPOCH 8: \tTrain loss: 0.9314 \tVal loss: 0.9271\n",
      "EPOCH 9: \tTrain loss: 0.9320 \tVal loss: 0.9268\n",
      "EPOCH 10: \tTrain loss: 0.9296 \tVal loss: 0.9269\n",
      "EPOCH 11: \tTrain loss: 0.9299 \tVal loss: 0.9273\n",
      "EPOCH 12: \tTrain loss: 0.9272 \tVal loss: 0.9274\n",
      "EPOCH 13: \tTrain loss: 0.9295 \tVal loss: 0.9266\n",
      "EPOCH 14: \tTrain loss: 0.9281 \tVal loss: 0.9269\n",
      "EPOCH 15: \tTrain loss: 0.9299 \tVal loss: 0.9259\n",
      "EPOCH 16: \tTrain loss: 0.9293 \tVal loss: 0.9264\n",
      "EPOCH 17: \tTrain loss: 0.9285 \tVal loss: 0.9254\n",
      "EPOCH 18: \tTrain loss: 0.9239 \tVal loss: 0.9248\n",
      "EPOCH 19: \tTrain loss: 0.9224 \tVal loss: 0.9248\n",
      "EPOCH 20: \tTrain loss: 0.9269 \tVal loss: 0.9241\n",
      "EPOCH 21: \tTrain loss: 0.9244 \tVal loss: 0.9240\n",
      "EPOCH 22: \tTrain loss: 0.9209 \tVal loss: 0.9231\n",
      "EPOCH 23: \tTrain loss: 0.9251 \tVal loss: 0.9256\n",
      "EPOCH 24: \tTrain loss: 0.9253 \tVal loss: 0.9229\n",
      "EPOCH 25: \tTrain loss: 0.9171 \tVal loss: 0.9228\n",
      "EPOCH 26: \tTrain loss: 0.9150 \tVal loss: 0.9347\n",
      "EPOCH 27: \tTrain loss: 0.9190 \tVal loss: 0.9185\n",
      "EPOCH 28: \tTrain loss: 0.8884 \tVal loss: 0.9090\n",
      "EPOCH 29: \tTrain loss: 0.8755 \tVal loss: 0.9123\n",
      "EPOCH 30: \tTrain loss: 0.8901 \tVal loss: 0.9101\n",
      "EPOCH 31: \tTrain loss: 0.8593 \tVal loss: 0.9002\n",
      "EPOCH 32: \tTrain loss: 0.8438 \tVal loss: 0.8871\n",
      "EPOCH 33: \tTrain loss: 0.8415 \tVal loss: 0.8894\n",
      "EPOCH 34: \tTrain loss: 0.8438 \tVal loss: 0.8852\n",
      "EPOCH 35: \tTrain loss: 0.8531 \tVal loss: 0.8878\n",
      "EPOCH 36: \tTrain loss: 0.8378 \tVal loss: 0.8880\n",
      "EPOCH 37: \tTrain loss: 0.8274 \tVal loss: 0.8830\n",
      "EPOCH 38: \tTrain loss: 0.8212 \tVal loss: 0.9270\n",
      "EPOCH 39: \tTrain loss: 0.8176 \tVal loss: 0.9052\n",
      "EPOCH 40: \tTrain loss: 0.8282 \tVal loss: 0.8863\n",
      "EPOCH 41: \tTrain loss: 0.8051 \tVal loss: 0.8906\n",
      "EPOCH 42: \tTrain loss: 0.7992 \tVal loss: 0.8905\n",
      "EPOCH 43: \tTrain loss: 0.7971 \tVal loss: 0.8969\n",
      "EPOCH 44: \tTrain loss: 0.7908 \tVal loss: 0.9136\n",
      "EPOCH 45: \tTrain loss: 0.8058 \tVal loss: 0.8984\n",
      "EPOCH 46: \tTrain loss: 0.7921 \tVal loss: 0.8877\n",
      "EPOCH 47: \tTrain loss: 0.7804 \tVal loss: 0.8825\n",
      "EPOCH 48: \tTrain loss: 0.7878 \tVal loss: 0.9022\n",
      "EPOCH 49: \tTrain loss: 0.7729 \tVal loss: 0.8976\n",
      "EPOCH 50: \tTrain loss: 0.7724 \tVal loss: 0.9212\n"
     ]
    }
   ],
   "source": [
    "train_losses, val_losses, acces_train, acces_val = fit(\n",
    "    model,\n",
    "    train_loader,\n",
    "    val_loader,\n",
    "    critertion,\n",
    "    optimizer,\n",
    "    epochs,\n",
    "    device,\n",
    ")"
   ]
  },
  {
   "cell_type": "code",
   "execution_count": 109,
   "metadata": {},
   "outputs": [
    {
     "name": "stdout",
     "output_type": "stream",
     "text": [
      "Evaluation on val / test dataset\n",
      "Val accuracy: 0.6034836065573771\n",
      "Test accuracy: 0.6016393442622952\n"
     ]
    }
   ],
   "source": [
    "val_loss, val_acc = evaluate(\n",
    "    model,\n",
    "    val_loader,\n",
    "    critertion,\n",
    "    device\n",
    ")\n",
    "test_loss, test_acc = evaluate(\n",
    "    model,\n",
    "    test_loader,\n",
    "    critertion,\n",
    "    device\n",
    ")\n",
    "\n",
    "print('Evaluation on val / test dataset')\n",
    "print('Val accuracy:', val_acc)\n",
    "print('Test accuracy:', test_acc)"
   ]
  },
  {
   "cell_type": "code",
   "execution_count": 110,
   "metadata": {},
   "outputs": [
    {
     "data": {
      "image/png": "[encoded data removed]",
      "text/plain": [
       "<Figure size 1200x500 with 2 Axes>"
      ]
     },
     "metadata": {},
     "output_type": "display_data"
    }
   ],
   "source": [
    "plt.figure(figsize=(12, 5))\n",
    "\n",
    "# Plot training and validation losses\n",
    "plt.subplot(1, 2, 1)\n",
    "plt.plot(train_losses, label='Training Loss')\n",
    "plt.plot(val_losses, label='Validation Loss')\n",
    "plt.xlabel('Epochs')\n",
    "plt.ylabel('Loss')\n",
    "plt.title('Training and Validation Loss')\n",
    "plt.legend()\n",
    "\n",
    "# Plot training and validation accuracies\n",
    "plt.subplot(1, 2, 2)\n",
    "plt.plot(acces_train, label='Training Accuracy')\n",
    "plt.plot(acces_val, label='Validation Accuracy')\n",
    "plt.xlabel('Epochs')\n",
    "plt.ylabel('Accuracy')\n",
    "plt.title('Training and Validation Accuracy')\n",
    "plt.legend()\n",
    "\n",
    "plt.show()"
   ]
  }
 ],
 "metadata": {
  "kernelspec": {
   "display_name": "AIOEx",
   "language": "python",
   "name": "python3"
  },
  "language_info": {
   "codemirror_mode": {
    "name": "ipython",
    "version": 3
   },
   "file_extension": ".py",
   "mimetype": "text/x-python",
   "name": "python",
   "nbconvert_exporter": "python",
   "pygments_lexer": "ipython3",
   "version": "3.10.15"
  }
 },
 "nbformat": 4,
 "nbformat_minor": 2
}
