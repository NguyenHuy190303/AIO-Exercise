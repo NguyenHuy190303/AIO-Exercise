{
 "cells": [
  {
   "cell_type": "code",
   "execution_count": 5,
   "metadata": {},
   "outputs": [],
   "source": [
    "import numpy as np\n",
    "\n",
    "class CustomLinearRegression:\n",
    "    def __init__(self, X_data, y_target, learning_rate=0.01, num_epochs=10000):\n",
    "        self.num_samples = X_data.shape[0]\n",
    "        self.X_data = np.c_[np.ones((self.num_samples, 1)), X_data]\n",
    "        self.y_target = y_target.reshape(-1, 1) \n",
    "        self.learning_rate = learning_rate\n",
    "        self.num_epochs = num_epochs\n",
    "\n",
    "        # Initial weights (random initialization)\n",
    "        self.theta = np.random.randn(self.X_data.shape[1], 1)\n",
    "        self.losses = []\n",
    "\n",
    "    def compute_loss(self, y_pred, y_target):\n",
    "        loss = (1 / (2 * self.num_samples)) * np.sum((y_pred - y_target) ** 2)\n",
    "        return loss\n",
    "\n",
    "    def predict(self, X_data):\n",
    "        num_samples = X_data.shape[0]\n",
    "        X_data_b = np.c_[np.ones((num_samples, 1)), X_data]  # Add bias term\n",
    "        y_pred = X_data_b.dot(self.theta)\n",
    "        return y_pred\n",
    "\n",
    "    def fit(self):\n",
    "        for epoch in range(self.num_epochs):\n",
    "            # Compute predictions\n",
    "            y_pred = self.X_data.dot(self.theta)\n",
    "\n",
    "            # Compute loss\n",
    "            loss = self.compute_loss(y_pred, self.y_target)\n",
    "            self.losses.append(loss)\n",
    "\n",
    "            # Compute gradient\n",
    "            gradient = (1 / self.num_samples) * self.X_data.T.dot(y_pred - self.y_target)\n",
    "\n",
    "            # Update weights\n",
    "            self.theta -= self.learning_rate * gradient\n",
    "\n",
    "            # Print loss every 50 epochs\n",
    "            if (epoch % 50) == 0:\n",
    "                print(f'Epoch: {epoch} - Loss: {loss}')\n",
    "\n",
    "        return {\n",
    "            'loss': sum(self.losses) / len(self.losses),\n",
    "            'weight': self.theta\n",
    "        }\n"
   ]
  },
  {
   "cell_type": "code",
   "execution_count": 6,
   "metadata": {},
   "outputs": [
    {
     "name": "stdout",
     "output_type": "stream",
     "text": [
      "[[1 1]\n",
      " [2 4]\n",
      " [3 9]]\n"
     ]
    }
   ],
   "source": [
    "import numpy as np\n",
    "\n",
    "def create_polynomial_features(X, degree=2):\n",
    "    \"\"\" Creates the polynomial features\n",
    "    Args:\n",
    "        X : A array tensor for the data.\n",
    "        degree : An integer for the degree of the generated polynomial function.\n",
    "    \"\"\"\n",
    "    X_new = X\n",
    "    for d in range(2, degree + 1):\n",
    "        X_new = np.c_[X_new, np.power(X, d)]\n",
    "    return X_new\n",
    "\n",
    "# Ví dụ sử dụng\n",
    "X = np.array([[1], [2], [3]])\n",
    "degree = 2\n",
    "X_poly = create_polynomial_features(X, degree)\n",
    "print(X_poly)\n"
   ]
  },
  {
   "cell_type": "code",
   "execution_count": null,
   "metadata": {},
   "outputs": [],
   "source": [
    "def create_polynomial_features(X, degree=2):\n",
    "    \"\"\" Creates the polynomial features\n",
    "    Args:\n",
    "        X : A array for the data.\n",
    "        degree : An integer for the degree of the generated polynomial function.\n",
    "    \"\"\"\n",
    "    X_mem = []\n",
    "    for X_sub in X.T:\n",
    "        X_sub = X_sub.T\n",
    "        X_new = X_sub\n",
    "        for d in range(2, degree + 1):\n",
    "            X_new = np.c_[X_sub, np.power(X_sub, d)]\n",
    "        X_mem.extend(X_new.T)\n",
    "    return np.c_[X_mem].T\n"
   ]
  },
  {
   "cell_type": "markdown",
   "metadata": {},
   "source": [
    "## Sales Prediction"
   ]
  },
  {
   "cell_type": "code",
   "execution_count": 7,
   "metadata": {},
   "outputs": [
    {
     "name": "stdout",
     "output_type": "stream",
     "text": [
      "54.173577723283785\n",
      "0.9951495108621895\n"
     ]
    }
   ],
   "source": [
    "import pandas as pd\n",
    "from sklearn.model_selection import train_test_split\n",
    "from sklearn.preprocessing import StandardScaler, PolynomialFeatures\n",
    "from sklearn.linear_model import LinearRegression\n",
    "from sklearn.metrics import r2_score\n",
    "\n",
    "# Load dataset\n",
    "df = pd.read_csv('SalesPrediction.csv')\n",
    "\n",
    "# Preprocessing\n",
    "df = pd.get_dummies(df)  # One-hot encoding for 'Influencer' column\n",
    "df = df.fillna(df.mean())  # Handle Null values\n",
    "\n",
    "# Get features and target\n",
    "X = df[['TV', 'Radio', 'Social Media', 'Influencer_Macro', 'Influencer_Mega', 'Influencer_Micro', 'Influencer_Nano']]\n",
    "y = df[['Sales']]\n",
    "\n",
    "# Train Test Split\n",
    "X_train, X_test, y_train, y_test = train_test_split(X, y, test_size=0.33, random_state=0)\n",
    "\n",
    "# Feature Scaling\n",
    "scaler = StandardScaler()\n",
    "X_train_processed = scaler.fit_transform(X_train)\n",
    "X_test_processed = scaler.transform(X_test)\n",
    "\n",
    "# Check the mean of the first feature after scaling\n",
    "mean_first_feature = scaler.mean_[0]\n",
    "\n",
    "# Polynomial Features\n",
    "poly_features = PolynomialFeatures(degree=2)\n",
    "X_train_poly = poly_features.fit_transform(X_train_processed)\n",
    "X_test_poly = poly_features.transform(X_test_processed)\n",
    "\n",
    "# Training & Evaluation\n",
    "poly_model = LinearRegression()\n",
    "poly_model.fit(X_train_poly, y_train)\n",
    "preds = poly_model.predict(X_test_poly)\n",
    "r2 = r2_score(y_test, preds)\n",
    "\n",
    "# Output the mean of the first feature after scaling\n",
    "print(mean_first_feature)\n",
    "# Output the R² score\n",
    "print(r2)"
   ]
  }
 ],
 "metadata": {
  "kernelspec": {
   "display_name": "aio2024",
   "language": "python",
   "name": "python3"
  },
  "language_info": {
   "codemirror_mode": {
    "name": "ipython",
    "version": 3
   },
   "file_extension": ".py",
   "mimetype": "text/x-python",
   "name": "python",
   "nbconvert_exporter": "python",
   "pygments_lexer": "ipython3",
   "version": "3.12.4"
  }
 },
 "nbformat": 4,
 "nbformat_minor": 2
}
