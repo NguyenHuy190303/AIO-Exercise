{
 "cells": [
  {
   "cell_type": "code",
   "execution_count": 40,
   "metadata": {},
   "outputs": [],
   "source": [
    "import numpy as np\n",
    "import pandas as pd"
   ]
  },
  {
   "cell_type": "code",
   "execution_count": 41,
   "metadata": {},
   "outputs": [],
   "source": [
    "def transform_X(X: np):\n",
    "    N = len(X)\n",
    "    # Thêm một cột toàn giá trị 1 vào phía trước của X\n",
    "    X_b = np.c_[np.ones((N, 1)), X]\n",
    "    \n",
    "    return X_b"
   ]
  },
  {
   "cell_type": "code",
   "execution_count": 42,
   "metadata": {},
   "outputs": [],
   "source": [
    "data = {\n",
    "    'Experience': [3, 4, 5, 6],\n",
    "    'Education': [12, 13, 14, 15],\n",
    "    'Salary (million VND)': [60, 55, 66, 93]\n",
    "}\n",
    "\n",
    "df = pd.DataFrame(data).to_numpy()\n"
   ]
  },
  {
   "cell_type": "code",
   "execution_count": 43,
   "metadata": {},
   "outputs": [],
   "source": [
    "X_b = transform_X(df[:, :2])\n",
    "y = df[:, -1]"
   ]
  },
  {
   "cell_type": "code",
   "execution_count": 44,
   "metadata": {},
   "outputs": [
    {
     "name": "stdout",
     "output_type": "stream",
     "text": [
      "[[ 1.  3. 12.]\n",
      " [ 1.  4. 13.]\n",
      " [ 1.  5. 14.]\n",
      " [ 1.  6. 15.]]\n",
      "[60 55 66 93]\n"
     ]
    }
   ],
   "source": [
    "print(X_b)\n",
    "print(y)"
   ]
  },
  {
   "cell_type": "code",
   "execution_count": 45,
   "metadata": {},
   "outputs": [],
   "source": [
    "import numpy as np\n",
    "\n",
    "def predict(x_i, thetas):\n",
    "    # xi: (N,3) ; thetas:(3,)\n",
    "    y_hat = np.dot(x_i, thetas)\n",
    "    # -> (N,)\n",
    "    return y_hat\n",
    "\n",
    "\n",
    "def compute_loss(y, y_hat):\n",
    "    # y_hat : (N,)\n",
    "    # y : (N,)\n",
    "    return np.mean((y - y_hat) ** 2)  # Trung bình của các bình phương sai số\n",
    "\n",
    "\n",
    "def derivate_loss(y, y_hat):\n",
    "    # y_hat : (N,)\n",
    "    # y : (N,)\n",
    "    return 2 * (y_hat - y)\n",
    "\n",
    "\n",
    "def derivative_thetas(x: np.ndarray, deriloss: np.ndarray):\n",
    "    # deriloss shape : (N,)\n",
    "    # x shape : (N, d)\n",
    "    # Reshape deriloss to (N, 1) to match dimensions for matrix multiplication\n",
    "    deriloss = deriloss.reshape(-1, 1)  # Shape (N, 1)\n",
    "    # Compute gradient: (N, 1) * (N, d) -> (d,)\n",
    "    theta_deri = np.dot(x.T, deriloss).flatten()  # Shape (d,)\n",
    "    return theta_deri\n",
    "\n",
    "\n",
    "def gradient_descent(X_b, y, n_epochs=50, learning_rate=0.01):\n",
    "    # Initialize thetas: (3,)\n",
    "    thetas = np.asarray([10, 3, 2])\n",
    "\n",
    "    thetas_path = [thetas]\n",
    "    losses = []\n",
    "\n",
    "    for epoch in range(n_epochs):\n",
    "        # compute output\n",
    "        y_hat = predict(X_b, thetas)\n",
    "        # shape (N,)\n",
    "        loss = compute_loss(y, y_hat)\n",
    "        # compute derivative of loss\n",
    "        deri_loss = derivate_loss(y, y_hat)\n",
    "        # compute derivative of parameters\n",
    "        gradients = derivative_thetas(X_b, deri_loss)\n",
    "        # update parameters\n",
    "        thetas = thetas - (learning_rate * gradients)\n",
    "        thetas_path.append(thetas)\n",
    "\n",
    "        # Add the mean loss of the entire dataset\n",
    "        losses.append(loss)\n",
    "        print(f\"Epoch {epoch+1}/{n_epochs}, Loss: {loss:.4f}\")\n",
    "\n",
    "    return thetas_path, losses"
   ]
  },
  {
   "cell_type": "code",
   "execution_count": 46,
   "metadata": {},
   "outputs": [
    {
     "name": "stdout",
     "output_type": "stream",
     "text": [
      "(3, 1)\n"
     ]
    }
   ],
   "source": [
    "thetas = np.asarray([10, 3, 2])\n",
    "print(thetas.reshape(-1, 1).shape)"
   ]
  },
  {
   "cell_type": "code",
   "execution_count": 47,
   "metadata": {},
   "outputs": [
    {
     "name": "stdout",
     "output_type": "stream",
     "text": [
      "Epoch 1/2, Loss: 433.0000\n",
      "Epoch 2/2, Loss: 230.8771\n",
      "[array([10,  3,  2]), array([10.144,  3.708,  4.004]), array([10.044928,  3.295056,  2.699408])]\n"
     ]
    }
   ],
   "source": [
    "X_b = transform_X(df[:, :2])\n",
    "y = df[:, -1]\n",
    "\n",
    "\n",
    "mbgd_thetas, losses = gradient_descent(\n",
    "    X_b, y, n_epochs=2, learning_rate=0.001)\n",
    "\n",
    "print(mbgd_thetas)"
   ]
  }
 ],
 "metadata": {
  "kernelspec": {
   "display_name": "40daysPython_env",
   "language": "python",
   "name": "python3"
  },
  "language_info": {
   "codemirror_mode": {
    "name": "ipython",
    "version": 3
   },
   "file_extension": ".py",
   "mimetype": "text/x-python",
   "name": "python",
   "nbconvert_exporter": "python",
   "pygments_lexer": "ipython3",
   "version": "3.10.13"
  }
 },
 "nbformat": 4,
 "nbformat_minor": 2
}
