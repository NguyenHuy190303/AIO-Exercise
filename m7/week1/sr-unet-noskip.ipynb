{
 "cells": [
  {
   "cell_type": "code",
   "execution_count": 1,
   "id": "0b7ee7c0",
   "metadata": {
    "execution": {
     "iopub.execute_input": "2025-01-12T06:16:17.505245Z",
     "iopub.status.busy": "2025-01-12T06:16:17.504939Z",
     "iopub.status.idle": "2025-01-12T06:16:22.199643Z",
     "shell.execute_reply": "2025-01-12T06:16:22.198537Z"
    },
    "papermill": {
     "duration": 4.701261,
     "end_time": "2025-01-12T06:16:22.201594",
     "exception": false,
     "start_time": "2025-01-12T06:16:17.500333",
     "status": "completed"
    },
    "tags": []
   },
   "outputs": [
    {
     "name": "stdout",
     "output_type": "stream",
     "text": [
      "Collecting torcheval\r\n",
      "  Downloading torcheval-0.0.7-py3-none-any.whl.metadata (8.6 kB)\r\n",
      "Requirement already satisfied: typing-extensions in /usr/local/lib/python3.10/dist-packages (from torcheval) (4.12.2)\r\n",
      "Downloading torcheval-0.0.7-py3-none-any.whl (179 kB)\r\n",
      "\u001b[2K   \u001b[90m━━━━━━━━━━━━━━━━━━━━━━━━━━━━━━━━━━━━━━━━\u001b[0m \u001b[32m179.2/179.2 kB\u001b[0m \u001b[31m5.3 MB/s\u001b[0m eta \u001b[36m0:00:00\u001b[0m\r\n",
      "\u001b[?25hInstalling collected packages: torcheval\r\n",
      "Successfully installed torcheval-0.0.7\r\n"
     ]
    }
   ],
   "source": [
    "! pip install torcheval"
   ]
  },
  {
   "cell_type": "code",
   "execution_count": 2,
   "id": "a6510c0d",
   "metadata": {
    "execution": {
     "iopub.execute_input": "2025-01-12T06:16:22.215104Z",
     "iopub.status.busy": "2025-01-12T06:16:22.214797Z",
     "iopub.status.idle": "2025-01-12T06:16:27.182674Z",
     "shell.execute_reply": "2025-01-12T06:16:27.181949Z"
    },
    "papermill": {
     "duration": 4.97608,
     "end_time": "2025-01-12T06:16:27.184285",
     "exception": false,
     "start_time": "2025-01-12T06:16:22.208205",
     "status": "completed"
    },
    "tags": []
   },
   "outputs": [],
   "source": [
    "import torch\n",
    "from torch import nn\n",
    "from torch.utils.data import Dataset, DataLoader\n",
    "from torch import optim\n",
    "from PIL import Image\n",
    "from torchvision import transforms\n",
    "import os\n",
    "import matplotlib.pyplot as plt\n",
    "import numpy as np\n",
    "from torcheval.metrics.functional import peak_signal_noise_ratio\n",
    "device = torch.device('cuda:0' if torch.cuda.is_available() else 'cpu')\n",
    "torch.manual_seed(66)\n",
    "from PIL import Image"
   ]
  },
  {
   "cell_type": "code",
   "execution_count": 3,
   "id": "3a45108a",
   "metadata": {
    "execution": {
     "iopub.execute_input": "2025-01-12T06:16:27.192070Z",
     "iopub.status.busy": "2025-01-12T06:16:27.191734Z",
     "iopub.status.idle": "2025-01-12T06:16:27.194824Z",
     "shell.execute_reply": "2025-01-12T06:16:27.194197Z"
    },
    "papermill": {
     "duration": 0.008044,
     "end_time": "2025-01-12T06:16:27.195904",
     "exception": false,
     "start_time": "2025-01-12T06:16:27.187860",
     "status": "completed"
    },
    "tags": []
   },
   "outputs": [],
   "source": [
    "# import zipfile\n",
    "# import os\n",
    "\n",
    "# zip_file_path = 'Khoa_LHR_image.zip'\n",
    "# extractfolder = './data'\n",
    "\n",
    "# os.makedirs(extractfolder, exist_ok=True)\n",
    "\n",
    "# with zipfile.ZipFile(zip_file_path, 'r') as zip_ref:\n",
    "#     zip_ref.extractall(extractfolder)\n",
    "\n",
    "# print(f\"Tệp đã được giải nén vào thư mục: {extractfolder}\")"
   ]
  },
  {
   "cell_type": "code",
   "execution_count": 4,
   "id": "738d8da3",
   "metadata": {
    "execution": {
     "iopub.execute_input": "2025-01-12T06:16:27.203198Z",
     "iopub.status.busy": "2025-01-12T06:16:27.202956Z",
     "iopub.status.idle": "2025-01-12T06:16:27.227395Z",
     "shell.execute_reply": "2025-01-12T06:16:27.226819Z"
    },
    "papermill": {
     "duration": 0.029416,
     "end_time": "2025-01-12T06:16:27.228668",
     "exception": false,
     "start_time": "2025-01-12T06:16:27.199252",
     "status": "completed"
    },
    "tags": []
   },
   "outputs": [],
   "source": [
    "import os\n",
    "\n",
    "def extract_filepath(folder_root, type):\n",
    "    lst_paths = []\n",
    "    folder_dir = os.path.join(folder_root, type)\n",
    "    for path in os.listdir(folder_dir):\n",
    "        lst_paths.append(os.path.join(folder_dir, path))\n",
    "    return lst_paths\n",
    "\n",
    "train_paths = extract_filepath('/kaggle/input/khoa-lhr-image/Khoa_LHR_image', 'train')\n",
    "val_paths = extract_filepath('/kaggle/input/khoa-lhr-image/Khoa_LHR_image', 'val')"
   ]
  },
  {
   "cell_type": "code",
   "execution_count": 5,
   "id": "f1f0d102",
   "metadata": {
    "execution": {
     "iopub.execute_input": "2025-01-12T06:16:27.235970Z",
     "iopub.status.busy": "2025-01-12T06:16:27.235749Z",
     "iopub.status.idle": "2025-01-12T06:16:27.256639Z",
     "shell.execute_reply": "2025-01-12T06:16:27.255991Z"
    },
    "papermill": {
     "duration": 0.025933,
     "end_time": "2025-01-12T06:16:27.257895",
     "exception": false,
     "start_time": "2025-01-12T06:16:27.231962",
     "status": "completed"
    },
    "tags": []
   },
   "outputs": [
    {
     "data": {
      "text/plain": [
       "(256, 256, 3)"
      ]
     },
     "execution_count": 5,
     "metadata": {},
     "output_type": "execute_result"
    }
   ],
   "source": [
    "img = Image.open(train_paths[0]).convert('RGB')\n",
    "np.array(img).shape"
   ]
  },
  {
   "cell_type": "code",
   "execution_count": 6,
   "id": "caee68a9",
   "metadata": {
    "execution": {
     "iopub.execute_input": "2025-01-12T06:16:27.265472Z",
     "iopub.status.busy": "2025-01-12T06:16:27.265267Z",
     "iopub.status.idle": "2025-01-12T06:16:27.331721Z",
     "shell.execute_reply": "2025-01-12T06:16:27.331108Z"
    },
    "papermill": {
     "duration": 0.071596,
     "end_time": "2025-01-12T06:16:27.332918",
     "exception": false,
     "start_time": "2025-01-12T06:16:27.261322",
     "status": "completed"
    },
    "tags": []
   },
   "outputs": [
    {
     "data": {
      "text/plain": [
       "tensor(0.4976)"
      ]
     },
     "execution_count": 6,
     "metadata": {},
     "output_type": "execute_result"
    }
   ],
   "source": [
    "torch.rand([])"
   ]
  },
  {
   "cell_type": "code",
   "execution_count": 7,
   "id": "176bb4f1",
   "metadata": {
    "execution": {
     "iopub.execute_input": "2025-01-12T06:16:27.340451Z",
     "iopub.status.busy": "2025-01-12T06:16:27.340242Z",
     "iopub.status.idle": "2025-01-12T06:16:27.346343Z",
     "shell.execute_reply": "2025-01-12T06:16:27.345751Z"
    },
    "papermill": {
     "duration": 0.011135,
     "end_time": "2025-01-12T06:16:27.347505",
     "exception": false,
     "start_time": "2025-01-12T06:16:27.336370",
     "status": "completed"
    },
    "tags": []
   },
   "outputs": [],
   "source": [
    "batch_size = 8\n",
    "low_img_height = 64\n",
    "low_img_width = 64\n",
    "\n",
    "class ImageDataset(Dataset):\n",
    "    def __init__(self, paths ,low_img_height, low_img_width, is_train):\n",
    "        super().__init__()\n",
    "        self.low_img_height = low_img_height\n",
    "        self.low_img_width = low_img_width\n",
    "        self.paths = paths\n",
    "        self.is_train = is_train\n",
    "        self.resize = transforms.Resize((low_img_width, low_img_height))\n",
    "    def __len__(self):\n",
    "        return len(self.paths)\n",
    "    \n",
    "    def normalize(self, input_img, tgt_img):\n",
    "        transform = transforms.Compose([\n",
    "            transforms.ToTensor(),\n",
    "            transforms.Normalize([0.4914, 0.4822, 0.4465],\n",
    "                                 [0.2470, 0.2435, 0.2616])\n",
    "        ])\n",
    "        \n",
    "        input_img = transform(input_img)\n",
    "        tgt_img = transform(tgt_img)\n",
    "        return input_img, tgt_img\n",
    "    \n",
    "    def random_jitter(self, input_image, target_image):\n",
    "        if torch.rand([]) < 0.5:\n",
    "            input_image = transforms.functional.hflip(input_image)\n",
    "            target_image = transforms.functional.hflip(target_image)\n",
    "\n",
    "        return input_image, target_image\n",
    "    def __getitem__(self, index):\n",
    "        file_path = self.paths[index]\n",
    "        img = Image.open(file_path).convert('RGB')\n",
    "        img_input = self.resize(img)\n",
    "        \n",
    "        input_img, tgt_img = self.normalize(img_input, img)\n",
    "        \n",
    "        if self.is_train:\n",
    "            input_img, tgt_img = self.random_jitter(input_img, tgt_img)\n",
    "\n",
    "        return input_img, tgt_img"
   ]
  },
  {
   "cell_type": "code",
   "execution_count": 8,
   "id": "444e8bf7",
   "metadata": {
    "execution": {
     "iopub.execute_input": "2025-01-12T06:16:27.355242Z",
     "iopub.status.busy": "2025-01-12T06:16:27.354983Z",
     "iopub.status.idle": "2025-01-12T06:16:27.358142Z",
     "shell.execute_reply": "2025-01-12T06:16:27.357462Z"
    },
    "papermill": {
     "duration": 0.008407,
     "end_time": "2025-01-12T06:16:27.359413",
     "exception": false,
     "start_time": "2025-01-12T06:16:27.351006",
     "status": "completed"
    },
    "tags": []
   },
   "outputs": [],
   "source": [
    "train_dataset = ImageDataset(train_paths , low_img_height, low_img_width, is_train = True)\n",
    "val_dataset = ImageDataset(val_paths , low_img_height, low_img_width, is_train = False)"
   ]
  },
  {
   "cell_type": "code",
   "execution_count": 9,
   "id": "a51f66f0",
   "metadata": {
    "execution": {
     "iopub.execute_input": "2025-01-12T06:16:27.367007Z",
     "iopub.status.busy": "2025-01-12T06:16:27.366805Z",
     "iopub.status.idle": "2025-01-12T06:16:27.370387Z",
     "shell.execute_reply": "2025-01-12T06:16:27.369741Z"
    },
    "papermill": {
     "duration": 0.008657,
     "end_time": "2025-01-12T06:16:27.371540",
     "exception": false,
     "start_time": "2025-01-12T06:16:27.362883",
     "status": "completed"
    },
    "tags": []
   },
   "outputs": [],
   "source": [
    "from torch.utils.data import DataLoader\n",
    "\n",
    "# Tạo DataLoader cho training và validation dataset\n",
    "train_loader = DataLoader(train_dataset,\n",
    "                          batch_size=batch_size,\n",
    "                          shuffle=True) \n",
    "\n",
    "val_loader = DataLoader(val_dataset,\n",
    "                        batch_size=batch_size,\n",
    "                        shuffle=False)"
   ]
  },
  {
   "cell_type": "code",
   "execution_count": 10,
   "id": "59303846",
   "metadata": {
    "execution": {
     "iopub.execute_input": "2025-01-12T06:16:27.379594Z",
     "iopub.status.busy": "2025-01-12T06:16:27.379396Z",
     "iopub.status.idle": "2025-01-12T06:16:27.693716Z",
     "shell.execute_reply": "2025-01-12T06:16:27.692826Z"
    },
    "papermill": {
     "duration": 0.319898,
     "end_time": "2025-01-12T06:16:27.695036",
     "exception": false,
     "start_time": "2025-01-12T06:16:27.375138",
     "status": "completed"
    },
    "tags": []
   },
   "outputs": [
    {
     "data": {
      "image/png": "[encoded data removed]",
      "text/plain": [
       "<Figure size 640x480 with 1 Axes>"
      ]
     },
     "metadata": {},
     "output_type": "display_data"
    }
   ],
   "source": [
    "import torchvision\n",
    "def imshow(img):\n",
    "    np_img = img.numpy()\n",
    "    plt.imshow(np.transpose(np_img, (1, 2, 0)))\n",
    "    plt.show()\n",
    "\n",
    "for i, (input_img, out_img) in enumerate(train_loader, 0):\n",
    "    imshow(torchvision.utils.make_grid(input_img[:8]))\n",
    "    break"
   ]
  },
  {
   "cell_type": "markdown",
   "id": "04a76d9f",
   "metadata": {
    "papermill": {
     "duration": 0.004267,
     "end_time": "2025-01-12T06:16:27.703937",
     "exception": false,
     "start_time": "2025-01-12T06:16:27.699670",
     "status": "completed"
    },
    "tags": []
   },
   "source": [
    "## Model"
   ]
  },
  {
   "cell_type": "markdown",
   "id": "38b414a6",
   "metadata": {
    "papermill": {
     "duration": 0.004141,
     "end_time": "2025-01-12T06:16:27.712475",
     "exception": false,
     "start_time": "2025-01-12T06:16:27.708334",
     "status": "completed"
    },
    "tags": []
   },
   "source": [
    "### No skip-connection"
   ]
  },
  {
   "cell_type": "code",
   "execution_count": 11,
   "id": "9da3b185",
   "metadata": {
    "execution": {
     "iopub.execute_input": "2025-01-12T06:16:27.721960Z",
     "iopub.status.busy": "2025-01-12T06:16:27.721735Z",
     "iopub.status.idle": "2025-01-12T06:16:27.734121Z",
     "shell.execute_reply": "2025-01-12T06:16:27.733466Z"
    },
    "papermill": {
     "duration": 0.01863,
     "end_time": "2025-01-12T06:16:27.735389",
     "exception": false,
     "start_time": "2025-01-12T06:16:27.716759",
     "status": "completed"
    },
    "tags": []
   },
   "outputs": [],
   "source": [
    "#  Tạo feature map ban đầu từ input\n",
    "class FirstFeature(nn.Module):\n",
    "    def __init__(self, in_channels, out_channels):\n",
    "        super(FirstFeature, self).__init__()\n",
    "        self.conv = nn.Sequential(\n",
    "            nn.Conv2d(in_channels, out_channels, 1, 1, 0, bias=False),\n",
    "            nn.LeakyReLU()\n",
    "        )\n",
    "\n",
    "    def forward(self, x):\n",
    "        return self.conv(x)\n",
    "\n",
    "# Khối convolution cơ bản để trích xuất đặc trưng\n",
    "class ConvBlock(nn.Module):\n",
    "    def __init__(self, in_channels, out_channels):\n",
    "        super(ConvBlock, self).__init__()\n",
    "        self.conv = nn.Sequential(\n",
    "            nn.Conv2d(in_channels, out_channels, 3, 1, 1, bias=False),\n",
    "            nn.BatchNorm2d(out_channels),\n",
    "            nn.LeakyReLU(inplace=True),\n",
    "            nn.Conv2d(out_channels, out_channels, 3, 1, 1, bias=False),\n",
    "            nn.BatchNorm2d(out_channels),\n",
    "            nn.LeakyReLU(inplace=True),\n",
    "        )\n",
    "\n",
    "    def forward(self, x):\n",
    "        return self.conv(x)\n",
    "\n",
    "\n",
    "# Để giảm size của feature map và trích xuất các high-level feature.\n",
    "class Encoder(nn.Module):\n",
    "    def __init__(self, in_channels, out_channels) -> None:\n",
    "        super().__init__()\n",
    "        self.encoder = nn.Sequential(\n",
    "            # kernel size = 2, stride = 2 --> giảm 1 nửa\n",
    "            nn.MaxPool2d(2),\n",
    "            ConvBlock(in_channels, out_channels)\n",
    "        )\n",
    "\n",
    "    def forward(self, x):\n",
    "        x = self.encoder(x)\n",
    "        return x\n",
    "\n",
    "# Để tăng kích thước feature map và kết hợp với feature map tương ứng từ Encoder(skip connection).\n",
    "class Decoder(nn.Module):\n",
    "    def __init__(self, in_channels, out_channels):\n",
    "        super(Decoder, self).__init__()\n",
    "        self.conv = nn.Sequential(\n",
    "\n",
    "            # chỉnh ở đây\n",
    "            nn.UpsamplingBilinear2d(scale_factor=2),\n",
    "            nn.Conv2d(in_channels, out_channels*2, 1, 1, 0, bias=False),\n",
    "            nn.BatchNorm2d(out_channels*2),\n",
    "            nn.LeakyReLU(),\n",
    "        )\n",
    "\n",
    "        # chỉnh ở đây\n",
    "        self.conv_block = ConvBlock(out_channels*2, out_channels)\n",
    "\n",
    "    def forward(self, x):\n",
    "        x = self.conv(x)\n",
    "        # chỉnh ở đây\n",
    "        # x = torch.concat([x, skip], dim=1)\n",
    "        x = self.conv_block(x)\n",
    "        return x\n",
    "\n",
    "# Tạo ra đầu ra cuối cùng từ feature map cuối cùng.\n",
    "class FinalOutput(nn.Module):\n",
    "    def __init__(self, in_channels, out_channels):\n",
    "        super(FinalOutput, self).__init__()\n",
    "        self.conv = nn.Sequential(\n",
    "            nn.Conv2d(in_channels, out_channels, 1, 1, 0, bias=False),\n",
    "            nn.Tanh()\n",
    "        )\n",
    "\n",
    "    def forward(self, x):\n",
    "        return self.conv(x)\n",
    "\n",
    "\n",
    "class Unet(nn.Module):\n",
    "    def __init__(\n",
    "            self, n_channels=3, n_classes=3, features=[64, 128, 256, 512], tgt_size = 256\n",
    "    ):\n",
    "        super(Unet, self).__init__()\n",
    "\n",
    "        self.n_channels = n_channels\n",
    "        self.n_classes = n_classes\n",
    "        self.up_size = transforms.Resize((tgt_size, tgt_size), antialias=True)\n",
    "\n",
    "        self.in_conv1 = FirstFeature(n_channels, 64)\n",
    "        self.in_conv2 = ConvBlock(64, 64)\n",
    "\n",
    "        self.enc_1 = Encoder(64, 128)\n",
    "        self.enc_2 = Encoder(128, 256)\n",
    "        self.enc_3 = Encoder(256, 512)\n",
    "        self.enc_4 = Encoder(512, 1024)\n",
    "\n",
    "        self.dec_1 = Decoder(1024, 512)\n",
    "        self.dec_2 = Decoder(512, 256)\n",
    "        self.dec_3 = Decoder(256, 128)\n",
    "        self.dec_4 = Decoder(128, 64)\n",
    "\n",
    "        self.out_conv = FinalOutput(64, n_classes)\n",
    "\n",
    "    def forward(self, x):\n",
    "        x = self.up_size(x)\n",
    "        x = self.in_conv1(x)\n",
    "        x = self.in_conv2(x)\n",
    "\n",
    "        x1 = self.enc_1(x)\n",
    "        x2 = self.enc_2(x1)\n",
    "        x3 = self.enc_3(x2)\n",
    "        x4 = self.enc_4(x3)\n",
    "        \n",
    "        x5 = self.dec_1(x4)\n",
    "        x6 = self.dec_2(x5)\n",
    "        x7 = self.dec_3(x6)\n",
    "        x8 = self.dec_4(x7)\n",
    "\n",
    "        output = self.out_conv(x8)\n",
    "        return output"
   ]
  },
  {
   "cell_type": "code",
   "execution_count": 12,
   "id": "5f064371",
   "metadata": {
    "execution": {
     "iopub.execute_input": "2025-01-12T06:16:27.745083Z",
     "iopub.status.busy": "2025-01-12T06:16:27.744805Z",
     "iopub.status.idle": "2025-01-12T06:16:29.542452Z",
     "shell.execute_reply": "2025-01-12T06:16:29.541547Z"
    },
    "papermill": {
     "duration": 1.803749,
     "end_time": "2025-01-12T06:16:29.543784",
     "exception": false,
     "start_time": "2025-01-12T06:16:27.740035",
     "status": "completed"
    },
    "tags": []
   },
   "outputs": [
    {
     "data": {
      "text/plain": [
       "torch.Size([2, 3, 224, 224])"
      ]
     },
     "execution_count": 12,
     "metadata": {},
     "output_type": "execute_result"
    }
   ],
   "source": [
    "unet_model = Unet(tgt_size=224)\n",
    "img = torch.ones(2, 3, 64, 64)\n",
    "unet_model(img).shape"
   ]
  },
  {
   "cell_type": "code",
   "execution_count": 13,
   "id": "893c6899",
   "metadata": {
    "execution": {
     "iopub.execute_input": "2025-01-12T06:16:29.553683Z",
     "iopub.status.busy": "2025-01-12T06:16:29.553417Z",
     "iopub.status.idle": "2025-01-12T06:16:29.954426Z",
     "shell.execute_reply": "2025-01-12T06:16:29.953430Z"
    },
    "papermill": {
     "duration": 0.407507,
     "end_time": "2025-01-12T06:16:29.955992",
     "exception": false,
     "start_time": "2025-01-12T06:16:29.548485",
     "status": "completed"
    },
    "tags": []
   },
   "outputs": [],
   "source": [
    "model = Unet().to(device)\n",
    "\n",
    "criterion = nn.MSELoss()\n",
    "optimizer = optim.Adam(model.parameters(), lr=0.00005)"
   ]
  },
  {
   "cell_type": "code",
   "execution_count": 14,
   "id": "1cdd0f55",
   "metadata": {
    "execution": {
     "iopub.execute_input": "2025-01-12T06:16:29.966023Z",
     "iopub.status.busy": "2025-01-12T06:16:29.965756Z",
     "iopub.status.idle": "2025-01-12T06:16:29.975159Z",
     "shell.execute_reply": "2025-01-12T06:16:29.974349Z"
    },
    "papermill": {
     "duration": 0.015965,
     "end_time": "2025-01-12T06:16:29.976704",
     "exception": false,
     "start_time": "2025-01-12T06:16:29.960739",
     "status": "completed"
    },
    "tags": []
   },
   "outputs": [],
   "source": [
    "import time\n",
    "\n",
    "def train_epoch(model, optimizer, criterion, train_dataloader, device, epoch=0, log_interval=50):\n",
    "    model.train()\n",
    "    losses = []\n",
    "    start_time = time.time()\n",
    "\n",
    "    for idx, (inputs, labels) in enumerate(train_dataloader):\n",
    "        inputs = inputs.to(device)\n",
    "        labels = labels.to(device)\n",
    "\n",
    "        optimizer.zero_grad()\n",
    "\n",
    "        predictions = model(inputs)\n",
    "\n",
    "        # compute loss\n",
    "        loss = criterion(predictions, labels)\n",
    "        losses.append(loss.item())\n",
    "\n",
    "        # backward\n",
    "        loss.backward()\n",
    "        optimizer.step()\n",
    "\n",
    "        if idx % log_interval == 0 and idx > 0:\n",
    "            elapsed = time.time() - start_time\n",
    "            print(\n",
    "                \"| epoch {:3d} | {:5d}/{:5d} batches \"\n",
    "                \"| loss {:8.3f}\".format(\n",
    "                    epoch, idx, len(train_dataloader), loss.item()\n",
    "                )\n",
    "            )\n",
    "            start_time = time.time()\n",
    "\n",
    "    epoch_loss = sum(losses) / len(losses)\n",
    "    return epoch_loss\n",
    "\n",
    "def evaluate_epoch(model, criterion, valid_dataloader, device):\n",
    "    model.eval()\n",
    "    losses = []\n",
    "\n",
    "    with torch.no_grad():\n",
    "        for idx, (inputs, labels) in enumerate(valid_dataloader):\n",
    "            inputs = inputs.to(device)\n",
    "            labels = labels.to(device)\n",
    "\n",
    "            predictions = model(inputs)\n",
    "\n",
    "            loss = criterion(predictions, labels)\n",
    "            losses.append(loss.item())\n",
    "\n",
    "    epoch_loss = sum(losses) / len(losses)\n",
    "    return epoch_loss\n",
    "\n",
    "def train(model, model_name, save_model, optimizer, criterion, train_dataloader, valid_dataloader, num_epochs, device):\n",
    "    train_losses = []\n",
    "    eval_losses = []\n",
    "    best_loss_eval = 100\n",
    "    times = []\n",
    "    for epoch in range(1, num_epochs + 1):\n",
    "        epoch_start_time = time.time()\n",
    "        # Training\n",
    "        train_loss = train_epoch(\n",
    "            model, optimizer, criterion, train_dataloader, device, epoch)\n",
    "        train_losses.append(train_loss)\n",
    "\n",
    "        # Evaluation\n",
    "        eval_loss = evaluate_epoch(\n",
    "            model, criterion, valid_dataloader, device)\n",
    "        eval_losses.append(eval_loss)\n",
    "\n",
    "        # Save best model\n",
    "        if eval_loss < best_loss_eval:\n",
    "            torch.save(model.state_dict(), save_model + f'/{model_name}.pt')\n",
    "\n",
    "        times.append(time.time() - epoch_start_time)\n",
    "        # Print loss end of epoch\n",
    "        print(\"-\" * 59)\n",
    "        print(\n",
    "            \"| End of epoch {:3d} | Time: {:5.2f}s | Train Loss {:8.3f} \"\n",
    "            \"| Valid Loss {:8.3f} \".format(\n",
    "                epoch, time.time() - epoch_start_time, train_loss, eval_loss\n",
    "            )\n",
    "        )\n",
    "        print(\"-\" * 59)\n",
    "\n",
    "    # Load best model\n",
    "    model.load_state_dict(torch.load(\n",
    "        save_model + f'/{model_name}.pt', weights_only=True))\n",
    "    model.eval()\n",
    "    metrics = {\n",
    "        'train_loss': train_losses,\n",
    "        'valid_loss': eval_losses,\n",
    "        'time': times\n",
    "    }\n",
    "    return model, metrics"
   ]
  },
  {
   "cell_type": "code",
   "execution_count": 15,
   "id": "3b44cf72",
   "metadata": {
    "execution": {
     "iopub.execute_input": "2025-01-12T06:16:29.986602Z",
     "iopub.status.busy": "2025-01-12T06:16:29.986377Z",
     "iopub.status.idle": "2025-01-12T07:10:59.180267Z",
     "shell.execute_reply": "2025-01-12T07:10:59.179064Z"
    },
    "papermill": {
     "duration": 3269.200248,
     "end_time": "2025-01-12T07:10:59.181726",
     "exception": false,
     "start_time": "2025-01-12T06:16:29.981478",
     "status": "completed"
    },
    "tags": []
   },
   "outputs": [
    {
     "name": "stdout",
     "output_type": "stream",
     "text": [
      "| epoch   1 |    50/   86 batches | loss    0.564\n",
      "-----------------------------------------------------------\n",
      "| End of epoch   1 | Time: 52.12s | Train Loss    0.589 | Valid Loss    0.435 \n",
      "-----------------------------------------------------------\n",
      "| epoch   2 |    50/   86 batches | loss    0.404\n",
      "-----------------------------------------------------------\n",
      "| End of epoch   2 | Time: 62.08s | Train Loss    0.453 | Valid Loss    0.411 \n",
      "-----------------------------------------------------------\n",
      "| epoch   3 |    50/   86 batches | loss    0.490\n",
      "-----------------------------------------------------------\n",
      "| End of epoch   3 | Time: 65.74s | Train Loss    0.422 | Valid Loss    0.392 \n",
      "-----------------------------------------------------------\n",
      "| epoch   4 |    50/   86 batches | loss    0.245\n",
      "-----------------------------------------------------------\n",
      "| End of epoch   4 | Time: 66.14s | Train Loss    0.398 | Valid Loss    0.373 \n",
      "-----------------------------------------------------------\n",
      "| epoch   5 |    50/   86 batches | loss    0.327\n",
      "-----------------------------------------------------------\n",
      "| End of epoch   5 | Time: 65.34s | Train Loss    0.382 | Valid Loss    0.359 \n",
      "-----------------------------------------------------------\n",
      "| epoch   6 |    50/   86 batches | loss    0.320\n",
      "-----------------------------------------------------------\n",
      "| End of epoch   6 | Time: 65.68s | Train Loss    0.368 | Valid Loss    0.361 \n",
      "-----------------------------------------------------------\n",
      "| epoch   7 |    50/   86 batches | loss    0.340\n",
      "-----------------------------------------------------------\n",
      "| End of epoch   7 | Time: 65.78s | Train Loss    0.358 | Valid Loss    0.346 \n",
      "-----------------------------------------------------------\n",
      "| epoch   8 |    50/   86 batches | loss    0.238\n",
      "-----------------------------------------------------------\n",
      "| End of epoch   8 | Time: 65.53s | Train Loss    0.349 | Valid Loss    0.344 \n",
      "-----------------------------------------------------------\n",
      "| epoch   9 |    50/   86 batches | loss    0.241\n",
      "-----------------------------------------------------------\n",
      "| End of epoch   9 | Time: 65.44s | Train Loss    0.383 | Valid Loss    0.489 \n",
      "-----------------------------------------------------------\n",
      "| epoch  10 |    50/   86 batches | loss    0.387\n",
      "-----------------------------------------------------------\n",
      "| End of epoch  10 | Time: 66.16s | Train Loss    0.396 | Valid Loss    0.347 \n",
      "-----------------------------------------------------------\n",
      "| epoch  11 |    50/   86 batches | loss    0.479\n",
      "-----------------------------------------------------------\n",
      "| End of epoch  11 | Time: 66.07s | Train Loss    0.374 | Valid Loss    0.350 \n",
      "-----------------------------------------------------------\n",
      "| epoch  12 |    50/   86 batches | loss    0.331\n",
      "-----------------------------------------------------------\n",
      "| End of epoch  12 | Time: 65.41s | Train Loss    0.349 | Valid Loss    0.336 \n",
      "-----------------------------------------------------------\n",
      "| epoch  13 |    50/   86 batches | loss    0.358\n",
      "-----------------------------------------------------------\n",
      "| End of epoch  13 | Time: 65.11s | Train Loss    0.338 | Valid Loss    0.328 \n",
      "-----------------------------------------------------------\n",
      "| epoch  14 |    50/   86 batches | loss    0.327\n",
      "-----------------------------------------------------------\n",
      "| End of epoch  14 | Time: 65.61s | Train Loss    0.331 | Valid Loss    0.322 \n",
      "-----------------------------------------------------------\n",
      "| epoch  15 |    50/   86 batches | loss    0.260\n",
      "-----------------------------------------------------------\n",
      "| End of epoch  15 | Time: 66.28s | Train Loss    0.346 | Valid Loss    0.326 \n",
      "-----------------------------------------------------------\n",
      "| epoch  16 |    50/   86 batches | loss    0.467\n",
      "-----------------------------------------------------------\n",
      "| End of epoch  16 | Time: 66.12s | Train Loss    0.330 | Valid Loss    0.324 \n",
      "-----------------------------------------------------------\n",
      "| epoch  17 |    50/   86 batches | loss    0.477\n",
      "-----------------------------------------------------------\n",
      "| End of epoch  17 | Time: 65.59s | Train Loss    0.323 | Valid Loss    0.315 \n",
      "-----------------------------------------------------------\n",
      "| epoch  18 |    50/   86 batches | loss    0.281\n",
      "-----------------------------------------------------------\n",
      "| End of epoch  18 | Time: 65.45s | Train Loss    0.318 | Valid Loss    0.309 \n",
      "-----------------------------------------------------------\n",
      "| epoch  19 |    50/   86 batches | loss    0.316\n",
      "-----------------------------------------------------------\n",
      "| End of epoch  19 | Time: 65.40s | Train Loss    0.311 | Valid Loss    0.343 \n",
      "-----------------------------------------------------------\n",
      "| epoch  20 |    50/   86 batches | loss    0.285\n",
      "-----------------------------------------------------------\n",
      "| End of epoch  20 | Time: 66.00s | Train Loss    0.336 | Valid Loss    0.313 \n",
      "-----------------------------------------------------------\n",
      "| epoch  21 |    50/   86 batches | loss    0.323\n",
      "-----------------------------------------------------------\n",
      "| End of epoch  21 | Time: 66.14s | Train Loss    0.317 | Valid Loss    0.306 \n",
      "-----------------------------------------------------------\n",
      "| epoch  22 |    50/   86 batches | loss    0.309\n",
      "-----------------------------------------------------------\n",
      "| End of epoch  22 | Time: 65.50s | Train Loss    0.308 | Valid Loss    0.305 \n",
      "-----------------------------------------------------------\n",
      "| epoch  23 |    50/   86 batches | loss    0.241\n",
      "-----------------------------------------------------------\n",
      "| End of epoch  23 | Time: 65.16s | Train Loss    0.302 | Valid Loss    0.300 \n",
      "-----------------------------------------------------------\n",
      "| epoch  24 |    50/   86 batches | loss    0.237\n",
      "-----------------------------------------------------------\n",
      "| End of epoch  24 | Time: 66.00s | Train Loss    0.301 | Valid Loss    0.301 \n",
      "-----------------------------------------------------------\n",
      "| epoch  25 |    50/   86 batches | loss    0.247\n",
      "-----------------------------------------------------------\n",
      "| End of epoch  25 | Time: 65.75s | Train Loss    0.298 | Valid Loss    0.297 \n",
      "-----------------------------------------------------------\n",
      "| epoch  26 |    50/   86 batches | loss    0.325\n",
      "-----------------------------------------------------------\n",
      "| End of epoch  26 | Time: 65.41s | Train Loss    0.297 | Valid Loss    0.296 \n",
      "-----------------------------------------------------------\n",
      "| epoch  27 |    50/   86 batches | loss    0.370\n",
      "-----------------------------------------------------------\n",
      "| End of epoch  27 | Time: 65.94s | Train Loss    0.294 | Valid Loss    0.293 \n",
      "-----------------------------------------------------------\n",
      "| epoch  28 |    50/   86 batches | loss    0.238\n",
      "-----------------------------------------------------------\n",
      "| End of epoch  28 | Time: 66.30s | Train Loss    0.291 | Valid Loss    0.294 \n",
      "-----------------------------------------------------------\n",
      "| epoch  29 |    50/   86 batches | loss    0.336\n",
      "-----------------------------------------------------------\n",
      "| End of epoch  29 | Time: 65.81s | Train Loss    0.293 | Valid Loss    0.297 \n",
      "-----------------------------------------------------------\n",
      "| epoch  30 |    50/   86 batches | loss    0.221\n",
      "-----------------------------------------------------------\n",
      "| End of epoch  30 | Time: 65.55s | Train Loss    0.292 | Valid Loss    0.293 \n",
      "-----------------------------------------------------------\n",
      "| epoch  31 |    50/   86 batches | loss    0.280\n",
      "-----------------------------------------------------------\n",
      "| End of epoch  31 | Time: 65.55s | Train Loss    0.288 | Valid Loss    0.287 \n",
      "-----------------------------------------------------------\n",
      "| epoch  32 |    50/   86 batches | loss    0.220\n",
      "-----------------------------------------------------------\n",
      "| End of epoch  32 | Time: 65.79s | Train Loss    0.284 | Valid Loss    0.289 \n",
      "-----------------------------------------------------------\n",
      "| epoch  33 |    50/   86 batches | loss    0.364\n",
      "-----------------------------------------------------------\n",
      "| End of epoch  33 | Time: 65.69s | Train Loss    0.284 | Valid Loss    0.285 \n",
      "-----------------------------------------------------------\n",
      "| epoch  34 |    50/   86 batches | loss    0.305\n",
      "-----------------------------------------------------------\n",
      "| End of epoch  34 | Time: 65.42s | Train Loss    0.282 | Valid Loss    0.286 \n",
      "-----------------------------------------------------------\n",
      "| epoch  35 |    50/   86 batches | loss    0.226\n",
      "-----------------------------------------------------------\n",
      "| End of epoch  35 | Time: 66.25s | Train Loss    0.281 | Valid Loss    0.284 \n",
      "-----------------------------------------------------------\n",
      "| epoch  36 |    50/   86 batches | loss    0.272\n",
      "-----------------------------------------------------------\n",
      "| End of epoch  36 | Time: 65.56s | Train Loss    0.291 | Valid Loss    0.302 \n",
      "-----------------------------------------------------------\n",
      "| epoch  37 |    50/   86 batches | loss    0.272\n",
      "-----------------------------------------------------------\n",
      "| End of epoch  37 | Time: 65.73s | Train Loss    0.285 | Valid Loss    0.289 \n",
      "-----------------------------------------------------------\n",
      "| epoch  38 |    50/   86 batches | loss    0.221\n",
      "-----------------------------------------------------------\n",
      "| End of epoch  38 | Time: 66.30s | Train Loss    0.282 | Valid Loss    0.288 \n",
      "-----------------------------------------------------------\n",
      "| epoch  39 |    50/   86 batches | loss    0.263\n",
      "-----------------------------------------------------------\n",
      "| End of epoch  39 | Time: 65.70s | Train Loss    0.281 | Valid Loss    0.285 \n",
      "-----------------------------------------------------------\n",
      "| epoch  40 |    50/   86 batches | loss    0.348\n",
      "-----------------------------------------------------------\n",
      "| End of epoch  40 | Time: 65.23s | Train Loss    0.283 | Valid Loss    0.287 \n",
      "-----------------------------------------------------------\n",
      "| epoch  41 |    50/   86 batches | loss    0.187\n",
      "-----------------------------------------------------------\n",
      "| End of epoch  41 | Time: 65.41s | Train Loss    0.277 | Valid Loss    0.284 \n",
      "-----------------------------------------------------------\n",
      "| epoch  42 |    50/   86 batches | loss    0.300\n",
      "-----------------------------------------------------------\n",
      "| End of epoch  42 | Time: 65.51s | Train Loss    0.278 | Valid Loss    0.279 \n",
      "-----------------------------------------------------------\n",
      "| epoch  43 |    50/   86 batches | loss    0.251\n",
      "-----------------------------------------------------------\n",
      "| End of epoch  43 | Time: 65.81s | Train Loss    0.275 | Valid Loss    0.283 \n",
      "-----------------------------------------------------------\n",
      "| epoch  44 |    50/   86 batches | loss    0.274\n",
      "-----------------------------------------------------------\n",
      "| End of epoch  44 | Time: 66.30s | Train Loss    0.276 | Valid Loss    0.279 \n",
      "-----------------------------------------------------------\n",
      "| epoch  45 |    50/   86 batches | loss    0.206\n",
      "-----------------------------------------------------------\n",
      "| End of epoch  45 | Time: 65.93s | Train Loss    0.276 | Valid Loss    0.278 \n",
      "-----------------------------------------------------------\n",
      "| epoch  46 |    50/   86 batches | loss    0.459\n",
      "-----------------------------------------------------------\n",
      "| End of epoch  46 | Time: 65.39s | Train Loss    0.271 | Valid Loss    0.278 \n",
      "-----------------------------------------------------------\n",
      "| epoch  47 |    50/   86 batches | loss    0.335\n",
      "-----------------------------------------------------------\n",
      "| End of epoch  47 | Time: 65.67s | Train Loss    0.271 | Valid Loss    0.277 \n",
      "-----------------------------------------------------------\n",
      "| epoch  48 |    50/   86 batches | loss    0.279\n",
      "-----------------------------------------------------------\n",
      "| End of epoch  48 | Time: 66.30s | Train Loss    0.270 | Valid Loss    0.280 \n",
      "-----------------------------------------------------------\n",
      "| epoch  49 |    50/   86 batches | loss    0.205\n",
      "-----------------------------------------------------------\n",
      "| End of epoch  49 | Time: 65.37s | Train Loss    0.272 | Valid Loss    0.277 \n",
      "-----------------------------------------------------------\n",
      "| epoch  50 |    50/   86 batches | loss    0.295\n",
      "-----------------------------------------------------------\n",
      "| End of epoch  50 | Time: 65.59s | Train Loss    0.268 | Valid Loss    0.276 \n",
      "-----------------------------------------------------------\n"
     ]
    }
   ],
   "source": [
    "num_epochs = 50\n",
    "save_model = './model'\n",
    "os.makedirs(save_model, exist_ok=True)\n",
    "model_name = 'SR_Unet_NoSkip'\n",
    "\n",
    "model, metrics = train(\n",
    "    model, model_name, save_model, optimizer, criterion, train_loader, val_loader, num_epochs, device\n",
    ")"
   ]
  },
  {
   "cell_type": "code",
   "execution_count": 16,
   "id": "87fa453b",
   "metadata": {
    "execution": {
     "iopub.execute_input": "2025-01-12T07:10:59.200614Z",
     "iopub.status.busy": "2025-01-12T07:10:59.200314Z",
     "iopub.status.idle": "2025-01-12T07:10:59.357026Z",
     "shell.execute_reply": "2025-01-12T07:10:59.356120Z"
    },
    "papermill": {
     "duration": 0.16854,
     "end_time": "2025-01-12T07:10:59.359383",
     "exception": false,
     "start_time": "2025-01-12T07:10:59.190843",
     "status": "completed"
    },
    "tags": []
   },
   "outputs": [
    {
     "data": {
      "image/png": "[encoded data removed]",
      "text/plain": [
       "<Figure size 600x600 with 1 Axes>"
      ]
     },
     "metadata": {},
     "output_type": "display_data"
    }
   ],
   "source": [
    "import matplotlib.pyplot as plt\n",
    "\n",
    "def plot_result(num_epochs, train_losses, eval_losses):\n",
    "    epochs = list(range(num_epochs))\n",
    "    fig, ax = plt.subplots(figsize=(6, 6))\n",
    "    ax.plot(epochs, train_losses, label=\"Training Loss\")\n",
    "    ax.plot(epochs, eval_losses, label=\"Evaluation Loss\")\n",
    "    ax.set_xlabel(\"Epochs\")\n",
    "    ax.set_ylabel(\"Loss\")\n",
    "    ax.legend()  \n",
    "    plt.show()  \n",
    "\n",
    "plot_result(\n",
    "    num_epochs,\n",
    "    metrics[\"train_loss\"],\n",
    "    metrics[\"valid_loss\"]\n",
    ")\n"
   ]
  },
  {
   "cell_type": "code",
   "execution_count": 17,
   "id": "9c1d2deb",
   "metadata": {
    "execution": {
     "iopub.execute_input": "2025-01-12T07:10:59.380565Z",
     "iopub.status.busy": "2025-01-12T07:10:59.380326Z",
     "iopub.status.idle": "2025-01-12T07:10:59.456986Z",
     "shell.execute_reply": "2025-01-12T07:10:59.456007Z"
    },
    "papermill": {
     "duration": 0.08776,
     "end_time": "2025-01-12T07:10:59.458143",
     "exception": true,
     "start_time": "2025-01-12T07:10:59.370383",
     "status": "failed"
    },
    "tags": []
   },
   "outputs": [
    {
     "ename": "NameError",
     "evalue": "name 'test_dataloader' is not defined",
     "output_type": "error",
     "traceback": [
      "\u001b[0;31m---------------------------------------------------------------------------\u001b[0m",
      "\u001b[0;31mNameError\u001b[0m                                 Traceback (most recent call last)",
      "\u001b[0;32m<ipython-input-17-f720eabafb6b>\u001b[0m in \u001b[0;36m<cell line: 1>\u001b[0;34m()\u001b[0m\n\u001b[0;32m----> 1\u001b[0;31m \u001b[0mtest_loss\u001b[0m \u001b[0;34m=\u001b[0m \u001b[0mevaluate_epoch\u001b[0m\u001b[0;34m(\u001b[0m\u001b[0mmodel\u001b[0m\u001b[0;34m,\u001b[0m \u001b[0mcriterion\u001b[0m\u001b[0;34m,\u001b[0m \u001b[0mtest_dataloader\u001b[0m\u001b[0;34m,\u001b[0m \u001b[0mdevice\u001b[0m\u001b[0;34m)\u001b[0m\u001b[0;34m\u001b[0m\u001b[0;34m\u001b[0m\u001b[0m\n\u001b[0m\u001b[1;32m      2\u001b[0m \u001b[0mtest_loss\u001b[0m\u001b[0;34m\u001b[0m\u001b[0;34m\u001b[0m\u001b[0m\n",
      "\u001b[0;31mNameError\u001b[0m: name 'test_dataloader' is not defined"
     ]
    }
   ],
   "source": [
    "test_loss = evaluate_epoch(model, criterion, test_dataloader, device)\n",
    "test_loss"
   ]
  }
 ],
 "metadata": {
  "kaggle": {
   "accelerator": "nvidiaTeslaT4",
   "dataSources": [
    {
     "datasetId": 6467220,
     "sourceId": 10448185,
     "sourceType": "datasetVersion"
    }
   ],
   "dockerImageVersionId": 30823,
   "isGpuEnabled": true,
   "isInternetEnabled": true,
   "language": "python",
   "sourceType": "notebook"
  },
  "kernelspec": {
   "display_name": "Python 3",
   "language": "python",
   "name": "python3"
  },
  "language_info": {
   "codemirror_mode": {
    "name": "ipython",
    "version": 3
   },
   "file_extension": ".py",
   "mimetype": "text/x-python",
   "name": "python",
   "nbconvert_exporter": "python",
   "pygments_lexer": "ipython3",
   "version": "3.10.12"
  },
  "papermill": {
   "default_parameters": {},
   "duration": 3285.429748,
   "end_time": "2025-01-12T07:11:00.890763",
   "environment_variables": {},
   "exception": true,
   "input_path": "__notebook__.ipynb",
   "output_path": "__notebook__.ipynb",
   "parameters": {},
   "start_time": "2025-01-12T06:16:15.461015",
   "version": "2.6.0"
  }
 },
 "nbformat": 4,
 "nbformat_minor": 5
}
