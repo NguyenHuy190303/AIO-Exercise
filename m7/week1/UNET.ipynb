{
  "cells": [
    {
      "cell_type": "code",
      "execution_count": 1,
      "metadata": {
        "id": "tw2BTZNSeR2f"
      },
      "outputs": [],
      "source": [
        "import torch\n",
        "import torch.nn as nn\n"
      ]
    },
    {
      "cell_type": "markdown",
      "metadata": {},
      "source": [
        "- $H_{out} = (M - 1) \\cdot S - 2P + (K - 1) + 1$\n",
        "- $W_{out} = (N - 1) \\cdot T - 2Q + (O - 1) + 1$"
      ]
    },
    {
      "cell_type": "markdown",
      "metadata": {
        "id": "x2SqeKbmfqlP"
      },
      "source": [
        "## Problem 1: Skip Connection Unet Architecture"
      ]
    },
    {
      "cell_type": "code",
      "execution_count": 6,
      "metadata": {
        "id": "iiJkcbAQ9kDZ"
      },
      "outputs": [],
      "source": [
        "#  Tạo feature map ban đầu từ input\n",
        "class FirstFeature(nn.Module):\n",
        "    def __init__(self, in_channels, out_channels):\n",
        "        super(FirstFeature, self).__init__()\n",
        "        self.conv = nn.Sequential(\n",
        "            nn.Conv2d(in_channels, out_channels, 1, 1, 0, bias=False),\n",
        "            nn.LeakyReLU()\n",
        "        )\n",
        "\n",
        "    def forward(self, x):\n",
        "        return self.conv(x)\n",
        "\n",
        "# Khối convolution cơ bản để trích xuất đặc trưng\n",
        "class ConvBlock(nn.Module):\n",
        "    def __init__(self, in_channels, out_channels):\n",
        "        super(ConvBlock, self).__init__()\n",
        "        self.conv = nn.Sequential(\n",
        "            nn.Conv2d(in_channels, out_channels, 3, 1, 1, bias=False),\n",
        "            nn.BatchNorm2d(out_channels),\n",
        "            nn.LeakyReLU(inplace=True),\n",
        "            nn.Conv2d(out_channels, out_channels, 3, 1, 1, bias=False),\n",
        "            nn.BatchNorm2d(out_channels),\n",
        "            nn.LeakyReLU(inplace=True),\n",
        "        )\n",
        "\n",
        "    def forward(self, x):\n",
        "        return self.conv(x)\n",
        "\n",
        "\n",
        "# Để giảm size của feature map và trích xuất các high-level feature.\n",
        "class Encoder(nn.Module):\n",
        "    def __init__(self, in_channels, out_channels) -> None:\n",
        "        super().__init__()\n",
        "        self.encoder = nn.Sequential(\n",
        "            # kernel size = 2, stride = 2 --> giảm 1 nửa\n",
        "            nn.MaxPool2d(2),\n",
        "            ConvBlock(in_channels, out_channels)\n",
        "        )\n",
        "\n",
        "    def forward(self, x):\n",
        "        x = self.encoder(x)\n",
        "        return x\n",
        "\n",
        "# Để tăng kích thước feature map và kết hợp với feature map tương ứng từ Encoder(skip connection).\n",
        "class Decoder(nn.Module):\n",
        "    def __init__(self, in_channels, out_channels):\n",
        "        super(Decoder, self).__init__()\n",
        "        self.conv = nn.Sequential(\n",
        "            nn.UpsamplingBilinear2d(scale_factor=2),\n",
        "            nn.Conv2d(in_channels, out_channels, 1, 1, 0, bias=False),\n",
        "            nn.BatchNorm2d(out_channels),\n",
        "            nn.LeakyReLU(),\n",
        "        )\n",
        "        self.conv_block = ConvBlock(in_channels, out_channels)\n",
        "\n",
        "    def forward(self, x, skip):\n",
        "        x = self.conv(x)\n",
        "        x = torch.concat([x, skip], dim=1)\n",
        "        x = self.conv_block(x)\n",
        "        return x\n",
        "\n",
        "# Tạo ra đầu ra cuối cùng từ feature map cuối cùng.\n",
        "class FinalOutput(nn.Module):\n",
        "    def __init__(self, in_channels, out_channels):\n",
        "        super(FinalOutput, self).__init__()\n",
        "        self.conv = nn.Sequential(\n",
        "            nn.Conv2d(in_channels, out_channels, 1, 1, 0, bias=False),\n",
        "            nn.Tanh()\n",
        "        )\n",
        "\n",
        "    def forward(self, x):\n",
        "        return self.conv(x)\n",
        "\n",
        "\n",
        "class Unet(nn.Module):\n",
        "    def __init__(\n",
        "            self, n_channels=3, n_classes=3, features=[64, 128, 256, 512],\n",
        "    ):\n",
        "        super(Unet, self).__init__()\n",
        "\n",
        "        self.n_channels = n_channels\n",
        "        self.n_classes = n_classes\n",
        "\n",
        "        self.in_conv1 = FirstFeature(n_channels, 64)\n",
        "        self.in_conv2 = ConvBlock(64, 64)\n",
        "\n",
        "        self.enc_1 = Encoder(64, 128)\n",
        "        self.enc_2 = Encoder(128, 256)\n",
        "        self.enc_3 = Encoder(256, 512)\n",
        "        self.enc_4 = Encoder(512, 1024)\n",
        "\n",
        "        self.dec_1 = Decoder(1024, 512)\n",
        "        self.dec_2 = Decoder(512, 256)\n",
        "        self.dec_3 = Decoder(256, 128)\n",
        "        self.dec_4 = Decoder(128, 64)\n",
        "\n",
        "        self.out_conv = FinalOutput(64, n_classes)\n",
        "\n",
        "\n",
        "    def forward(self, x):\n",
        "        x = self.in_conv1(x)\n",
        "        x = self.in_conv2(x)\n",
        "\n",
        "        x1 = self.enc_1(x)\n",
        "        x2 = self.enc_2(x1)\n",
        "        x3 = self.enc_3(x2)\n",
        "        x4 = self.enc_4(x3)\n",
        "\n",
        "        x5 = self.dec_1(x4, x3)\n",
        "        x6 = self.dec_2(x5, x2)\n",
        "        x7 = self.dec_3(x6, x1)\n",
        "        x8 = self.dec_4(x7, x)\n",
        "\n",
        "        output = self.out_conv(x8)\n",
        "        return output"
      ]
    },
    {
      "cell_type": "code",
      "execution_count": 7,
      "metadata": {
        "colab": {
          "base_uri": "https://localhost:8080/"
        },
        "id": "z5s7mjgSDIuo",
        "outputId": "828d6450-2d03-4f85-8d58-e92a912835a1"
      },
      "outputs": [
        {
          "data": {
            "text/plain": [
              "torch.Size([2, 3, 256, 256])"
            ]
          },
          "execution_count": 7,
          "metadata": {},
          "output_type": "execute_result"
        }
      ],
      "source": [
        "unet_model = Unet()\n",
        "img = torch.ones(2, 3, 256, 256)\n",
        "unet_model(img).shape"
      ]
    },
    {
      "cell_type": "code",
      "execution_count": null,
      "metadata": {
        "id": "lxmdDdXm9YcL"
      },
      "outputs": [],
      "source": []
    }
  ],
  "metadata": {
    "colab": {
      "provenance": [],
      "toc_visible": true
    },
    "kernelspec": {
      "display_name": "AIOEx",
      "language": "python",
      "name": "python3"
    },
    "language_info": {
      "codemirror_mode": {
        "name": "ipython",
        "version": 3
      },
      "file_extension": ".py",
      "mimetype": "text/x-python",
      "name": "python",
      "nbconvert_exporter": "python",
      "pygments_lexer": "ipython3",
      "version": "3.10.15"
    }
  },
  "nbformat": 4,
  "nbformat_minor": 0
}
