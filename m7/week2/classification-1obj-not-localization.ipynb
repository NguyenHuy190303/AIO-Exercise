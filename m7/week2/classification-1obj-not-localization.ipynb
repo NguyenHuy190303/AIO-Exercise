{
 "cells": [
  {
   "cell_type": "code",
   "execution_count": 1,
   "id": "7655d095",
   "metadata": {
    "execution": {
     "iopub.execute_input": "2025-01-16T16:00:20.358587Z",
     "iopub.status.busy": "2025-01-16T16:00:20.358314Z",
     "iopub.status.idle": "2025-01-16T16:00:29.968487Z",
     "shell.execute_reply": "2025-01-16T16:00:29.967549Z"
    },
    "papermill": {
     "duration": 9.615335,
     "end_time": "2025-01-16T16:00:29.970181",
     "exception": false,
     "start_time": "2025-01-16T16:00:20.354846",
     "status": "completed"
    },
    "tags": []
   },
   "outputs": [],
   "source": [
    "import os\n",
    "import torch\n",
    "import numpy as np\n",
    "import pandas as pd\n",
    "import seaborn as sns\n",
    "import torch.nn as nn\n",
    "import torch.optim as optim\n",
    "import matplotlib.pyplot as plt\n",
    "import xml.etree.ElementTree as ET\n",
    "\n",
    "from PIL import Image\n",
    "from torchvision import transforms, models\n",
    "from torch.utils.data import Dataset, DataLoader\n",
    "from sklearn.metrics import confusion_matrix\n",
    "from sklearn.model_selection import train_test_split\n",
    "from torchvision.models.resnet import ResNet18_Weights"
   ]
  },
  {
   "cell_type": "code",
   "execution_count": 2,
   "id": "51219fa8",
   "metadata": {
    "execution": {
     "iopub.execute_input": "2025-01-16T16:00:29.976178Z",
     "iopub.status.busy": "2025-01-16T16:00:29.975798Z",
     "iopub.status.idle": "2025-01-16T16:00:29.982386Z",
     "shell.execute_reply": "2025-01-16T16:00:29.981776Z"
    },
    "papermill": {
     "duration": 0.010624,
     "end_time": "2025-01-16T16:00:29.983570",
     "exception": false,
     "start_time": "2025-01-16T16:00:29.972946",
     "status": "completed"
    },
    "tags": []
   },
   "outputs": [],
   "source": [
    "class ImageDataset(Dataset):\n",
    "    def __init__(self, image_dir, annotation_dir, transform = None):\n",
    "        super().__init__()\n",
    "        self.images_dir = image_dir\n",
    "        self.annotations_dir = annotation_dir\n",
    "        self.transform = transform\n",
    "    \n",
    "    def __len__(self):\n",
    "        return len(self.images_dir)\n",
    "    \n",
    "    def __getitem__(self, index):\n",
    "        image = Image.open(self.images_dir[index]).convert('RGB')\n",
    "        label = self.parse_annotation(self.annotations_dir[index])\n",
    "        \n",
    "        if self.transform != None:\n",
    "            image = self.transform(image)\n",
    "\n",
    "        return image, label \n",
    "\n",
    "    \n",
    "    def parse_annotation(self, annotation_path):\n",
    "        tree = ET.parse(annotation_path)\n",
    "        root = tree.getroot()\n",
    "\n",
    "        # Khởi tạo label\n",
    "        label = None\n",
    "\n",
    "        for obj in root.findall('object'):\n",
    "            name = obj.find('name').text\n",
    "            if label is None:\n",
    "                label = name\n",
    "\n",
    "        # Convert label to numerical representation (0 for cat, 1 for dog)\n",
    "        label_num = 0 if label == \"cat\" else 1 if label == \"dog\" else -1\n",
    "        return label_num"
   ]
  },
  {
   "cell_type": "code",
   "execution_count": 3,
   "id": "2be9b356",
   "metadata": {
    "execution": {
     "iopub.execute_input": "2025-01-16T16:00:29.988536Z",
     "iopub.status.busy": "2025-01-16T16:00:29.988277Z",
     "iopub.status.idle": "2025-01-16T16:00:29.992642Z",
     "shell.execute_reply": "2025-01-16T16:00:29.992011Z"
    },
    "papermill": {
     "duration": 0.008227,
     "end_time": "2025-01-16T16:00:29.993902",
     "exception": false,
     "start_time": "2025-01-16T16:00:29.985675",
     "status": "completed"
    },
    "tags": []
   },
   "outputs": [],
   "source": [
    "def get_count_filename_obj(annotation_path):\n",
    "    tree = ET.parse(annotation_path)\n",
    "    root = tree.getroot()\n",
    "    count = 0\n",
    "\n",
    "    for obj in root.findall('object'):\n",
    "        count += 1\n",
    "    return count\n",
    "\n",
    "\n",
    "def filter_images_with_multiple_obj(images_path, annotations_paths):\n",
    "        valid_img_paths = []\n",
    "        valid_img_annotation_paths = []\n",
    "        for index, annotation_path in enumerate(annotations_paths):\n",
    "            count = get_count_filename_obj(annotation_path)\n",
    "            if count <= 1:\n",
    "                valid_img_paths.append(images_path[index])\n",
    "                valid_img_annotation_paths.append(annotations_paths[index])\n",
    "            else:\n",
    "                print(\n",
    "                    f\"Image {images_path[index]} has multiple objects and will be excluded from the dataset\")\n",
    "\n",
    "        print(f\"Total has {len(valid_img_paths)} valid image\")\n",
    "\n",
    "        return valid_img_paths, valid_img_annotation_paths"
   ]
  },
  {
   "cell_type": "code",
   "execution_count": 4,
   "id": "f09aa5c1",
   "metadata": {
    "execution": {
     "iopub.execute_input": "2025-01-16T16:00:29.998975Z",
     "iopub.status.busy": "2025-01-16T16:00:29.998780Z",
     "iopub.status.idle": "2025-01-16T16:00:47.689750Z",
     "shell.execute_reply": "2025-01-16T16:00:47.688926Z"
    },
    "papermill": {
     "duration": 17.694848,
     "end_time": "2025-01-16T16:00:47.690901",
     "exception": false,
     "start_time": "2025-01-16T16:00:29.996053",
     "status": "completed"
    },
    "tags": []
   },
   "outputs": [
    {
     "name": "stdout",
     "output_type": "stream",
     "text": [
      "Image /kaggle/input/dog-and-cat-detection/images/Cats_Test1747.png has multiple objects and will be excluded from the dataset\n",
      "Total has 3685 valid image\n",
      "Training set size: 2948\n",
      "Validation set size: 737\n"
     ]
    },
    {
     "data": {
      "text/plain": [
       "'/kaggle/input/dog-and-cat-detection/annotations/Cats_Test1919.xml'"
      ]
     },
     "execution_count": 4,
     "metadata": {},
     "output_type": "execute_result"
    }
   ],
   "source": [
    "# Data directory\n",
    "annotations_dir = '/kaggle/input/dog-and-cat-detection/annotations'\n",
    "image_dir = '/kaggle/input/dog-and-cat-detection/images'\n",
    "\n",
    "image_files = [os.path.join(image_dir, f) for f in os.listdir(\n",
    "    image_dir) if os.path.isfile(os.path.join(image_dir, f))]\n",
    "annotations_files = [os.path.join(annotations_dir, f) for f in os.listdir(\n",
    "    annotations_dir) if os.path.isfile(os.path.join(annotations_dir, f))]\n",
    "\n",
    "# filter image > 1 obj\n",
    "\n",
    "image_files, annotations_files = filter_images_with_multiple_obj(image_files, annotations_files)\n",
    "\n",
    "x_train, x_val, y_train, y_val = train_test_split(\n",
    "    image_files, annotations_files, test_size=0.2, random_state=42)\n",
    "\n",
    "# Output the result\n",
    "print(\"Training set size:\", len(x_train))\n",
    "print(\"Validation set size:\", len(x_val))\n",
    "\n",
    "y_train[0]"
   ]
  },
  {
   "cell_type": "code",
   "execution_count": 5,
   "id": "0ddb1ef1",
   "metadata": {
    "execution": {
     "iopub.execute_input": "2025-01-16T16:00:47.696848Z",
     "iopub.status.busy": "2025-01-16T16:00:47.696598Z",
     "iopub.status.idle": "2025-01-16T16:00:47.701314Z",
     "shell.execute_reply": "2025-01-16T16:00:47.700488Z"
    },
    "papermill": {
     "duration": 0.008914,
     "end_time": "2025-01-16T16:00:47.702563",
     "exception": false,
     "start_time": "2025-01-16T16:00:47.693649",
     "status": "completed"
    },
    "tags": []
   },
   "outputs": [],
   "source": [
    "transform = transforms.Compose([\n",
    "    transforms.Resize((224, 224)),\n",
    "    transforms.ToTensor(),\n",
    "    transforms.Normalize(mean=[0.485, 0.456, 0.406], std=[0.229, 0.224, 0.225])\n",
    "])\n",
    "\n",
    "# Datasets\n",
    "train_dataset = ImageDataset(x_train, y_train, transform=transform)\n",
    "val_dataset = ImageDataset(x_val, y_val, transform=transform)\n",
    "\n",
    "# Dataloaders\n",
    "train_loader = DataLoader(train_dataset, batch_size=32, shuffle=True)\n",
    "val_loader = DataLoader(val_dataset, batch_size=32, shuffle=False)"
   ]
  },
  {
   "cell_type": "code",
   "execution_count": 6,
   "id": "b7e2b100",
   "metadata": {
    "execution": {
     "iopub.execute_input": "2025-01-16T16:00:47.707902Z",
     "iopub.status.busy": "2025-01-16T16:00:47.707703Z",
     "iopub.status.idle": "2025-01-16T16:00:48.507504Z",
     "shell.execute_reply": "2025-01-16T16:00:48.506679Z"
    },
    "papermill": {
     "duration": 0.803941,
     "end_time": "2025-01-16T16:00:48.508819",
     "exception": false,
     "start_time": "2025-01-16T16:00:47.704878",
     "status": "completed"
    },
    "tags": []
   },
   "outputs": [
    {
     "name": "stdout",
     "output_type": "stream",
     "text": [
      "Labels: tensor([1, 1, 0, 0, 1, 1, 1, 1])\n"
     ]
    },
    {
     "data": {
      "image/png": "[encoded data removed]",
      "text/plain": [
       "<Figure size 640x480 with 1 Axes>"
      ]
     },
     "metadata": {},
     "output_type": "display_data"
    }
   ],
   "source": [
    "import matplotlib.pyplot as plt\n",
    "import torchvision\n",
    "\n",
    "# Hàm để hiển thị hình ảnh\n",
    "def imshow(img):\n",
    "    np_img = img.numpy()\n",
    "    plt.imshow(np.transpose(np_img, (1, 2, 0)))\n",
    "    plt.axis('off')  # Ẩn trục tọa độ\n",
    "    plt.show()\n",
    "\n",
    "\n",
    "# Lấy một batch từ train_loader và hiển thị ảnh\n",
    "for i, (input_img, labels) in enumerate(train_loader, 0):\n",
    "    print(f\"Labels: {labels[:8]}\")  # In nhãn của 8 ảnh đầu tiên\n",
    "    # Hiển thị 8 ảnh đầu tiên\n",
    "    imshow(torchvision.utils.make_grid(input_img[:8]))\n",
    "    break  # Thoát khỏi vòng lặp sau batch đầu tiên"
   ]
  },
  {
   "cell_type": "markdown",
   "id": "eccbd54c",
   "metadata": {
    "papermill": {
     "duration": 0.00351,
     "end_time": "2025-01-16T16:00:48.516326",
     "exception": false,
     "start_time": "2025-01-16T16:00:48.512816",
     "status": "completed"
    },
    "tags": []
   },
   "source": [
    "### Xây dựng model"
   ]
  },
  {
   "cell_type": "code",
   "execution_count": 7,
   "id": "b9e771db",
   "metadata": {
    "execution": {
     "iopub.execute_input": "2025-01-16T16:00:48.525017Z",
     "iopub.status.busy": "2025-01-16T16:00:48.524716Z",
     "iopub.status.idle": "2025-01-16T16:00:49.434342Z",
     "shell.execute_reply": "2025-01-16T16:00:49.433355Z"
    },
    "papermill": {
     "duration": 0.915508,
     "end_time": "2025-01-16T16:00:49.435906",
     "exception": false,
     "start_time": "2025-01-16T16:00:48.520398",
     "status": "completed"
    },
    "tags": []
   },
   "outputs": [
    {
     "name": "stderr",
     "output_type": "stream",
     "text": [
      "Downloading: \"https://download.pytorch.org/models/resnet18-f37072fd.pth\" to /root/.cache/torch/hub/checkpoints/resnet18-f37072fd.pth\n",
      "100%|██████████| 44.7M/44.7M [00:00<00:00, 170MB/s]\n"
     ]
    },
    {
     "name": "stdout",
     "output_type": "stream",
     "text": [
      "ResNet(\n",
      "  (conv1): Conv2d(3, 64, kernel_size=(7, 7), stride=(2, 2), padding=(3, 3), bias=False)\n",
      "  (bn1): BatchNorm2d(64, eps=1e-05, momentum=0.1, affine=True, track_running_stats=True)\n",
      "  (relu): ReLU(inplace=True)\n",
      "  (maxpool): MaxPool2d(kernel_size=3, stride=2, padding=1, dilation=1, ceil_mode=False)\n",
      "  (layer1): Sequential(\n",
      "    (0): BasicBlock(\n",
      "      (conv1): Conv2d(64, 64, kernel_size=(3, 3), stride=(1, 1), padding=(1, 1), bias=False)\n",
      "      (bn1): BatchNorm2d(64, eps=1e-05, momentum=0.1, affine=True, track_running_stats=True)\n",
      "      (relu): ReLU(inplace=True)\n",
      "      (conv2): Conv2d(64, 64, kernel_size=(3, 3), stride=(1, 1), padding=(1, 1), bias=False)\n",
      "      (bn2): BatchNorm2d(64, eps=1e-05, momentum=0.1, affine=True, track_running_stats=True)\n",
      "    )\n",
      "    (1): BasicBlock(\n",
      "      (conv1): Conv2d(64, 64, kernel_size=(3, 3), stride=(1, 1), padding=(1, 1), bias=False)\n",
      "      (bn1): BatchNorm2d(64, eps=1e-05, momentum=0.1, affine=True, track_running_stats=True)\n",
      "      (relu): ReLU(inplace=True)\n",
      "      (conv2): Conv2d(64, 64, kernel_size=(3, 3), stride=(1, 1), padding=(1, 1), bias=False)\n",
      "      (bn2): BatchNorm2d(64, eps=1e-05, momentum=0.1, affine=True, track_running_stats=True)\n",
      "    )\n",
      "  )\n",
      "  (layer2): Sequential(\n",
      "    (0): BasicBlock(\n",
      "      (conv1): Conv2d(64, 128, kernel_size=(3, 3), stride=(2, 2), padding=(1, 1), bias=False)\n",
      "      (bn1): BatchNorm2d(128, eps=1e-05, momentum=0.1, affine=True, track_running_stats=True)\n",
      "      (relu): ReLU(inplace=True)\n",
      "      (conv2): Conv2d(128, 128, kernel_size=(3, 3), stride=(1, 1), padding=(1, 1), bias=False)\n",
      "      (bn2): BatchNorm2d(128, eps=1e-05, momentum=0.1, affine=True, track_running_stats=True)\n",
      "      (downsample): Sequential(\n",
      "        (0): Conv2d(64, 128, kernel_size=(1, 1), stride=(2, 2), bias=False)\n",
      "        (1): BatchNorm2d(128, eps=1e-05, momentum=0.1, affine=True, track_running_stats=True)\n",
      "      )\n",
      "    )\n",
      "    (1): BasicBlock(\n",
      "      (conv1): Conv2d(128, 128, kernel_size=(3, 3), stride=(1, 1), padding=(1, 1), bias=False)\n",
      "      (bn1): BatchNorm2d(128, eps=1e-05, momentum=0.1, affine=True, track_running_stats=True)\n",
      "      (relu): ReLU(inplace=True)\n",
      "      (conv2): Conv2d(128, 128, kernel_size=(3, 3), stride=(1, 1), padding=(1, 1), bias=False)\n",
      "      (bn2): BatchNorm2d(128, eps=1e-05, momentum=0.1, affine=True, track_running_stats=True)\n",
      "    )\n",
      "  )\n",
      "  (layer3): Sequential(\n",
      "    (0): BasicBlock(\n",
      "      (conv1): Conv2d(128, 256, kernel_size=(3, 3), stride=(2, 2), padding=(1, 1), bias=False)\n",
      "      (bn1): BatchNorm2d(256, eps=1e-05, momentum=0.1, affine=True, track_running_stats=True)\n",
      "      (relu): ReLU(inplace=True)\n",
      "      (conv2): Conv2d(256, 256, kernel_size=(3, 3), stride=(1, 1), padding=(1, 1), bias=False)\n",
      "      (bn2): BatchNorm2d(256, eps=1e-05, momentum=0.1, affine=True, track_running_stats=True)\n",
      "      (downsample): Sequential(\n",
      "        (0): Conv2d(128, 256, kernel_size=(1, 1), stride=(2, 2), bias=False)\n",
      "        (1): BatchNorm2d(256, eps=1e-05, momentum=0.1, affine=True, track_running_stats=True)\n",
      "      )\n",
      "    )\n",
      "    (1): BasicBlock(\n",
      "      (conv1): Conv2d(256, 256, kernel_size=(3, 3), stride=(1, 1), padding=(1, 1), bias=False)\n",
      "      (bn1): BatchNorm2d(256, eps=1e-05, momentum=0.1, affine=True, track_running_stats=True)\n",
      "      (relu): ReLU(inplace=True)\n",
      "      (conv2): Conv2d(256, 256, kernel_size=(3, 3), stride=(1, 1), padding=(1, 1), bias=False)\n",
      "      (bn2): BatchNorm2d(256, eps=1e-05, momentum=0.1, affine=True, track_running_stats=True)\n",
      "    )\n",
      "  )\n",
      "  (layer4): Sequential(\n",
      "    (0): BasicBlock(\n",
      "      (conv1): Conv2d(256, 512, kernel_size=(3, 3), stride=(2, 2), padding=(1, 1), bias=False)\n",
      "      (bn1): BatchNorm2d(512, eps=1e-05, momentum=0.1, affine=True, track_running_stats=True)\n",
      "      (relu): ReLU(inplace=True)\n",
      "      (conv2): Conv2d(512, 512, kernel_size=(3, 3), stride=(1, 1), padding=(1, 1), bias=False)\n",
      "      (bn2): BatchNorm2d(512, eps=1e-05, momentum=0.1, affine=True, track_running_stats=True)\n",
      "      (downsample): Sequential(\n",
      "        (0): Conv2d(256, 512, kernel_size=(1, 1), stride=(2, 2), bias=False)\n",
      "        (1): BatchNorm2d(512, eps=1e-05, momentum=0.1, affine=True, track_running_stats=True)\n",
      "      )\n",
      "    )\n",
      "    (1): BasicBlock(\n",
      "      (conv1): Conv2d(512, 512, kernel_size=(3, 3), stride=(1, 1), padding=(1, 1), bias=False)\n",
      "      (bn1): BatchNorm2d(512, eps=1e-05, momentum=0.1, affine=True, track_running_stats=True)\n",
      "      (relu): ReLU(inplace=True)\n",
      "      (conv2): Conv2d(512, 512, kernel_size=(3, 3), stride=(1, 1), padding=(1, 1), bias=False)\n",
      "      (bn2): BatchNorm2d(512, eps=1e-05, momentum=0.1, affine=True, track_running_stats=True)\n",
      "    )\n",
      "  )\n",
      "  (avgpool): AdaptiveAvgPool2d(output_size=(1, 1))\n",
      "  (fc): Linear(in_features=512, out_features=2, bias=True)\n",
      ")\n"
     ]
    }
   ],
   "source": [
    "# Model\n",
    "model = models.resnet18(weights=ResNet18_Weights.DEFAULT)\n",
    "num_ftrs = model.fc.in_features\n",
    "model.fc = nn.Linear(num_ftrs, 2)  # 2 classes: cat and dog\n",
    "\n",
    "# Device\n",
    "device = torch.device(\"cuda\" if torch.cuda.is_available() else \"cpu\")\n",
    "model.to(device)\n",
    "\n",
    "# Loss and Optimizer\n",
    "criterion = nn.CrossEntropyLoss()\n",
    "optimizer = optim.Adam(model.parameters(), lr=0.001)\n",
    "\n",
    "# Show model summary\n",
    "print(model)"
   ]
  },
  {
   "cell_type": "code",
   "execution_count": 8,
   "id": "c3cfb7f6",
   "metadata": {
    "execution": {
     "iopub.execute_input": "2025-01-16T16:00:49.445317Z",
     "iopub.status.busy": "2025-01-16T16:00:49.445072Z",
     "iopub.status.idle": "2025-01-16T16:13:16.228594Z",
     "shell.execute_reply": "2025-01-16T16:13:16.227657Z"
    },
    "papermill": {
     "duration": 746.794611,
     "end_time": "2025-01-16T16:13:16.234906",
     "exception": false,
     "start_time": "2025-01-16T16:00:49.440295",
     "status": "completed"
    },
    "tags": []
   },
   "outputs": [
    {
     "name": "stdout",
     "output_type": "stream",
     "text": [
      "Epoch 1/20, Validation Accuracy: 68.25%\n",
      "Epoch 2/20, Validation Accuracy: 68.25%\n",
      "Epoch 3/20, Validation Accuracy: 68.25%\n",
      "Epoch 4/20, Validation Accuracy: 68.25%\n",
      "Epoch 5/20, Validation Accuracy: 68.39%\n",
      "Epoch 6/20, Validation Accuracy: 68.25%\n",
      "Epoch 7/20, Validation Accuracy: 68.25%\n",
      "Epoch 8/20, Validation Accuracy: 68.25%\n",
      "Epoch 9/20, Validation Accuracy: 64.72%\n",
      "Epoch 10/20, Validation Accuracy: 68.25%\n",
      "Epoch 11/20, Validation Accuracy: 68.25%\n",
      "Epoch 12/20, Validation Accuracy: 68.25%\n",
      "Epoch 13/20, Validation Accuracy: 68.11%\n",
      "Epoch 14/20, Validation Accuracy: 68.52%\n",
      "Epoch 15/20, Validation Accuracy: 68.39%\n",
      "Epoch 16/20, Validation Accuracy: 68.25%\n",
      "Epoch 17/20, Validation Accuracy: 68.11%\n",
      "Epoch 18/20, Validation Accuracy: 68.25%\n",
      "Epoch 19/20, Validation Accuracy: 58.34%\n",
      "Epoch 20/20, Validation Accuracy: 68.25%\n"
     ]
    }
   ],
   "source": [
    "# Training Loop\n",
    "num_epochs = 20\n",
    "for epoch in range(num_epochs):\n",
    "    model.train()\n",
    "    for batch_idx, (data, targets) in enumerate(train_loader):\n",
    "        data = data.to(device)\n",
    "        targets = targets.to(device)\n",
    "\n",
    "        # Forward pass\n",
    "        scores = model(data)\n",
    "        loss = criterion(scores, targets)\n",
    "\n",
    "        # Backward pass and optimization\n",
    "        optimizer.zero_grad()\n",
    "        loss.backward()\n",
    "        optimizer.step()\n",
    "\n",
    "    # Validation\n",
    "    model.eval()\n",
    "    with torch.no_grad():\n",
    "        correct = 0\n",
    "        total = 0\n",
    "        for data, targets in val_loader:\n",
    "            data = data.to(device)\n",
    "            targets = targets.to(device)\n",
    "\n",
    "            # Forward pass\n",
    "            scores = model(data)\n",
    "            _, predictions = scores.max(1)\n",
    "            correct += (predictions == targets).sum().item()\n",
    "            total += targets.size(0)\n",
    "\n",
    "    # Print validation accuracy\n",
    "    accuracy = float(correct) / float(total) * 100\n",
    "    print(\n",
    "        f\"Epoch {epoch + 1}/{num_epochs}, Validation Accuracy: {accuracy:.2f}%\")"
   ]
  }
 ],
 "metadata": {
  "kaggle": {
   "accelerator": "nvidiaTeslaT4",
   "dataSources": [
    {
     "datasetId": 650614,
     "sourceId": 1151625,
     "sourceType": "datasetVersion"
    }
   ],
   "dockerImageVersionId": 30840,
   "isGpuEnabled": true,
   "isInternetEnabled": true,
   "language": "python",
   "sourceType": "notebook"
  },
  "kernelspec": {
   "display_name": "Python 3",
   "language": "python",
   "name": "python3"
  },
  "language_info": {
   "codemirror_mode": {
    "name": "ipython",
    "version": 3
   },
   "file_extension": ".py",
   "mimetype": "text/x-python",
   "name": "python",
   "nbconvert_exporter": "python",
   "pygments_lexer": "ipython3",
   "version": "3.10.12"
  },
  "papermill": {
   "default_parameters": {},
   "duration": 780.056522,
   "end_time": "2025-01-16T16:13:17.861808",
   "environment_variables": {},
   "exception": null,
   "input_path": "__notebook__.ipynb",
   "output_path": "__notebook__.ipynb",
   "parameters": {},
   "start_time": "2025-01-16T16:00:17.805286",
   "version": "2.6.0"
  }
 },
 "nbformat": 4,
 "nbformat_minor": 5
}
